{
  "nbformat": 4,
  "nbformat_minor": 0,
  "metadata": {
    "colab": {
      "name": "MNISTClassification.ipynb",
      "provenance": [],
      "collapsed_sections": [],
      "authorship_tag": "ABX9TyNbMZJKXaHSW6rbUV9VhbqO",
      "include_colab_link": true
    },
    "kernelspec": {
      "name": "python3",
      "display_name": "Python 3"
    }
  },
  "cells": [
    {
      "cell_type": "markdown",
      "metadata": {
        "id": "view-in-github",
        "colab_type": "text"
      },
      "source": [
        "<a href=\"https://colab.research.google.com/github/ParameshMalla/dataSciencePractiseNotebooks/blob/main/MNISTClassification.ipynb\" target=\"_parent\"><img src=\"https://colab.research.google.com/assets/colab-badge.svg\" alt=\"Open In Colab\"/></a>"
      ]
    },
    {
      "cell_type": "markdown",
      "metadata": {
        "id": "t7eWYXgcf35e"
      },
      "source": [
        "### Importing and Testing MNIST data"
      ]
    },
    {
      "cell_type": "code",
      "metadata": {
        "id": "BM8oOSJPhwMF"
      },
      "source": [
        "import sklearn\r\n",
        "assert sklearn.__version__ >= \"0.20\"\r\n",
        "\r\n",
        "# Common imports\r\n",
        "import numpy as np\r\n",
        "import os\r\n",
        "\r\n",
        "# to make this notebook's output stable across runs\r\n",
        "np.random.seed(42)\r\n",
        "\r\n",
        "# To plot pretty figures\r\n",
        "%matplotlib inline\r\n",
        "import matplotlib as mpl\r\n",
        "import matplotlib.pyplot as plt\r\n",
        "plt.style.use('fivethirtyeight')"
      ],
      "execution_count": 1,
      "outputs": []
    },
    {
      "cell_type": "code",
      "metadata": {
        "id": "Ao5WsHoSaibu"
      },
      "source": [
        "from sklearn.datasets import fetch_openml\n",
        "numbers = fetch_openml('mnist_784', version=1)"
      ],
      "execution_count": 2,
      "outputs": []
    },
    {
      "cell_type": "code",
      "metadata": {
        "colab": {
          "base_uri": "https://localhost:8080/"
        },
        "id": "4gzlChphbYni",
        "outputId": "a728d2e8-a014-43e8-e58a-0adf95d4bea0"
      },
      "source": [
        "type(numbers)"
      ],
      "execution_count": 3,
      "outputs": [
        {
          "output_type": "execute_result",
          "data": {
            "text/plain": [
              "sklearn.utils.Bunch"
            ]
          },
          "metadata": {
            "tags": []
          },
          "execution_count": 3
        }
      ]
    },
    {
      "cell_type": "code",
      "metadata": {
        "colab": {
          "base_uri": "https://localhost:8080/"
        },
        "id": "iMJon-9_bnft",
        "outputId": "a1ece4cd-7a48-49d4-aa19-d8b51a3adaaa"
      },
      "source": [
        "numbers.keys()"
      ],
      "execution_count": 4,
      "outputs": [
        {
          "output_type": "execute_result",
          "data": {
            "text/plain": [
              "dict_keys(['data', 'target', 'frame', 'feature_names', 'target_names', 'DESCR', 'details', 'categories', 'url'])"
            ]
          },
          "metadata": {
            "tags": []
          },
          "execution_count": 4
        }
      ]
    },
    {
      "cell_type": "code",
      "metadata": {
        "colab": {
          "base_uri": "https://localhost:8080/"
        },
        "id": "8TyZA2yNcxTO",
        "outputId": "1113051c-6fbf-420b-de7d-dbb89d64036f"
      },
      "source": [
        "numbers['data'].shape"
      ],
      "execution_count": 5,
      "outputs": [
        {
          "output_type": "execute_result",
          "data": {
            "text/plain": [
              "(70000, 784)"
            ]
          },
          "metadata": {
            "tags": []
          },
          "execution_count": 5
        }
      ]
    },
    {
      "cell_type": "code",
      "metadata": {
        "colab": {
          "base_uri": "https://localhost:8080/"
        },
        "id": "HXsrSkfBc11X",
        "outputId": "63fd2ec6-9408-45f6-a7d3-0d00db1ab40a"
      },
      "source": [
        "numbers['target'].shape"
      ],
      "execution_count": 6,
      "outputs": [
        {
          "output_type": "execute_result",
          "data": {
            "text/plain": [
              "(70000,)"
            ]
          },
          "metadata": {
            "tags": []
          },
          "execution_count": 6
        }
      ]
    },
    {
      "cell_type": "code",
      "metadata": {
        "id": "ZYPeZTVKiGx0"
      },
      "source": [
        "X, y = numbers['data'], numbers['target']"
      ],
      "execution_count": 7,
      "outputs": []
    },
    {
      "cell_type": "code",
      "metadata": {
        "id": "UsCvT2E3idD1"
      },
      "source": [
        "i = np.random.randint(0,70000)"
      ],
      "execution_count": 8,
      "outputs": []
    },
    {
      "cell_type": "code",
      "metadata": {
        "id": "Z74WBl3tseIM"
      },
      "source": [
        "def plot_digit(data):\r\n",
        "    image = data.reshape(28, 28)\r\n",
        "    plt.imshow(image, cmap = mpl.cm.binary,\r\n",
        "               interpolation=\"nearest\")\r\n",
        "    plt.axis(\"off\")"
      ],
      "execution_count": 9,
      "outputs": []
    },
    {
      "cell_type": "code",
      "metadata": {
        "colab": {
          "base_uri": "https://localhost:8080/",
          "height": 248
        },
        "id": "St_zA35-jbrc",
        "outputId": "b211bcb3-0ab1-48f0-bd34-7dbb7ed91f26"
      },
      "source": [
        "randigit = X[i]\r\n",
        "randigit_image = randigit.reshape(28,28)\r\n",
        "\r\n",
        "plot_digit(randigit)"
      ],
      "execution_count": 10,
      "outputs": [
        {
          "output_type": "display_data",
          "data": {
            "image/png": "[encoded data removed]",
            "text/plain": [
              "<Figure size 432x288 with 1 Axes>"
            ]
          },
          "metadata": {
            "tags": [],
            "needs_background": "light"
          }
        }
      ]
    },
    {
      "cell_type": "code",
      "metadata": {
        "colab": {
          "base_uri": "https://localhost:8080/",
          "height": 35
        },
        "id": "mTsk3A9flusd",
        "outputId": "4099d056-5398-48a2-f14e-06d2871c0776"
      },
      "source": [
        "y[i]"
      ],
      "execution_count": 11,
      "outputs": [
        {
          "output_type": "execute_result",
          "data": {
            "application/vnd.google.colaboratory.intrinsic+json": {
              "type": "string"
            },
            "text/plain": [
              "'0'"
            ]
          },
          "metadata": {
            "tags": []
          },
          "execution_count": 11
        }
      ]
    },
    {
      "cell_type": "code",
      "metadata": {
        "colab": {
          "base_uri": "https://localhost:8080/"
        },
        "id": "GjzZYB_Yl7yz",
        "outputId": "ee0c8947-ecb6-482f-e6c8-2ac17c3dce27"
      },
      "source": [
        "type(y[i])"
      ],
      "execution_count": 12,
      "outputs": [
        {
          "output_type": "execute_result",
          "data": {
            "text/plain": [
              "str"
            ]
          },
          "metadata": {
            "tags": []
          },
          "execution_count": 12
        }
      ]
    },
    {
      "cell_type": "code",
      "metadata": {
        "id": "Muou6UalmKiD"
      },
      "source": [
        "y = y.astype(np.uint8)"
      ],
      "execution_count": 13,
      "outputs": []
    },
    {
      "cell_type": "markdown",
      "metadata": {
        "id": "t2SZnl9imsQp"
      },
      "source": [
        "The MNIST dataset is  already split into a training set (the first 60,000\r\n",
        "images) and a test set (the last 10,000 images):"
      ]
    },
    {
      "cell_type": "code",
      "metadata": {
        "id": "TEKl76UQmchb"
      },
      "source": [
        "X_train, X_test, y_train, y_test = X[:60000], X[60000:], y[:60000], y[60000:]"
      ],
      "execution_count": 14,
      "outputs": []
    },
    {
      "cell_type": "markdown",
      "metadata": {
        "id": "JHWrHHxdr1cv"
      },
      "source": [
        "### Training a Binary Classifier"
      ]
    },
    {
      "cell_type": "code",
      "metadata": {
        "id": "9flf-7zkmpXU"
      },
      "source": [
        "y_train_9 = (y_train == 9)\r\n",
        "y_test_9 = (y_test == 9)"
      ],
      "execution_count": 15,
      "outputs": []
    },
    {
      "cell_type": "code",
      "metadata": {
        "colab": {
          "base_uri": "https://localhost:8080/"
        },
        "id": "SBRqgsaLn8b-",
        "outputId": "d4bb0cf2-3809-4346-ee0b-7d373397e1b2"
      },
      "source": [
        "from sklearn.linear_model import SGDClassifier\r\n",
        "\r\n",
        "bin_sgd = SGDClassifier(random_state = 42)\r\n",
        "bin_sgd.fit(X_train,y_train_9)"
      ],
      "execution_count": 16,
      "outputs": [
        {
          "output_type": "execute_result",
          "data": {
            "text/plain": [
              "SGDClassifier(alpha=0.0001, average=False, class_weight=None,\n",
              "              early_stopping=False, epsilon=0.1, eta0=0.0, fit_intercept=True,\n",
              "              l1_ratio=0.15, learning_rate='optimal', loss='hinge',\n",
              "              max_iter=1000, n_iter_no_change=5, n_jobs=None, penalty='l2',\n",
              "              power_t=0.5, random_state=42, shuffle=True, tol=0.001,\n",
              "              validation_fraction=0.1, verbose=0, warm_start=False)"
            ]
          },
          "metadata": {
            "tags": []
          },
          "execution_count": 16
        }
      ]
    },
    {
      "cell_type": "code",
      "metadata": {
        "colab": {
          "base_uri": "https://localhost:8080/"
        },
        "id": "RDg_sce6qDe7",
        "outputId": "4841f930-132f-49db-b700-6c2884a8a93c"
      },
      "source": [
        "bin_sgd.predict([randigit])"
      ],
      "execution_count": 17,
      "outputs": [
        {
          "output_type": "execute_result",
          "data": {
            "text/plain": [
              "array([False])"
            ]
          },
          "metadata": {
            "tags": []
          },
          "execution_count": 17
        }
      ]
    },
    {
      "cell_type": "markdown",
      "metadata": {
        "id": "D8DTZxWvmz2D"
      },
      "source": [
        "###Performance Measures"
      ]
    },
    {
      "cell_type": "markdown",
      "metadata": {
        "id": "iUWe_I-tnl09"
      },
      "source": [
        "Measuring Accuracy Using Cross-Validation"
      ]
    },
    {
      "cell_type": "code",
      "metadata": {
        "colab": {
          "base_uri": "https://localhost:8080/"
        },
        "id": "-t3d086gnolY",
        "outputId": "c712a059-8d7c-4be8-d0c8-13c1ccf9708e"
      },
      "source": [
        "#Custom CV set\r\n",
        "from sklearn.model_selection import StratifiedKFold\r\n",
        "from sklearn.base import clone\r\n",
        "\r\n",
        "skfolds = StratifiedKFold(n_splits=3, shuffle=True, random_state=42)\r\n",
        "\r\n",
        "for train_index, test_index in skfolds.split(X_train, y_train_9):\r\n",
        "    clone_clf = clone(bin_sgd)\r\n",
        "    X_train_folds = X_train[train_index]\r\n",
        "    y_train_folds = y_train_9[train_index]\r\n",
        "    X_test_fold = X_train[test_index]\r\n",
        "    y_test_fold = y_train_9[test_index]\r\n",
        "\r\n",
        "    clone_clf.fit(X_train_folds, y_train_folds)\r\n",
        "    y_pred = clone_clf.predict(X_test_fold)\r\n",
        "    n_correct = sum(y_pred == y_test_fold)\r\n",
        "    print(n_correct / len(y_pred))"
      ],
      "execution_count": 18,
      "outputs": [
        {
          "output_type": "stream",
          "text": [
            "0.94065\n",
            "0.94405\n",
            "0.94885\n"
          ],
          "name": "stdout"
        }
      ]
    },
    {
      "cell_type": "markdown",
      "metadata": {
        "id": "t-6tbpFKa00S"
      },
      "source": [
        "Precision Recall and F<sub>1</sub>"
      ]
    },
    {
      "cell_type": "code",
      "metadata": {
        "id": "9ltZeqgnuzs7"
      },
      "source": [
        "from sklearn.model_selection import cross_val_predict\r\n",
        "\r\n",
        "y_train_pred = cross_val_predict(bin_sgd, X_train, y_train_9, cv=3)"
      ],
      "execution_count": 19,
      "outputs": []
    },
    {
      "cell_type": "code",
      "metadata": {
        "colab": {
          "base_uri": "https://localhost:8080/"
        },
        "id": "cr9dJWEneRSP",
        "outputId": "2d2c23dd-ad29-4bfb-980a-ccc4c2e45f22"
      },
      "source": [
        "from sklearn.metrics import confusion_matrix\r\n",
        "\r\n",
        "confusion_matrix(y_train_9, y_train_pred)"
      ],
      "execution_count": 20,
      "outputs": [
        {
          "output_type": "execute_result",
          "data": {
            "text/plain": [
              "array([[52715,  1336],\n",
              "       [ 1695,  4254]])"
            ]
          },
          "metadata": {
            "tags": []
          },
          "execution_count": 20
        }
      ]
    },
    {
      "cell_type": "code",
      "metadata": {
        "colab": {
          "base_uri": "https://localhost:8080/"
        },
        "id": "oWdkw26Qeq9y",
        "outputId": "4dd197b1-d2c5-4f4e-dd6f-de4fb9a6c071"
      },
      "source": [
        "from sklearn.metrics import precision_score, recall_score, f1_score\r\n",
        "\r\n",
        "print(precision_score(y_train_9, y_train_pred))\r\n",
        "print(recall_score(y_train_9, y_train_pred))\r\n",
        "print(f1_score(y_train_9, y_train_pred))"
      ],
      "execution_count": 21,
      "outputs": [
        {
          "output_type": "stream",
          "text": [
            "0.7610017889087657\n",
            "0.7150781643973777\n",
            "0.737325591472398\n"
          ],
          "name": "stdout"
        }
      ]
    },
    {
      "cell_type": "markdown",
      "metadata": {
        "id": "9VGWoJoDmG2m"
      },
      "source": [
        "Use decision_function() parameter to change the threshold"
      ]
    },
    {
      "cell_type": "code",
      "metadata": {
        "id": "7iUr3-xyhdJ9"
      },
      "source": [
        "y_scores = cross_val_predict(bin_sgd, X_train, y_train_9, cv=3,\r\n",
        "                             method=\"decision_function\")"
      ],
      "execution_count": 22,
      "outputs": []
    },
    {
      "cell_type": "code",
      "metadata": {
        "id": "iLPO7ikGpmSD"
      },
      "source": [
        "from sklearn.metrics import precision_recall_curve\r\n",
        "\r\n",
        "precisions, recalls, thresholds = precision_recall_curve(y_train_9, y_scores)"
      ],
      "execution_count": 23,
      "outputs": []
    },
    {
      "cell_type": "code",
      "metadata": {
        "colab": {
          "base_uri": "https://localhost:8080/"
        },
        "id": "YAMyTh3KqQYI",
        "outputId": "04d23714-0a52-4056-8ddf-14a8555e51d7"
      },
      "source": [
        "len(y_scores)"
      ],
      "execution_count": 24,
      "outputs": [
        {
          "output_type": "execute_result",
          "data": {
            "text/plain": [
              "60000"
            ]
          },
          "metadata": {
            "tags": []
          },
          "execution_count": 24
        }
      ]
    },
    {
      "cell_type": "code",
      "metadata": {
        "colab": {
          "base_uri": "https://localhost:8080/",
          "height": 281
        },
        "id": "AQ_yOmPYp2AB",
        "outputId": "7aa540c0-ad9d-4b4d-90ec-685c8688ddc9"
      },
      "source": [
        "def plot_precision_recall_vs_threshold(precisions, recalls, thresholds):\r\n",
        "    plt.plot(thresholds, precisions[:-1], \"--\", label=\"Precision\", linewidth=2)          # Last precision is 1\r\n",
        "    plt.plot(thresholds, recalls[:-1], \"-\", label=\"Recall\", linewidth=2)                 # Last recall is 0\r\n",
        "    plt.legend(loc=\"center right\", fontsize=16) # Not shown in the book\r\n",
        "    plt.xlabel(\"Threshold\", fontsize=16)        # Not shown\r\n",
        "    plt.grid(True)                              # Not shown\r\n",
        "\r\n",
        "recall_90_precision = recalls[np.argmax(precisions >= 0.90)]\r\n",
        "threshold_90_precision = thresholds[np.argmax(precisions >= 0.90)]\r\n",
        "\r\n",
        "\r\n",
        "plt.figure(figsize=(8, 4))                                                                  # Not shown\r\n",
        "plot_precision_recall_vs_threshold(precisions, recalls, thresholds)\r\n",
        "plt.plot([threshold_90_precision, threshold_90_precision], [0., 0.9], \"r:\")                 # Not shown\r\n",
        "plt.plot([-50000, threshold_90_precision], [0.9, 0.9], \"r:\")                                # Not shown\r\n",
        "plt.plot([-50000, threshold_90_precision], [recall_90_precision, recall_90_precision], \"r:\")# Not shown\r\n",
        "plt.plot([threshold_90_precision], [0.9], \"ro\")                                             # Not shown\r\n",
        "plt.plot([threshold_90_precision], [recall_90_precision], \"ro\")                             # Not shown\r\n",
        "plt.show()"
      ],
      "execution_count": 25,
      "outputs": [
        {
          "output_type": "display_data",
          "data": {
            "image/png": "[encoded data removed]",
            "text/plain": [
              "<Figure size 576x288 with 1 Axes>"
            ]
          },
          "metadata": {
            "tags": [],
            "needs_background": "light"
          }
        }
      ]
    },
    {
      "cell_type": "code",
      "metadata": {
        "colab": {
          "base_uri": "https://localhost:8080/",
          "height": 390
        },
        "id": "i2ZFZShqwtxa",
        "outputId": "d61d8eaf-df0a-460b-d78e-30e8537a502c"
      },
      "source": [
        "def plot_precision_vs_recall(precisions, recalls):\r\n",
        "    plt.plot(recalls, precisions,linewidth=2)\r\n",
        "    plt.xlabel('Recalls', fontsize=16)\r\n",
        "    plt.ylabel('Precisions', fontsize=16)\r\n",
        "    \r\n",
        "\r\n",
        "plt.figure(figsize=(8, 6))\r\n",
        "plot_precision_vs_recall(precisions, recalls)\r\n",
        "plt.show()"
      ],
      "execution_count": 26,
      "outputs": [
        {
          "output_type": "display_data",
          "data": {
            "image/png": "[encoded data removed]",
            "text/plain": [
              "<Figure size 576x432 with 1 Axes>"
            ]
          },
          "metadata": {
            "tags": [],
            "needs_background": "light"
          }
        }
      ]
    },
    {
      "cell_type": "markdown",
      "metadata": {
        "id": "Iulb_uYLU1pS"
      },
      "source": [
        "### ROC Curve"
      ]
    },
    {
      "cell_type": "code",
      "metadata": {
        "id": "cqQ7yAG5DhXf",
        "colab": {
          "base_uri": "https://localhost:8080/",
          "height": 390
        },
        "outputId": "72fb4f18-130a-4ebb-edc8-34c01ab31208"
      },
      "source": [
        "from sklearn.metrics import roc_curve\r\n",
        "\r\n",
        "fpr, tpr, thresholds = roc_curve(y_train_9, y_scores)\r\n",
        "\r\n",
        "def plot_roc_curve(fpr, tpr, label=None):\r\n",
        "    plt.plot(fpr, tpr, linewidth=2, label=label)\r\n",
        "    plt.plot([0, 1], [0, 1], 'k--') # dashed diagonal\r\n",
        "                                        # Not shown in the book\r\n",
        "    plt.xlabel('False Positive Rate (Fall-Out)', fontsize=16) # Not shown\r\n",
        "    plt.ylabel('True Positive Rate (Recall)', fontsize=16)    # Not shown\r\n",
        "    plt.grid(True)\r\n",
        "\r\n",
        "plt.figure(figsize=(8, 6))                                    # Not shown\r\n",
        "plot_roc_curve(fpr, tpr)\r\n",
        "plt.show()"
      ],
      "execution_count": 27,
      "outputs": [
        {
          "output_type": "display_data",
          "data": {
            "image/png": "[encoded data removed]",
            "text/plain": [
              "<Figure size 576x432 with 1 Axes>"
            ]
          },
          "metadata": {
            "tags": [],
            "needs_background": "light"
          }
        }
      ]
    },
    {
      "cell_type": "code",
      "metadata": {
        "colab": {
          "base_uri": "https://localhost:8080/"
        },
        "id": "nCCAihmonITm",
        "outputId": "0c231d9b-9f86-4903-f126-3237139142e3"
      },
      "source": [
        "from sklearn.metrics import roc_auc_score\r\n",
        "\r\n",
        "roc_auc_score(y_train_9, y_scores)"
      ],
      "execution_count": 28,
      "outputs": [
        {
          "output_type": "execute_result",
          "data": {
            "text/plain": [
              "0.96114559368217"
            ]
          },
          "metadata": {
            "tags": []
          },
          "execution_count": 28
        }
      ]
    },
    {
      "cell_type": "code",
      "metadata": {
        "id": "YY3nYgXaovIb"
      },
      "source": [
        "from sklearn.ensemble import RandomForestClassifier\r\n",
        "forest_clf = RandomForestClassifier(n_estimators=100, random_state=42)\r\n",
        "y_probas_forest = cross_val_predict(forest_clf, X_train, y_train_9, cv=3,\r\n",
        "                                    method=\"predict_proba\")"
      ],
      "execution_count": 29,
      "outputs": []
    },
    {
      "cell_type": "code",
      "metadata": {
        "id": "FMh0V_GI3r6O"
      },
      "source": [
        "y_scores_forest = y_probas_forest[:,1]\r\n",
        "fpr_forest, tpr_forest, thresholds_forest = roc_curve(y_train_9,y_scores_forest)"
      ],
      "execution_count": 30,
      "outputs": []
    },
    {
      "cell_type": "code",
      "metadata": {
        "colab": {
          "base_uri": "https://localhost:8080/",
          "height": 281
        },
        "id": "olfEbicl4DiO",
        "outputId": "65f2f2e8-2b65-44b4-a122-4ba9cd2bf0e9"
      },
      "source": [
        "plt.plot(fpr, tpr, \"b:\", label=\"SGD\")\r\n",
        "plot_roc_curve(fpr_forest, tpr_forest, \"Random Forest\")\r\n",
        "plt.legend(loc=\"lower right\")\r\n",
        "plt.show()"
      ],
      "execution_count": 31,
      "outputs": [
        {
          "output_type": "display_data",
          "data": {
            "image/png": "[encoded data removed]",
            "text/plain": [
              "<Figure size 432x288 with 1 Axes>"
            ]
          },
          "metadata": {
            "tags": [],
            "needs_background": "light"
          }
        }
      ]
    },
    {
      "cell_type": "code",
      "metadata": {
        "colab": {
          "base_uri": "https://localhost:8080/"
        },
        "id": "3u6zjNLb592m",
        "outputId": "ae1f7176-f97d-4dd9-a906-fcd3eff545f2"
      },
      "source": [
        "roc_auc_score(y_train_9, y_scores_forest)"
      ],
      "execution_count": 32,
      "outputs": [
        {
          "output_type": "execute_result",
          "data": {
            "text/plain": [
              "0.9952328942154235"
            ]
          },
          "metadata": {
            "tags": []
          },
          "execution_count": 32
        }
      ]
    },
    {
      "cell_type": "markdown",
      "metadata": {
        "id": "qZwZnEkk7YLO"
      },
      "source": [
        "### Multiclass Classification"
      ]
    },
    {
      "cell_type": "code",
      "metadata": {
        "id": "2jKG9TWN7c_x",
        "colab": {
          "base_uri": "https://localhost:8080/"
        },
        "outputId": "6d6a32fa-b483-4ea2-f1a1-ba6390e33424"
      },
      "source": [
        "from sklearn.svm import SVC\r\n",
        "\r\n",
        "svm_clf = SVC()\r\n",
        "svm_clf.fit(X_train,y_train)\r\n",
        "svm_clf.predict([randigit])"
      ],
      "execution_count": 33,
      "outputs": [
        {
          "output_type": "execute_result",
          "data": {
            "text/plain": [
              "array([0], dtype=uint8)"
            ]
          },
          "metadata": {
            "tags": []
          },
          "execution_count": 33
        }
      ]
    },
    {
      "cell_type": "code",
      "metadata": {
        "colab": {
          "base_uri": "https://localhost:8080/"
        },
        "id": "-omrHhgTmqe0",
        "outputId": "4600ffda-8b7a-48bd-fdff-fb7cb21e4859"
      },
      "source": [
        "randigt_scores = svm_clf.decision_function([randigit])\r\n",
        "randigt_scores"
      ],
      "execution_count": 34,
      "outputs": [
        {
          "output_type": "execute_result",
          "data": {
            "text/plain": [
              "array([[ 9.31098083,  2.70802224,  8.30328402,  6.28197992,  0.69383077,\n",
              "         4.26220563,  5.19225371, -0.3088637 ,  7.29186847,  1.69532598]])"
            ]
          },
          "metadata": {
            "tags": []
          },
          "execution_count": 34
        }
      ]
    },
    {
      "cell_type": "code",
      "metadata": {
        "colab": {
          "base_uri": "https://localhost:8080/"
        },
        "id": "s0vWed50nEve",
        "outputId": "122314d3-0486-41d4-aa6e-3204701e5eb2"
      },
      "source": [
        "np.argmax(randigt_scores)"
      ],
      "execution_count": 35,
      "outputs": [
        {
          "output_type": "execute_result",
          "data": {
            "text/plain": [
              "0"
            ]
          },
          "metadata": {
            "tags": []
          },
          "execution_count": 35
        }
      ]
    },
    {
      "cell_type": "code",
      "metadata": {
        "colab": {
          "base_uri": "https://localhost:8080/"
        },
        "id": "m6J7pWqknOrz",
        "outputId": "2709eb1b-8d43-499a-e9da-5f92b1b7ff28"
      },
      "source": [
        "svm_clf.classes_"
      ],
      "execution_count": 36,
      "outputs": [
        {
          "output_type": "execute_result",
          "data": {
            "text/plain": [
              "array([0, 1, 2, 3, 4, 5, 6, 7, 8, 9], dtype=uint8)"
            ]
          },
          "metadata": {
            "tags": []
          },
          "execution_count": 36
        }
      ]
    },
    {
      "cell_type": "code",
      "metadata": {
        "id": "fLBSHflonTsb",
        "colab": {
          "base_uri": "https://localhost:8080/"
        },
        "outputId": "4f4b0c8e-7b8d-4787-9416-07498f1843a2"
      },
      "source": [
        "from sklearn.model_selection import cross_val_score\r\n",
        "\r\n",
        "cross_val_score(svm_clf, X_train, y_train, cv=3, scoring=\"accuracy\")"
      ],
      "execution_count": 38,
      "outputs": [
        {
          "output_type": "execute_result",
          "data": {
            "text/plain": [
              "array([0.977 , 0.9738, 0.9739])"
            ]
          },
          "metadata": {
            "tags": []
          },
          "execution_count": 38
        }
      ]
    },
    {
      "cell_type": "code",
      "metadata": {
        "colab": {
          "base_uri": "https://localhost:8080/"
        },
        "id": "F1TVI6OIuycr",
        "outputId": "9b49c06d-0829-43c4-a5ae-4cccef138cd7"
      },
      "source": [
        "from sklearn.preprocessing import StandardScaler\r\n",
        "scaler = StandardScaler()\r\n",
        "X_train_scaled = scaler.fit_transform(X_train.astype(np.float64))\r\n",
        "cross_val_score(svm_clf, X_train_scaled, y_train, cv=3, scoring=\"accuracy\")"
      ],
      "execution_count": 39,
      "outputs": [
        {
          "output_type": "execute_result",
          "data": {
            "text/plain": [
              "array([0.9596, 0.9602, 0.961 ])"
            ]
          },
          "metadata": {
            "tags": []
          },
          "execution_count": 39
        }
      ]
    },
    {
      "cell_type": "code",
      "metadata": {
        "id": "Nx_N5EFTwMoB"
      },
      "source": [
        "y_train_svcpred = cross_val_predict(svm_clf,X_train,y_train,cv=3)\r\n",
        "conf_m = confusion_matrix(y_train,y_train_svcpred)\r\n",
        "conf_m"
      ],
      "execution_count": null,
      "outputs": []
    },
    {
      "cell_type": "code",
      "metadata": {
        "id": "U_sNKG4OQ3-N"
      },
      "source": [
        ""
      ],
      "execution_count": null,
      "outputs": []
    }
  ]
}