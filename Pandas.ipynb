{
  "nbformat": 4,
  "nbformat_minor": 0,
  "metadata": {
    "colab": {
      "name": "Pandas.ipynb",
      "provenance": [],
      "collapsed_sections": [
        "KSjwu-F0j6DX",
        "yxvqi1tplesf",
        "99KIRPv_nuiS"
      ],
      "authorship_tag": "ABX9TyN17JIBo2sPtzdX1dxxP+dP",
      "include_colab_link": true
    },
    "kernelspec": {
      "name": "python3",
      "display_name": "Python 3"
    }
  },
  "cells": [
    {
      "cell_type": "markdown",
      "metadata": {
        "id": "view-in-github",
        "colab_type": "text"
      },
      "source": [
        "<a href=\"https://colab.research.google.com/github/ParameshMalla/dataSciencePractiseNotebooks/blob/main/Pandas.ipynb\" target=\"_parent\"><img src=\"https://colab.research.google.com/assets/colab-badge.svg\" alt=\"Open In Colab\"/></a>"
      ]
    },
    {
      "cell_type": "markdown",
      "metadata": {
        "id": "KSjwu-F0j6DX"
      },
      "source": [
        "### Timeit"
      ]
    },
    {
      "cell_type": "code",
      "metadata": {
        "id": "8SPwLDiGSVcT"
      },
      "source": [
        "import timeit"
      ],
      "execution_count": null,
      "outputs": []
    },
    {
      "cell_type": "code",
      "metadata": {
        "id": "R6lIdAKsGXdL"
      },
      "source": [
        "gen = (x*2 for x in range(100))"
      ],
      "execution_count": null,
      "outputs": []
    },
    {
      "cell_type": "code",
      "metadata": {
        "id": "TbA1ByXvGjjg"
      },
      "source": [
        "genl = [x*2 for x in range(100)]"
      ],
      "execution_count": null,
      "outputs": []
    },
    {
      "cell_type": "code",
      "metadata": {
        "colab": {
          "base_uri": "https://localhost:8080/"
        },
        "id": "VsIja3LDGo0g",
        "outputId": "31f7d16e-3029-4173-811b-b3ad5e231538"
      },
      "source": [
        "%timeit sum(gen)"
      ],
      "execution_count": null,
      "outputs": [
        {
          "output_type": "stream",
          "text": [
            "The slowest run took 135.92 times longer than the fastest. This could mean that an intermediate result is being cached.\n",
            "10000000 loops, best of 3: 89.7 ns per loop\n"
          ],
          "name": "stdout"
        }
      ]
    },
    {
      "cell_type": "code",
      "metadata": {
        "colab": {
          "base_uri": "https://localhost:8080/"
        },
        "id": "cjkhhfjhGt8P",
        "outputId": "32e16556-1c02-41fd-9142-f5c77e9c00de"
      },
      "source": [
        "%timeit sum(genl)"
      ],
      "execution_count": null,
      "outputs": [
        {
          "output_type": "stream",
          "text": [
            "The slowest run took 6.42 times longer than the fastest. This could mean that an intermediate result is being cached.\n",
            "1000000 loops, best of 3: 552 ns per loop\n"
          ],
          "name": "stdout"
        }
      ]
    },
    {
      "cell_type": "markdown",
      "metadata": {
        "id": "ai2DscyinpQt"
      },
      "source": [
        "## Pandas"
      ]
    },
    {
      "cell_type": "code",
      "metadata": {
        "id": "SvlAja3_pYh9"
      },
      "source": [
        "import pandas as pd\r\n",
        "import numpy as np"
      ],
      "execution_count": 1,
      "outputs": []
    },
    {
      "cell_type": "markdown",
      "metadata": {
        "id": "yxvqi1tplesf"
      },
      "source": [
        "### Series"
      ]
    },
    {
      "cell_type": "code",
      "metadata": {
        "colab": {
          "base_uri": "https://localhost:8080/"
        },
        "id": "jk8frYqClieg",
        "outputId": "118bfa98-b6d1-4d02-b690-52ec007ab465"
      },
      "source": [
        "obj = pd.Series([4, 7, -5, 3])\r\n",
        "obj"
      ],
      "execution_count": 2,
      "outputs": [
        {
          "output_type": "execute_result",
          "data": {
            "text/plain": [
              "0    4\n",
              "1    7\n",
              "2   -5\n",
              "3    3\n",
              "dtype: int64"
            ]
          },
          "metadata": {
            "tags": []
          },
          "execution_count": 2
        }
      ]
    },
    {
      "cell_type": "code",
      "metadata": {
        "colab": {
          "base_uri": "https://localhost:8080/"
        },
        "id": "myQXy45wmJAl",
        "outputId": "596ab850-9b40-4ab6-e06d-d997273b6ae6"
      },
      "source": [
        "obj.values"
      ],
      "execution_count": 3,
      "outputs": [
        {
          "output_type": "execute_result",
          "data": {
            "text/plain": [
              "array([ 4,  7, -5,  3])"
            ]
          },
          "metadata": {
            "tags": []
          },
          "execution_count": 3
        }
      ]
    },
    {
      "cell_type": "code",
      "metadata": {
        "colab": {
          "base_uri": "https://localhost:8080/"
        },
        "id": "fG6bJVQYlpzZ",
        "outputId": "2474a08a-ad2d-474b-b1b1-c1cf358210e3"
      },
      "source": [
        "# Setting index\r\n",
        "obj2 = pd.Series([4, 7, -5, 3], index=['a','b','c','d'])\r\n",
        "obj2"
      ],
      "execution_count": 4,
      "outputs": [
        {
          "output_type": "execute_result",
          "data": {
            "text/plain": [
              "a    4\n",
              "b    7\n",
              "c   -5\n",
              "d    3\n",
              "dtype: int64"
            ]
          },
          "metadata": {
            "tags": []
          },
          "execution_count": 4
        }
      ]
    },
    {
      "cell_type": "code",
      "metadata": {
        "colab": {
          "base_uri": "https://localhost:8080/"
        },
        "id": "sbpJxWHumAEL",
        "outputId": "982306f8-c8af-4e66-f905-39817c85618b"
      },
      "source": [
        "obj2.index"
      ],
      "execution_count": 5,
      "outputs": [
        {
          "output_type": "execute_result",
          "data": {
            "text/plain": [
              "Index(['a', 'b', 'c', 'd'], dtype='object')"
            ]
          },
          "metadata": {
            "tags": []
          },
          "execution_count": 5
        }
      ]
    },
    {
      "cell_type": "code",
      "metadata": {
        "colab": {
          "base_uri": "https://localhost:8080/"
        },
        "id": "MqO5FEN7mb0F",
        "outputId": "d358b25e-8eea-441c-e4b9-b965e102faa3"
      },
      "source": [
        "obj2['a']"
      ],
      "execution_count": 6,
      "outputs": [
        {
          "output_type": "execute_result",
          "data": {
            "text/plain": [
              "4"
            ]
          },
          "metadata": {
            "tags": []
          },
          "execution_count": 6
        }
      ]
    },
    {
      "cell_type": "code",
      "metadata": {
        "colab": {
          "base_uri": "https://localhost:8080/"
        },
        "id": "6O-w9IQqm1vi",
        "outputId": "98b096b4-f80d-4329-adce-f3e32cb58947"
      },
      "source": [
        "'f' in obj2"
      ],
      "execution_count": 7,
      "outputs": [
        {
          "output_type": "execute_result",
          "data": {
            "text/plain": [
              "False"
            ]
          },
          "metadata": {
            "tags": []
          },
          "execution_count": 7
        }
      ]
    },
    {
      "cell_type": "code",
      "metadata": {
        "colab": {
          "base_uri": "https://localhost:8080/"
        },
        "id": "SgnBy102nJ2o",
        "outputId": "425ab1cc-5842-4e0f-b167-84b6d160f3a5"
      },
      "source": [
        "# Create Series with python dict object\r\n",
        "sdata = {'Ohio': 35000, 'Texas': 71000, 'Oregon': 16000, 'Utah': 5000}\r\n",
        "obj3 = pd.Series(sdata)\r\n",
        "obj3"
      ],
      "execution_count": 8,
      "outputs": [
        {
          "output_type": "execute_result",
          "data": {
            "text/plain": [
              "Ohio      35000\n",
              "Texas     71000\n",
              "Oregon    16000\n",
              "Utah       5000\n",
              "dtype: int64"
            ]
          },
          "metadata": {
            "tags": []
          },
          "execution_count": 8
        }
      ]
    },
    {
      "cell_type": "markdown",
      "metadata": {
        "id": "99KIRPv_nuiS"
      },
      "source": [
        "### DataFrame"
      ]
    },
    {
      "cell_type": "code",
      "metadata": {
        "colab": {
          "base_uri": "https://localhost:8080/",
          "height": 235
        },
        "id": "hVoIxpdwoqsA",
        "outputId": "66bf8c8e-26c1-439d-db7f-0baf076bfac4"
      },
      "source": [
        "data = {'state': ['Ohio', 'Ohio', 'Ohio', 'Nevada', 'Nevada', 'Nevada'],\r\n",
        "        'year': [2000, 2001, 2002, 2001, 2002, 2003],\r\n",
        "        'pop': [1.5, 1.7, 3.6, 2.4, 2.9, 3.2]}\r\n",
        "frame = pd.DataFrame(data)\r\n",
        "frame"
      ],
      "execution_count": 9,
      "outputs": [
        {
          "output_type": "execute_result",
          "data": {
            "text/html": [
              "<div>\n",
              "<style scoped>\n",
              "    .dataframe tbody tr th:only-of-type {\n",
              "        vertical-align: middle;\n",
              "    }\n",
              "\n",
              "    .dataframe tbody tr th {\n",
              "        vertical-align: top;\n",
              "    }\n",
              "\n",
              "    .dataframe thead th {\n",
              "        text-align: right;\n",
              "    }\n",
              "</style>\n",
              "<table border=\"1\" class=\"dataframe\">\n",
              "  <thead>\n",
              "    <tr style=\"text-align: right;\">\n",
              "      <th></th>\n",
              "      <th>state</th>\n",
              "      <th>year</th>\n",
              "      <th>pop</th>\n",
              "    </tr>\n",
              "  </thead>\n",
              "  <tbody>\n",
              "    <tr>\n",
              "      <th>0</th>\n",
              "      <td>Ohio</td>\n",
              "      <td>2000</td>\n",
              "      <td>1.5</td>\n",
              "    </tr>\n",
              "    <tr>\n",
              "      <th>1</th>\n",
              "      <td>Ohio</td>\n",
              "      <td>2001</td>\n",
              "      <td>1.7</td>\n",
              "    </tr>\n",
              "    <tr>\n",
              "      <th>2</th>\n",
              "      <td>Ohio</td>\n",
              "      <td>2002</td>\n",
              "      <td>3.6</td>\n",
              "    </tr>\n",
              "    <tr>\n",
              "      <th>3</th>\n",
              "      <td>Nevada</td>\n",
              "      <td>2001</td>\n",
              "      <td>2.4</td>\n",
              "    </tr>\n",
              "    <tr>\n",
              "      <th>4</th>\n",
              "      <td>Nevada</td>\n",
              "      <td>2002</td>\n",
              "      <td>2.9</td>\n",
              "    </tr>\n",
              "    <tr>\n",
              "      <th>5</th>\n",
              "      <td>Nevada</td>\n",
              "      <td>2003</td>\n",
              "      <td>3.2</td>\n",
              "    </tr>\n",
              "  </tbody>\n",
              "</table>\n",
              "</div>"
            ],
            "text/plain": [
              "    state  year  pop\n",
              "0    Ohio  2000  1.5\n",
              "1    Ohio  2001  1.7\n",
              "2    Ohio  2002  3.6\n",
              "3  Nevada  2001  2.4\n",
              "4  Nevada  2002  2.9\n",
              "5  Nevada  2003  3.2"
            ]
          },
          "metadata": {
            "tags": []
          },
          "execution_count": 9
        }
      ]
    },
    {
      "cell_type": "code",
      "metadata": {
        "colab": {
          "base_uri": "https://localhost:8080/",
          "height": 204
        },
        "id": "9uMKiiwVo2i0",
        "outputId": "d6269b82-ba63-4a6f-85c0-ebf86724b780"
      },
      "source": [
        "frame.head()"
      ],
      "execution_count": 10,
      "outputs": [
        {
          "output_type": "execute_result",
          "data": {
            "text/html": [
              "<div>\n",
              "<style scoped>\n",
              "    .dataframe tbody tr th:only-of-type {\n",
              "        vertical-align: middle;\n",
              "    }\n",
              "\n",
              "    .dataframe tbody tr th {\n",
              "        vertical-align: top;\n",
              "    }\n",
              "\n",
              "    .dataframe thead th {\n",
              "        text-align: right;\n",
              "    }\n",
              "</style>\n",
              "<table border=\"1\" class=\"dataframe\">\n",
              "  <thead>\n",
              "    <tr style=\"text-align: right;\">\n",
              "      <th></th>\n",
              "      <th>state</th>\n",
              "      <th>year</th>\n",
              "      <th>pop</th>\n",
              "    </tr>\n",
              "  </thead>\n",
              "  <tbody>\n",
              "    <tr>\n",
              "      <th>0</th>\n",
              "      <td>Ohio</td>\n",
              "      <td>2000</td>\n",
              "      <td>1.5</td>\n",
              "    </tr>\n",
              "    <tr>\n",
              "      <th>1</th>\n",
              "      <td>Ohio</td>\n",
              "      <td>2001</td>\n",
              "      <td>1.7</td>\n",
              "    </tr>\n",
              "    <tr>\n",
              "      <th>2</th>\n",
              "      <td>Ohio</td>\n",
              "      <td>2002</td>\n",
              "      <td>3.6</td>\n",
              "    </tr>\n",
              "    <tr>\n",
              "      <th>3</th>\n",
              "      <td>Nevada</td>\n",
              "      <td>2001</td>\n",
              "      <td>2.4</td>\n",
              "    </tr>\n",
              "    <tr>\n",
              "      <th>4</th>\n",
              "      <td>Nevada</td>\n",
              "      <td>2002</td>\n",
              "      <td>2.9</td>\n",
              "    </tr>\n",
              "  </tbody>\n",
              "</table>\n",
              "</div>"
            ],
            "text/plain": [
              "    state  year  pop\n",
              "0    Ohio  2000  1.5\n",
              "1    Ohio  2001  1.7\n",
              "2    Ohio  2002  3.6\n",
              "3  Nevada  2001  2.4\n",
              "4  Nevada  2002  2.9"
            ]
          },
          "metadata": {
            "tags": []
          },
          "execution_count": 10
        }
      ]
    },
    {
      "cell_type": "code",
      "metadata": {
        "colab": {
          "base_uri": "https://localhost:8080/",
          "height": 235
        },
        "id": "P3Wjl9eAo9mr",
        "outputId": "00d0bd58-0cdf-4e02-9f91-0833f09e3ea1"
      },
      "source": [
        "# To Specify the order of column\r\n",
        "pd.DataFrame(data, columns=['year', 'state', 'pop'])"
      ],
      "execution_count": 11,
      "outputs": [
        {
          "output_type": "execute_result",
          "data": {
            "text/html": [
              "<div>\n",
              "<style scoped>\n",
              "    .dataframe tbody tr th:only-of-type {\n",
              "        vertical-align: middle;\n",
              "    }\n",
              "\n",
              "    .dataframe tbody tr th {\n",
              "        vertical-align: top;\n",
              "    }\n",
              "\n",
              "    .dataframe thead th {\n",
              "        text-align: right;\n",
              "    }\n",
              "</style>\n",
              "<table border=\"1\" class=\"dataframe\">\n",
              "  <thead>\n",
              "    <tr style=\"text-align: right;\">\n",
              "      <th></th>\n",
              "      <th>year</th>\n",
              "      <th>state</th>\n",
              "      <th>pop</th>\n",
              "    </tr>\n",
              "  </thead>\n",
              "  <tbody>\n",
              "    <tr>\n",
              "      <th>0</th>\n",
              "      <td>2000</td>\n",
              "      <td>Ohio</td>\n",
              "      <td>1.5</td>\n",
              "    </tr>\n",
              "    <tr>\n",
              "      <th>1</th>\n",
              "      <td>2001</td>\n",
              "      <td>Ohio</td>\n",
              "      <td>1.7</td>\n",
              "    </tr>\n",
              "    <tr>\n",
              "      <th>2</th>\n",
              "      <td>2002</td>\n",
              "      <td>Ohio</td>\n",
              "      <td>3.6</td>\n",
              "    </tr>\n",
              "    <tr>\n",
              "      <th>3</th>\n",
              "      <td>2001</td>\n",
              "      <td>Nevada</td>\n",
              "      <td>2.4</td>\n",
              "    </tr>\n",
              "    <tr>\n",
              "      <th>4</th>\n",
              "      <td>2002</td>\n",
              "      <td>Nevada</td>\n",
              "      <td>2.9</td>\n",
              "    </tr>\n",
              "    <tr>\n",
              "      <th>5</th>\n",
              "      <td>2003</td>\n",
              "      <td>Nevada</td>\n",
              "      <td>3.2</td>\n",
              "    </tr>\n",
              "  </tbody>\n",
              "</table>\n",
              "</div>"
            ],
            "text/plain": [
              "   year   state  pop\n",
              "0  2000    Ohio  1.5\n",
              "1  2001    Ohio  1.7\n",
              "2  2002    Ohio  3.6\n",
              "3  2001  Nevada  2.4\n",
              "4  2002  Nevada  2.9\n",
              "5  2003  Nevada  3.2"
            ]
          },
          "metadata": {
            "tags": []
          },
          "execution_count": 11
        }
      ]
    },
    {
      "cell_type": "code",
      "metadata": {
        "colab": {
          "base_uri": "https://localhost:8080/",
          "height": 235
        },
        "id": "QFmBF4iVpSxh",
        "outputId": "d7c373c9-5759-4c11-b36c-8d85ef749319"
      },
      "source": [
        "# Passing an unknown column creates missing values\r\n",
        "frame2 = pd.DataFrame(data, columns=['year', 'state', 'pop', 'debt'],\r\n",
        "                      index=['one', 'two', 'three', 'four',\r\n",
        "                      'five', 'six'])\r\n",
        "frame2"
      ],
      "execution_count": 12,
      "outputs": [
        {
          "output_type": "execute_result",
          "data": {
            "text/html": [
              "<div>\n",
              "<style scoped>\n",
              "    .dataframe tbody tr th:only-of-type {\n",
              "        vertical-align: middle;\n",
              "    }\n",
              "\n",
              "    .dataframe tbody tr th {\n",
              "        vertical-align: top;\n",
              "    }\n",
              "\n",
              "    .dataframe thead th {\n",
              "        text-align: right;\n",
              "    }\n",
              "</style>\n",
              "<table border=\"1\" class=\"dataframe\">\n",
              "  <thead>\n",
              "    <tr style=\"text-align: right;\">\n",
              "      <th></th>\n",
              "      <th>year</th>\n",
              "      <th>state</th>\n",
              "      <th>pop</th>\n",
              "      <th>debt</th>\n",
              "    </tr>\n",
              "  </thead>\n",
              "  <tbody>\n",
              "    <tr>\n",
              "      <th>one</th>\n",
              "      <td>2000</td>\n",
              "      <td>Ohio</td>\n",
              "      <td>1.5</td>\n",
              "      <td>NaN</td>\n",
              "    </tr>\n",
              "    <tr>\n",
              "      <th>two</th>\n",
              "      <td>2001</td>\n",
              "      <td>Ohio</td>\n",
              "      <td>1.7</td>\n",
              "      <td>NaN</td>\n",
              "    </tr>\n",
              "    <tr>\n",
              "      <th>three</th>\n",
              "      <td>2002</td>\n",
              "      <td>Ohio</td>\n",
              "      <td>3.6</td>\n",
              "      <td>NaN</td>\n",
              "    </tr>\n",
              "    <tr>\n",
              "      <th>four</th>\n",
              "      <td>2001</td>\n",
              "      <td>Nevada</td>\n",
              "      <td>2.4</td>\n",
              "      <td>NaN</td>\n",
              "    </tr>\n",
              "    <tr>\n",
              "      <th>five</th>\n",
              "      <td>2002</td>\n",
              "      <td>Nevada</td>\n",
              "      <td>2.9</td>\n",
              "      <td>NaN</td>\n",
              "    </tr>\n",
              "    <tr>\n",
              "      <th>six</th>\n",
              "      <td>2003</td>\n",
              "      <td>Nevada</td>\n",
              "      <td>3.2</td>\n",
              "      <td>NaN</td>\n",
              "    </tr>\n",
              "  </tbody>\n",
              "</table>\n",
              "</div>"
            ],
            "text/plain": [
              "       year   state  pop debt\n",
              "one    2000    Ohio  1.5  NaN\n",
              "two    2001    Ohio  1.7  NaN\n",
              "three  2002    Ohio  3.6  NaN\n",
              "four   2001  Nevada  2.4  NaN\n",
              "five   2002  Nevada  2.9  NaN\n",
              "six    2003  Nevada  3.2  NaN"
            ]
          },
          "metadata": {
            "tags": []
          },
          "execution_count": 12
        }
      ]
    },
    {
      "cell_type": "code",
      "metadata": {
        "colab": {
          "base_uri": "https://localhost:8080/"
        },
        "id": "bMWve6kUpfkT",
        "outputId": "380b5675-6e0e-4c27-aff8-8da6937a2fbe"
      },
      "source": [
        "# Retrieving columns\r\n",
        "frame2['state']"
      ],
      "execution_count": 13,
      "outputs": [
        {
          "output_type": "execute_result",
          "data": {
            "text/plain": [
              "one        Ohio\n",
              "two        Ohio\n",
              "three      Ohio\n",
              "four     Nevada\n",
              "five     Nevada\n",
              "six      Nevada\n",
              "Name: state, dtype: object"
            ]
          },
          "metadata": {
            "tags": []
          },
          "execution_count": 13
        }
      ]
    },
    {
      "cell_type": "code",
      "metadata": {
        "colab": {
          "base_uri": "https://localhost:8080/"
        },
        "id": "2aNeyU4BrcXl",
        "outputId": "aea2502f-bb1f-455f-8082-ac6a04d08642"
      },
      "source": [
        "frame2.state"
      ],
      "execution_count": 14,
      "outputs": [
        {
          "output_type": "execute_result",
          "data": {
            "text/plain": [
              "one        Ohio\n",
              "two        Ohio\n",
              "three      Ohio\n",
              "four     Nevada\n",
              "five     Nevada\n",
              "six      Nevada\n",
              "Name: state, dtype: object"
            ]
          },
          "metadata": {
            "tags": []
          },
          "execution_count": 14
        }
      ]
    },
    {
      "cell_type": "code",
      "metadata": {
        "colab": {
          "base_uri": "https://localhost:8080/"
        },
        "id": "VZfVPNnjrg2Z",
        "outputId": "ca04c182-8436-46ff-e2c1-1cb5302c1dbd"
      },
      "source": [
        "# Retrieving rows\r\n",
        "frame2.loc['three']"
      ],
      "execution_count": 15,
      "outputs": [
        {
          "output_type": "execute_result",
          "data": {
            "text/plain": [
              "year     2002\n",
              "state    Ohio\n",
              "pop       3.6\n",
              "debt      NaN\n",
              "Name: three, dtype: object"
            ]
          },
          "metadata": {
            "tags": []
          },
          "execution_count": 15
        }
      ]
    },
    {
      "cell_type": "code",
      "metadata": {
        "colab": {
          "base_uri": "https://localhost:8080/",
          "height": 142
        },
        "id": "cYtSU2qGspBe",
        "outputId": "c2478d0d-e654-4656-864a-5de26562c1a0"
      },
      "source": [
        "# Nested dict of dicts If the nested dict is passed to the DataFrame, \r\n",
        "# pandas will interpret the outer dict keys as the columns and the inner keys \r\n",
        "# as the row indices:\r\n",
        "pop = {'Nevada': {2001: 2.4, 2002: 2.9},\r\n",
        "     'Ohio': {2000: 1.5, 2001: 1.7, 2002: 3.6}}\r\n",
        "frame3 = pd.DataFrame(pop)\r\n",
        "frame3"
      ],
      "execution_count": 16,
      "outputs": [
        {
          "output_type": "execute_result",
          "data": {
            "text/html": [
              "<div>\n",
              "<style scoped>\n",
              "    .dataframe tbody tr th:only-of-type {\n",
              "        vertical-align: middle;\n",
              "    }\n",
              "\n",
              "    .dataframe tbody tr th {\n",
              "        vertical-align: top;\n",
              "    }\n",
              "\n",
              "    .dataframe thead th {\n",
              "        text-align: right;\n",
              "    }\n",
              "</style>\n",
              "<table border=\"1\" class=\"dataframe\">\n",
              "  <thead>\n",
              "    <tr style=\"text-align: right;\">\n",
              "      <th></th>\n",
              "      <th>Nevada</th>\n",
              "      <th>Ohio</th>\n",
              "    </tr>\n",
              "  </thead>\n",
              "  <tbody>\n",
              "    <tr>\n",
              "      <th>2001</th>\n",
              "      <td>2.4</td>\n",
              "      <td>1.7</td>\n",
              "    </tr>\n",
              "    <tr>\n",
              "      <th>2002</th>\n",
              "      <td>2.9</td>\n",
              "      <td>3.6</td>\n",
              "    </tr>\n",
              "    <tr>\n",
              "      <th>2000</th>\n",
              "      <td>NaN</td>\n",
              "      <td>1.5</td>\n",
              "    </tr>\n",
              "  </tbody>\n",
              "</table>\n",
              "</div>"
            ],
            "text/plain": [
              "      Nevada  Ohio\n",
              "2001     2.4   1.7\n",
              "2002     2.9   3.6\n",
              "2000     NaN   1.5"
            ]
          },
          "metadata": {
            "tags": []
          },
          "execution_count": 16
        }
      ]
    },
    {
      "cell_type": "code",
      "metadata": {
        "colab": {
          "base_uri": "https://localhost:8080/",
          "height": 111
        },
        "id": "vH1sWZ3_tyvj",
        "outputId": "2ef56f76-446c-4ef7-fb62-bb907efad2c2"
      },
      "source": [
        "# Teansposing the the frame\r\n",
        "frame3.T"
      ],
      "execution_count": 17,
      "outputs": [
        {
          "output_type": "execute_result",
          "data": {
            "text/html": [
              "<div>\n",
              "<style scoped>\n",
              "    .dataframe tbody tr th:only-of-type {\n",
              "        vertical-align: middle;\n",
              "    }\n",
              "\n",
              "    .dataframe tbody tr th {\n",
              "        vertical-align: top;\n",
              "    }\n",
              "\n",
              "    .dataframe thead th {\n",
              "        text-align: right;\n",
              "    }\n",
              "</style>\n",
              "<table border=\"1\" class=\"dataframe\">\n",
              "  <thead>\n",
              "    <tr style=\"text-align: right;\">\n",
              "      <th></th>\n",
              "      <th>2001</th>\n",
              "      <th>2002</th>\n",
              "      <th>2000</th>\n",
              "    </tr>\n",
              "  </thead>\n",
              "  <tbody>\n",
              "    <tr>\n",
              "      <th>Nevada</th>\n",
              "      <td>2.4</td>\n",
              "      <td>2.9</td>\n",
              "      <td>NaN</td>\n",
              "    </tr>\n",
              "    <tr>\n",
              "      <th>Ohio</th>\n",
              "      <td>1.7</td>\n",
              "      <td>3.6</td>\n",
              "      <td>1.5</td>\n",
              "    </tr>\n",
              "  </tbody>\n",
              "</table>\n",
              "</div>"
            ],
            "text/plain": [
              "        2001  2002  2000\n",
              "Nevada   2.4   2.9   NaN\n",
              "Ohio     1.7   3.6   1.5"
            ]
          },
          "metadata": {
            "tags": []
          },
          "execution_count": 17
        }
      ]
    },
    {
      "cell_type": "code",
      "metadata": {
        "id": "jpvBoez_uRP3",
        "colab": {
          "base_uri": "https://localhost:8080/",
          "height": 173
        },
        "outputId": "e88b330d-fb68-49a9-a743-0a06508eb931"
      },
      "source": [
        "frame3.index.name ='year'\r\n",
        "frame3.columns.name = 'state'\r\n",
        "frame3"
      ],
      "execution_count": 31,
      "outputs": [
        {
          "output_type": "execute_result",
          "data": {
            "text/html": [
              "<div>\n",
              "<style scoped>\n",
              "    .dataframe tbody tr th:only-of-type {\n",
              "        vertical-align: middle;\n",
              "    }\n",
              "\n",
              "    .dataframe tbody tr th {\n",
              "        vertical-align: top;\n",
              "    }\n",
              "\n",
              "    .dataframe thead th {\n",
              "        text-align: right;\n",
              "    }\n",
              "</style>\n",
              "<table border=\"1\" class=\"dataframe\">\n",
              "  <thead>\n",
              "    <tr style=\"text-align: right;\">\n",
              "      <th>state</th>\n",
              "      <th>Nevada</th>\n",
              "      <th>Ohio</th>\n",
              "    </tr>\n",
              "    <tr>\n",
              "      <th>year</th>\n",
              "      <th></th>\n",
              "      <th></th>\n",
              "    </tr>\n",
              "  </thead>\n",
              "  <tbody>\n",
              "    <tr>\n",
              "      <th>2001</th>\n",
              "      <td>2.4</td>\n",
              "      <td>1.7</td>\n",
              "    </tr>\n",
              "    <tr>\n",
              "      <th>2002</th>\n",
              "      <td>2.9</td>\n",
              "      <td>3.6</td>\n",
              "    </tr>\n",
              "    <tr>\n",
              "      <th>2000</th>\n",
              "      <td>NaN</td>\n",
              "      <td>1.5</td>\n",
              "    </tr>\n",
              "  </tbody>\n",
              "</table>\n",
              "</div>"
            ],
            "text/plain": [
              "state  Nevada  Ohio\n",
              "year               \n",
              "2001      2.4   1.7\n",
              "2002      2.9   3.6\n",
              "2000      NaN   1.5"
            ]
          },
          "metadata": {
            "tags": []
          },
          "execution_count": 31
        }
      ]
    },
    {
      "cell_type": "markdown",
      "metadata": {
        "id": "wBn2rs8giCNI"
      },
      "source": [
        "Possible data inputs to DataFrame constructor\r\n",
        "\r\n",
        "![image.png](data:image/png;base64,iVBORw0KGgoAAAANSUhEUgAAAe4AAAD3CAYAAADbubexAAAgAElEQVR4Aey9bVMcV5Yuyg/gCx/5QIQmOEwo4hCh4RIV56LLJao+QFBR91AacRmCl6gGH2tAoVYjWy3c7rGkPpbQjFQd7YHjHrrPdJ3rLr+VfFTGLdo20xZjg7v1Wt1CLWG5ZAENgpIEAoNLjJCqyOfGzsyduTMrqyheJcRShF1J1s6913rW2uvJvXJXroxrf/U3oP8IA/IB8gHyAfIB8oFn2weg/ssgQz3bhiL7kH3IB8gHyAfIB5gP8H9E3JRxoIwL+QD5APkA+cAm8AEi7k1gJLrLprts8gHyAfIB8gHuA0TcRNx0h00+QD5APkA+sIl8IAVx/y1G//iQf698xv6E0QK66+F3Pc/P5/+N8Ed3AOk+Hhwqw7WCDszGYlj46GWazJtoMj8//kgxhmxJPpDKBzgxWzzjLsLg/n/C6Lt/whPE8eSP/xuj//gyBv8TAZoK0M35nUrcWETs9ydxfSniLtyDkbdOY2xfKRE7ETv5APkA+cAG+0AK4lYJek83FkCrr81JyOneZHHiBjB/CX8p/R8pV9x//tmfIOEhZn/2tzRhN3jCPt9+mK6/Ujvyg63tA8sj7h+ewxM8waMPfoAbb/4ZEu7jwb9+hgXEEY8+ArCAhd+14cZfFWHw2Gf4j0eLALsi9EvcpJX6M0xyAnFjDrNvvqcTt+sUHozNA5AgRf4dI//vv2A2xt2G3dC9kmjr/8eL6ciC3Ej6yodBIrdn2PZbOwASAZL9N6MP8AhskSpXDSquuP/z65ieW4R07f/D0McRYP4PGNnHVuQS4l/9G+5dmwWkIUTqj+HBdAzxa/+Km8f+gBgj+B9SWvXZdRCVuGN38HD4ERa/uo6H8jPuo7j9u/tAPIyJlvfwML6I2Oev47q44v7PR022nsZ31+4Ci7cRqalB+L/RqvzZtTsFbbIN+cBm9IHlEfdfVWH0j98BM3/E9PV5yKspgdiVFOocvv3fX0BZb/HuKa36bDsHJ+4BjP/Pa1iMxyBJbDX9P3HvzhPgbjfCf/Uy7t+NAXeCCIvELduf25l9PsR3X/wJT6RFxO98iTt7ymi1SRkH8gHyAfKBNfQBHnHTW3H/1f+Jr94KQ4p/hyffLeDRB/txzYq4/R9jXorj8cevkLHW0FjrR/6cuP+E0f/6Jmb/QwLkfQ1pEHd1wMLWpfj6Z+cwH41DGv0Q4b+mu/r1sx1hS9iSD2w1H1gmcf8NrsmBml32ANP/UK4St4T4tY8Q+eO3wGIYE7sPY3IyBtz9dww77Rj8b39Pu9GfaQIXiLvgb/GXi7Mqcf8EQ58/EFLlcTz53VFc/6fLWMQjPHxrD6799auJtq7/Ib5x/S2GPp8EFi7jLzsosGy1wEL6ks+TD6yfDyyfuP/6MB7MxIGFP2H0//o/NOKWYnFAmsd//OYwrhs2p7E9axS8n20nFon7b/DnQ+fwRE6Vv4xrLr7RTN2c5irCNXsbHsibz+bw7T9VCZvTmK2v4t7HdxS/kmYRfesArj/TNy3rN7mebZuT3mQf8oHN6gNLE7c56KorrMVrv1B2Cwup8s0KAslNE5h8gHyAfIB8YLP4wPKI+z9V4fZvh7EoTWL6tf+qPL8m4qbn+OabO/qbfIJ8gHyAfGDdfGB5xG07iZnv/kP9rTbdnW2WuzOSk3yVfIB8gHzg+fGB5RE3e3ZdWUXPLOlOct3uJCm4PD/BhWxJtiQfWB8fWCZxr48QZFzClXyAfIB8gHyAfCA9HyDiptUzrZ7JB8gHyAfIBzaRD2jEzQ/okxAgBAgBQoAQIASefQQynn0RSUJCgBAgBAgBQoAQ4AgQcXMktvCnNBZAdUYRDvdPP2MoxDDZ14ZSWzlq2i+C1Soz/IsE4cloQjCilS0zfE1/pEDgWcFuJXKs5JoUUGhfpeo31XdaB2MIegrhCY5pZ+iAEFgPBNIk7jgmu/cjM7cELvsO2Bp+iSvsLWrp/kvL6dPtjNqtLQISHvYfRU5GNsp8N8EKsq7mnxQdxqXBKbC3nuv/FjDk9yD/cB/m9JNLH0nfwO8uRmvvlHXbVH4lzWH40k1MGQWx7mctzi7egn9XGQ73P1iL3qz70HRaIZ5ir6mwE9ut9/FK5FjJNenokarfVN9pfRNxa1DQwboiYE3c81fQXu6Aq9KBwgov+icfIRJsQoYniIg0if4jZSjyXk5cASUTNS2nT3YxnV9fBOYx2FmNiqoK5DZ1Y3JVg0UR8tqR6w3BvAaWohMYmTLWjltyqFgI3lw7vKGoddMUfhULeZGb60XILIh1T2twNo7onVFMxdbvTkHUaUV4ilqmwE5stu7HK5FjJdeko0iqflN9p/VNxK1BQQfrioA1cUvz+Hb2MSDdRc+BIpT5rmOcEzckLIS82FHQjoF0F91pOf266kmdJ0VgAt1NLrzu+ync29pwYUEkHhaIClDicMFRUgDHoWN4rcENe14F2s5PQWKrzFonKl07UXTgNxi+8S7qCrORWeiCx9uL68EmZFfWozavAadOfQ8ZntO42f868nd2YGBhCIGaMrzSe19dnccRvfEWGh3lcNprcKJ/GF+/34zCzGwUug4iEH6kahDDZL8XFYXFcNjzsY2lyscHDXKMLnyN9+tsyMwshMvzBj6//BZqHW64bKU4cHYk4aZC7pj5aFYRHLvLUGJrgu/GbIJ+o4/vov9EDewuNxzNXRi//wVOuEvhqqxAc7APZ+Q06bB8k5tVUobdjp3Ic5zC+Zk4pJnz8Fbs1LA0pFOlWdzw7YXDWQ67W79RVvoohq3hLdyYHRR0Ogn/zxuh3EinulYff3HoHSMGCXMyJsut2KsZZ8Ih+BqdcDpL4T7xBe7f9sOddRA9008w3XMQWdUBjEnT6D9chobgqJZhSRgHJh9q+xIzkoUNtccdEmKR3+FIaTFcVYcQGJo3+cVdSJrsw3pqmp+7EtDtmOfEoZOvoqGiRLXDgqVttKnB+4g8xJC/CY5KJ2xFrTg7+giQv8uFzeVESWEtOkLTkKLX4Gssh71kJ9wdlzEnceIekn3UbXeh0vESPcrRAKaDtULAmri13tkKqhTFnVdxRyNuKE6cuR/dk5y5052c5gkRFYKFEtx54EgIxqNn0JDNAkdMSe3KgUMTlA5WisDCBRzf1ojAzc9wOKcO/mFxVczsugNu/zeID/vhzmDfz2HYX4eslh5oT8Qf9uNwThV84Slhxa0QQUb2fgTHH8p2lonmySB87lK8fPxlFLt9CD9RbxQWb8JXVobjF6YV+5b5EH5sseLW2s3gyeAvUCo+49bkeARxdapAoz4SYP1aPQ+QA/NudA7OYDTwArKt9DvnhyfnKPofMpkV/XIO9+OhPAAP2gpxZ7Bx4izVX4SWnhGEfdXIP34e80+uo7M03/AcdDHsQ1n+CVyYf4D+wyX6jXLpLzAo3+AUo6XnnqCTiq0niPFk1xrGv6d6h4DBuHl/gGivWV1ejulXl9FZ7EL7QESOCRnZr6L320H4ymrh026quBMK4ywyXPLlxzCyDzHyn7qh2trChtIogo0OHOi5q9wMaPYW/EKTPQlxC36a4fZjWLPDuOKHltiocU30J7AbE2aPm1hM8I8uXPI3oLj9Kh7P9aI1pxnByJB6I9GHoKf0Gdwzwu1Dn5sdgdTELQcZFkyn9MDLNNbuTHkecpmTU5sQ6kpeDO7ysUAePHDc/BN8ZQ4cv3APYV8Nijuvg982bHYjPE35ZdJgK+1HtyyeJ3MyGhNsLjw2wQImBz5CR2s1CjNZSvtuInGzxysqycnEjTimew4hO2OnsNoGMNmNpkx1oxnzL3ZjGLmYmCo3t5MD7UOTHFGB5BjH3sdAVwdaq2zITJY+F3xaJ32TfpcH0b23GPYDfoQmFyBFzmLv9jIc8F/BZGxUDdoqcct6c/z+gO6mIpWs+Tm+gUndPyLglNn0Ia5qN8r644dHWvqfE/dpXGV7T5JeK4xlxmAsCXHLfbEsjChvEZq6r6H/cDmaPvo3+JxlcJXXoPOLM2gp9CIkZmnM48QEGTjGVz802loky+ketGQJGw7N9mZ+cfW0uikxGXGz60U/5TJY2YbbwRjXYpNX0dXRiqrCbOXRD5c9ElN9qw5N38tHrr0SnnqX6v+Dqg/cRqT7JWy3H4Q/dM86w/M0Jz2NvekRSEHccUz3voYdNe/g9hMeKFgQBuRdyOyOe44vXfjEEAJ8kslpnBAXMKYFKOMYsCCFgfZdKPOdw8ctLrqbXRPXYyR6EFm5dlR5auEq3Ga6IbKwqxYQz2A07IO76EfoCn+GU/Kz6HSIO4b73S3IytiORiHFunLi/nu8d+4XJjlE4p5H2FePotYuhHtPJH/ubQ7MBf+My4Nm/aKQot/g0+O7kS1nC+KIDn2C4xUFcPu68Z6QKlduUjh+qyVuBwraB+RHVMpzez5X0iXum4kYLJu4x2RfyXuxCQ27f4meX78At6cattZeYcOhFdYcg6Vjg+zSIlGzE+LfzEYbQdyj1+BzO9HaFULvKXXPRoJ/vIiWBn5zwyejoKs0h6FPT6Aim2UkEn4PwS+gT0JgRQgkJW5p5gscKapF5w22MYgHCkbcYhqMjyk4LHdwK+JOmBDJiFvCkwRS+E5OoeY2H8JB2yH0TNN6m6O/8s+HGGh3qWStrPyyGtgGRN6jhV014lZJgz2ykLMiaa645VR5Nf6x/SB2rCRVHr+OzuJSHL/A06wNeKN9DzINcojEzVaPNlQHhpQUfMoVt5gq/y1ustWsqV+GjHzjqj0qeoKxQCMym7x4Iylx38Rg5y4lVS6nfjcgVZ6w4jdhkJK4HyWmysOPIMmPS7Jkf3k80I6CjDzD823ACmsLH7pz1WRDYYUt41OUZqp8HD0tRcKjnCYE2TNueQW/ihW3HLsaERi7h/7DRcKKW/ePnNbf4o/+euQc6MG01XyRHWUEgWobmron+ISiT0JgTRCwJm4pgt4fVaDadwPKliCBuGOj6D7ggNs3iCeaCGlOzoQJkYy41fShOWjKabQMyM+ttMmiCUEHy0VA/rmVXcteyGlz7Rku68zCrhpxBxGZ+RJtpcVwVu2Go6AU3tAcold+BkdeKfYFvxY2NHL/OY3rva8hvyaA0QX2rNcupMuVDUtuezmcjr3K5jDLXeX8t91lcLGNZFlNOHP9c5McUSB6EV5HAez7Arj85Sn5t+BVVaUokImb3bA4scN7BdpDGfmGMwd5dgdKbM3wh6OQTPqd+s3b2FvkRKXdjgZfCLfPvowilxt2eTPbNcPmNOOKewzS5Oc46mAb/YqRty3P8IybbQKVN705y+FofAs3osomqoxt+bA72Oa0dxB+JAk6vY++D/ivPJJcayDuYcycN2GQkrgBaVLZeOd0OtHou4Yom2/xAbQX7FT8hT3XzWb7GvimQeYv8cRxrFLlkUfq7/N1G+q/xVc2KTZst6mb06LqRi/BL/jiILIgj+fIK0FFXYXsC2tC3JG7ON+2CzZnJaocO3Ti1jYvqv7BNqc1FKHQVQWX800MxNX5cub36N5bJv8qR95YGKVFxnJDE7VPjYAlccflu+kMZGQo/2U2deG69jvunag40oWwwRmtA7zy8gxxcponRDLiRkLQlH8SJLE72O1r8nvj1LDQt881ArIf7YI3NKurqZEB37ehf7WmR7Gb8FWU4/iFb1N0y290lEdTKRrSV4QAIbAFEbAk7mcWh/nL8O5sgH9IWyc9s6KSYM8uAtL9buzdLexoZ6KuK3Gzn1C+gXJXLepdpXC3nUMk5e+9ibifXe8hyQiBp4/A5iHu2D1c7qjHjlfOCc+Unj6AJAEhQAgQAoQAIbCRCGwe4p6/iI6D7+KGIUW/kVDRWIQAIUAIEAKEwNNHYPMQ99PHiiQgBAgBQoAQIASeOgJE3E/dBCQAIUAIEAKEACGQPgJE3OljRS0JAUKAECAECIGnjgAR91M3AQlACBAChAAhQAikjwARd/pYUUtCgBAgBAgBQuCpI0DE/dRNQAIQAoQAIUAIEALpI0DEnT5Wz2FL9UUfcpERDzzfDyC85NsZhbfkbRpENqPMycB9hnRZ7ktr5IIhebC7SpBn24POKw+0Ot7JtE08z/TPU6pyeRrw/UD4KVQJ5DYQq40lSrr1znBchIpr6YKwXF9Kt99lt1uFDpZjrXV/yiBLEPdavsGJv2O6HDXtF7Hx9XLWUhdLC63hyfUxdqKAK8Fko2RLlHblZzajzMm0XSddFm/Bv6sMh/sfJBtYPR9HdHgAg1Ox5b9tTgvOC5jpPwZb0U8RmrcoOiDNYfjSTUxZfGV4f/4Skq7f19wGW5m4BT/QgOa4pEvcQh+ab6zzK4c1WZMdLFcHq34EvcR6D1ZNV3guTeJ+G31+D/IP9wkl/NQRU04yQSq5oEUxWnunhJMbeaiT1PiQH7vyf4J+rSzpMnVZpthSdBiXBqeWsbpYC+dJR0gdE1auNb1/GyVbetKk12ozypxMs/XSJY7onVFMpXwVKysUGNJrpC832IrtF67Au8OJ9oGHCYrq9dATvjIWvrH6ekPOcRtsYeIW/UDDnOOSJnGLfYi+ofX3NA6WqYOViKJeT5e4g4hEJzAylfiO8NSTTNDKoIxwfsMOBZKSorgz8iChwH3auixL5ihCXrWmb9rXrYHzpDWWgAlvz1ZetU5Uunai6MBvMBqTEIv8DkdKi9VqTbeUVKWtHK6SAjjavsSMtjLiFb5cqHS8hODEFG749sJhL0ah+02E5uKQZs7DW7ETJQ4XHCUF8AT7EJTLYQr1miMLiN54C40OO0oKa9ERuo9IsAlZJWXY7diJPMcpnJ+JA7E7OHfEDZurGvsCX2PWcM20cKPE8MxDrizzTrg7LmNOUqpQ6WNMQ7LsrxxOew1O9N+FxIILrxCV58Shk6+ioaJEk0di1aIay2EvUcaYva9U2HJVVqBZrD1ugTGH36jTN4jLfTrhdJbCfeILTErcN0TS4OcYlqwCmYKt49AxvNbghj2vAm3np0zyq+e0gXkfSr8JWMvtHiH8fjMKM7NR6HoRXv8b8GTkwuZyooSPIc0m2FwbwhCc2XhFaOoewpC/CY5KJ2xFrTg7PID362zIzCyEy/MG+h/cNPnjqO4vcseKD2dX1qM2rxkf9P0v1DrccNlKceDsCGJy4EyBiclmcxIraVqD7a3nMMMFT7AXl0G0gdqYV3pzueFo7kIkAY/HmLnwBioKi+FQq9sFI8O6ThpGazMHFtUqb0YfVDDTbfwSTr72AirsfD5zXxDm5MQdpYKdrNfbOPee4Af9k6ry7Lo05pncenW+xKvXKXqFcVv0odFHSjZoGXN1Tothuu7m+Twnzz3Bl+TYN4UL3moUyrGpCFmeX+OcOEf6LwuYcHy5Y63803rFLTtfFQpLHLDn5SDDE8CVoFpGEAuInDuGUpsTVXtacPDvhEnGgqn8jwdFHvSG8bWmzEEEeCnAhAkhTsIGnDr1PVhPyFsYDTYju6UH05hG/2EHqt/7PfpO1MCuTRgzKAJJ8ckhOuMLrfjvtboufTfP4YS7FEaHF/s066gG9uwKeGpLtLKN8fC7qCvMRmahCx6vDz9PICk2abkzsHKRrIRicudJSgaiaGkfq5ioz7gbvP16sJJrbFfB9/XXCDY69PrIciDMlyu0xVl95qyDQm10JnepXiaUZTaKOzDweBK9rQ40BMN6necnrKwnq0ttQdzjg/DvqkT7wBzmel9FTkMAl880IaPMh3D8G/jdRWjpGcNEcC+28XrIzJcM15jriuejtPM6FkYDqMk+iJ6pm6b27+HSGbG/m/CVleH4hWmljjcbezwIT0Yd/MNzGPbXKeVlNXn+giF/A4rbr+IxK3mZ04BTJz3IOdyPxDWlaiCOMZ8PeGLUCVZ1scNqkBdJg/sLw3KHUJ9alzWLzRXZ71kpzllZfvmc5iu8D7VfA9b3tFaJK25jf1MJNh/Vb6D4vIuwdCgfj6/O2Dwukf3qcciLXHPddA0rpj9/xt0Mb39EvqnLyN6P4DhfWEi6zRbZOMkw6cIlg82aEYw8QSwygC/Ds7rcXHuDDIXwBEUbqI2YjkJp3EUzHh98jF/JfsXrybNa5BbEvSZzQJk3iT6oznu3H8Oy/27XfUaezyOJNxKszrmgl8EPOD5qbEg9z4R5KS7mLHwzuS8p8ifqpfvQotyf7v9yKeikc5XZnafouV/eMs1n1mYIQY8x9n38h1+gLP8ELsxHMdi5G3I5X1GvlPFSA27ZB5bELddlNgijE/fERBCN2w5pwdpylbpoEfQeCyk2s5jahIgKk/ChcJw4IW/e9KFsWxsuzLOxKtH56VtGxzKPAQviNjmjrksyxxA6tdJRDuw70Bxkd/r8n7ji5k4h3MnKk9ZEKtN84pidJw0y4MOm9SlgorVfwOTAR+horUZhph3eT06jJYsFF66RlQ78uyeIdL+E7faD8IfGMSGXgrWjylMLV2E2cr1n8GFTkXpTw/uxIG65bnse7FX1qHcVIjP3OIIBfuPIr7uInpZi7QYJfOOTdo0XIS6WSBJ8Up19G02Z4hiNaGky96fqzYJA5n50Xz0NTwY790jxTUPN6z+guylf2TRV75KxO3nm19i7vQwH/FcwaUhBmzAORVX07xl1wgS6DXixFeofliBuRiiifwmyysHMLD83PMdVJCN+jpNrslQ5H+M0ribYPKTPBW38GCCXVi1Ba+8kYpNX0dXRiirZR0J4ZCBuM1aDOqnIopt8OHYfA10daK2yIVMmf0EHbXwu7z+h3WQzuXwwh0T7TCaDiJXaWBpD995i2A/4EZqcx6QZjz1N+F6m4FeyP1kQ9xrNgcujZy18UMTMCh8LeSaGBb0WjI9MNJyEvpLOM2Fe8jbM/xNsk9qXpIhRL7MPxRL6YyVyuXyJc1W3e6o2gu/J/TfgjfY9yJTjgICpqJc2pjgntcCkIbfcAwvijivOZhCGE/dpXO85iCz5O2UoneyEoeUgKjgnC3qRi/qzMa2peUJ8KwREAQjW3jwh56+ifWcNfOeDaMk9iv7oqNGxtDH4gdAfN6rJGUVdzI7Be9E+rXTUArtomHSIWw22msG5gyQ6WHIy0CRbxoGAiXyVhCdhH9xFP0JX+DOcyrXDKxOcaku5DXfsJI4ozWHo0xOoyN6Nf3itWnVqLpKZiJjeyYhbHFOUk4/PsOE3AYBC3OI1fEz2ya8ZUwNOOdo/fRdNPIDKTUXZTP0xf0mLuAV55D7jiA59guMVBXD7BvFEPmeBsUbcJhk2K3EL8UFWmf+Pzzt2E8hv1q+H4HM70doVQu8p5ZGSTtxWWPG5wW8mRN+YR9hXj6LWLoR7T6irdsH22vgicZttxoXln6lksCBuAFL0G3x6fDey3b/AF2e+b5wD5riRkrhFfxb15DqlMwesfNCqL3E+WxB3JCbo5UP4P65YxHMuV6p5xnFN8yYwmS9B0Ovn7+DnJh9amriT2Z3rYMJWFpt/x7HaRMQt31ELYIpkp5nE7JyWxG01IZIRt9WEZGkRF5pb98Imp8zFCWOqtSwLJjirNoGNznjj/CkhRSc4hhZ0NQ2NRJEQ2FdD3OVoH/hKXVVYOc8ScgkiLn0oYCI3Vm/aqgMYkwOrHd5Ll+ErKzKlys2rOlFfFrlGEKi24YVjP8auHD07A8xjsHMX8o+fx7yWKmcr5yI9VccCmZwmLBbGFOXkk4el3auQbUiVi9eI2rNrhKxGzqvonWGpcrE9S0uL/VlkjeSMCgumPPCLd/EsO1KPHC6PNvwTjAUakdnUDeVJoAXGGnGbZEiZKh/BNLuJ1tKdO6xvgkRZNb8X5eeCclxFMuLnOEkuFWyDkDd+GmzO+xdrnj/ERPch5LvZ44ezaMpsRGDsHvoPFyHXK664rbBKRdzsxseG6sCQkipfcsXNNt2abSYhNvU1vgz9BY9k0VPJIGIl6MmmwFgA1Zn78dEffMY5EL+OzuJSHL8gpsrH13kOmH3Qaj5xMmL+bSGPmnHjelkvxNKZZwJO2kLFasW9hC/J3ah6FdhQYPKh1MSdbK6yTrnPW7Xh3+lYnf60HcVydppxVBWsU+VLxEsBknQPLVbcQHywUxWG5+35ijuI8bAPZdl6MLYkbqs0ckKq3GpCJCNuqwkZVwJXRo4c9PneAs2xJvnzdg6F4KxaAFMIh1/z4dk2gbjZdWaH530BsNJRC+wikYkrbpYKNZHUkqlyc2BZQi5BxKUPVUz477gb3kDf7S/QVloMZ9VuOApK4Q3NyhvFGrbbhM1pSRxRGkf33jK4Kh2wNbyFG99N44ZvD7YXulDnqkPHwENIk5/jqIM90y9G3rY8+TnhzPlTcOSVoKKuAiVyWl7ZmCOPWVcBZ8cVjGl7LPTJI28eaShCobA5Tb9mQPh9L7tG2EfgH8Qjdsd+4y2I7WNso5LW31e42++F214Op2MvfDdmlc1dSVPlY9DlqYLL+TN80vUyilxu2G1NyvWqQaSZL00Y81Q5u/kUZfgGcXVzkdPpRKN5/wPrx1EAe0WVvFHQMnux1sSNGVzxupFnP4hg39uJjw7kzVhGm2t+KN/Qs99x21FY8RN0sefI0hTOt+2CzVmJKscOmbhj0YvwMr32ncHQAzNWqYg7DuZLpbZyVFWVomBJ4mabbjnezGZvYiCubE4r7ryu+U+ivbgMicQt3e/G3iInKu18vwrbrCfiMYvJvjY48nbCYc/HNtmfFmS5134OXEGk28oHhVioEZVORsFIojxn/vShSS/BD4b5o8z05pkemYU+luVLMdwX9bp+K9GHtBgv3qRaxQ5ud+6lqdro32mp/Yk76DvqQp62H4zdzAt6DbPNvEniJR9yBZ+WxA3pLvqOumFzVmC3g+2U04lb2SXJHNGJqn2nMTSrT7LhRS4B310sBD3x7kptljghkhG31YRU72oz2OaYR0iYMLEBtBeUwRuaU0cTnFU1aoIzfsd1eR9/+Eh0+HEMtDuxw3sF3EUBCx01ZxGJexHRK3nOPzIAACAASURBVD+DI68U+4JhPEggKZaWysO2vGI4SuxokElFdxA9kKcmA4785vnUddw8MpOkzz8C7Oa6Du0D+s3UuulsGS/WbTTqeF0RYCvuWiWbuK7jKJ1bE/cGDLz6ISTMh36Knbv8GNJuGPRe5VV0shc86M3SO5JTv7vk1Wd6Fyyn1VYlsK2q93J8g9puOALz53HcxX4JwXN46ygBEfc6grtBXbP3EZRXoL6+Anb3SfRG9KXdekqwSYlbQmzyAjqqy/FK7/3En22ApVIOYbfVs+kVoCmv5ndbPTdfQWcJlxCBJUBCJwgBQoAQIASSIrBpiXv+YicO+tlvnpPqRl8QAoQAIUAIEALPHQKblLifOzuQQoQAIUAIEAKEQFoIEHGnBRM1IgQIAUKAECAEng0EiLifDTuQFIQAIUAIEAKEQFoIEHGnBRM1IgQIAUKAECAEng0EiLifDTuQFIQAIUAIEAKEQFoIEHGnBRM1IgQIAUKAECAEng0EiLifDTs8HSni7O1ymcjIyFD/Y+9JT1qEcpUyrtXv1ZfZj3QfvT9qxfuXu/DyS7/Ffe3ng8Kb9FapmfwWvb42+VWbNe0XMb/q/pbogL1HflsDfvmrQ8ht7hZ0WuI6+poQIASeCwSsiVt9PenxC98CYO/adunlE5ejNn83caUThXmVaOu9o5f4W04/T6ut+c1G0jACtfsQGH28DhItk5DWTILVElgc0eEBDE6Jr3m1Em51+knRYVwanIIkvlvZahjTOYnV3y5/E5++24xd/m+El/VwvVmhCQ/yD/eBvxxX60Kaw/Clm5jSyF77xnggsRrhxWjtnTKeX6e/WNldZ7Mfn/zzC0leQLROA1O3hAAh8EwgkIK4M9X3rq6CuDXiW8Bc/+vIL2jHgP6G+SUASJcQrLpZzbVCf5r8ajGS+91o3u3H8FKBXOgi/cPVEVv645hbcgJjL8dfwT+Ld9Bb97Ia/cRCLcvph+m2FwUnffil223KJgh6RycwMpX4qkLLAjpWyqWNgdXFyz0XQ6Tn5/AN3MC/dQQRfrQuzrhcoag9IUAIbCACKYg7AxnZr6J3bm7lK26R+MTjdBRcTTBczbWibAaZWTWyV+D03YTFq9HFq1Z4vBxCWuEQlpcJBMa+ZzpnV8BTWwLPmWu44dsLh70Yhe43EZqLY3HoHdQ63HDZSnHg7CBuvN+MwsxsFLpehLcvnNBeYtWtKnYK1cD0EpHGvkYQk+6i/0QN7C43HM1diKicFA+/i7rCbGQWuuDx+vBzTx5ybeVyRSxH25eYkZRKX40OO0oKa9ERmhZW1ial5TGqUKhV8xEK6GABkXPHUGpzompPCw7+nQ2ZmYVwed5A/wy/4+RjlcNpr8GJ/mF8rWFwEIGwUgwSi7fgr3Wi0rUTRQd+g9GYgnN2ZT1q8xpw6tT3oBw344O+/yVgegujwWZky6VqWelaB6rf+z36LHAxaQaI8u87jVu3RFsl4jvx3TX4GsthL9kJd8dlzNE9QCKkdIYQeAYRSEHcLjQ1VaG1d1glbrGEHSeZPqFcYgEch47htQY37HkVaDs/JZRBjEEa9sOd/RJ+9csXjUEpMKIGWV5ty4VKRwMO/ffv6YTQfxlBTxEqPbuR5zmGUxZl0mKR3+FIaTFcVXvwg4M1+rX+NxJLD6YkpwVM9ntRUVgslN1jK+4p9LY2onNwDpFgkxZ0z4RDpuAnQZflEAK37ylk5iyH3e1F/6RSZo4H7TNXP0tKbBvjLxbEnbEDzcERLAz5sauYFVyYRG+rAw3BUdVWklLvuMyHsFCudTGhPauZXW2qv60Tt6Kf0Bcri5pzFP0PzQxiXnHno8x3E3HmU1kH0TPFamtXon1gDnO9ryKnIaiRvhlDlmYuk+vnJpasnZgIonHbWpSsFUaV65qzCnZR2W8ysvcjOP5QOOYrfR2Hmzd9KNvWhgvzrCZ4JTo/fSsJLsI4rAa0Sf7U+C5gyN+A4vareDzXi9acZgTVmsvGXukvQoAQeNYQSEHce/Butxf2AwF8fIo9405G3DvkethyEM2og394DsP+OmSxFYO6Yj0THkT3YRe2H/gUd1ngFIPSIN/Kw24GSnG4f1rByLBqZt/lIru5C+Ox0cT6phO3EWx04EDPXYVYxGu1VbNQl1U+l4ScPvgYvyorMxW6jwGsapDjpwgtqEQnB+DZxOA3bpRFJ4oH6D9cgjLfdYyz2tLq9UsT23q7jBVxN4HV5J3s3o9MuVZ3LVyF2Uqt5Nh9DHR1oLXKhkxW7/hRCN5cu1w5LbH9GXzYVKTuj+A3ewJxm/t6MobuvcWwH/AjNMkJjelvJm5TfdurH6IpMw/2qnrUuwoVuSwfuas14D3ssQDXm6+4T+N6z0Fkyd9xF/Sa6rMDkPdtMHxiSnYicz+6IxdVDMRSkAuYHPgIHa3VKMxk+CQrWQvAjMP8VbTvrIHvfBAtuUfRHx1NgovoG2p9ekH+hH4N+A6juykfufZKeOpdqoyi/GLfdEwIEALPEgIpiLsJwb9cRntJDZpetKcgblMQjZgJkgXUJrzS8THC0Tjw2BSUtNXVE0S6X8J2+0H4Q/cQE8nXsCFJIABOyte70ZKlBlOGrngtb5MgVxJy2tOE72UKgVkudB/DQuincBw/j3kt4LPgP5EY/D45LciSSBSZTR/iKiNuOcCy61MQ24Z4Cicw9Rm3hpdK3CIRgNWcrUdRaxfCvScUUjMTt6F9Kv0s+ooBUvQbfHp8N7LdYjW2dIhbsH9S3BLtkaHVmj+Nq+xGRZDf8hl3WsQt4UnYB3fRj9AV/gyn5BubZMRthQNLkbvQ3LoXNjllngwXUVFRN3beql+xnx/itfr/srJNp+KwdEwIEAIbjkBq4o5EEfZVISMjdxXEbQ6oiUFJ01qaw9CnJ1CRXQvfjc+FVYxA1iKJc5KRV1zCOMslbiFYJ6yoZOKew2Bno7prWCQ6kZhULcTADjGYKtdtHuKOQU595+ipY8g3KjZUB4aUVLlhxR21aD+Pwc5dSVLlDDtTX+oqWa6lzlayk/y58hLEPT4I/65iPeOiOVTiQXywE8VJUuXjLBuUretrSdyLLH3NMjLTlo8LlBFVu1cHMCanylOtuK1wUFfPGTlyNos/OEjExaifnN3R5LfqV2mv9OPBsderkHOgB9N8AGN39BchQAg8owgsQdwxyMFAJu4RTLNUotuP4Tj7+csOeILsGfdSK26BUGUQrIOSho80gkC1DU0fnklC3PfQ01IkpOebEBy/Dl9ZkR64ReKe7kFLlp7Cl1e6nPAjFuQUv47O4lJjqpz173wFPdOMSETiZs8J643BTw7suixJU+XyzUIqYtMQWecDUR91c5qaZYA0ixu+Pdhe6EKdqw4dA3OYOX9K/r1yVVUpChhxx2ZwxetGnv0ggkPseb7Y/iGkyc9xtLQYTlcFHCUFwgovntDXlYlu7C1yotJuR4NPLNm6iOiVn8GRV4p9wc/wQYLPLSB64y00bLfBVVcBZ8cAOOUngCfdRd9RN2zOCux2FCFLW3Gz5+JcXyeq9p3G0OxFeB0FsO87g2FtRyLfi1EOp2MvfDdmIYn+pg4ozXyJNqZ31W44CkpTpMoTcQixzMNYANUZ7Nn4I8j14C1xMWlnkP9dXP7SaCszvt+xzWkNRSh0VcHlfHMZv/gwjUt/EgKEwIYisCRxg/12uUYhZzkYsUBWUSXv6F0ZcRuDkqatNI7uvWVwVTpga3gLN6JTOiEM39JvEKAEOkdeCSrqKlAip8iFwF11CIGhiH7t0B2cb6tAnt2NOtdO5RmmQNyJ5DSLSfllGmVw7S6T+z9z/h00HvgUk/LKxEh0UtQc/JRdxzKJMFlujyg7pZ3lcDQyvRaUjUnqKj85sWnI0MGWQ0DCfOin2LnLjyHthmHLgUAKEwKEQBIErIk7SeO1OU1BaW1wpF6eTwQkxCYvoKO6nF6u8nwamLQiBFaNwAYTNwWlVVuMOnjOEZAwf7ETB/3io4LnXGVSjxAgBJaFwIYTNwWlZdmHGhMChAAhQAgQAgYENpi4DWPTH4QAIUAIEAKEACGwTASIuJcJGDUnBAgBQoAQIASeJgJE3E8TfRqbECAECAFCgBBYJgJE3MsEjJoTAoQAIUAIEAJPEwFr4k6obMTeDy4W+eDHrJZxExyVTtiKWnF2lBVSMFU20oqIPE01aWxCgBAgBAgBQuD5QMCauLluWmWjsKnIBy/4wd+VyF5jygpo3EQsaRER3il9EgKEACFACBAChMBKEUhC3ObKRoPCm8vE94az32VfRVdHK6p49aikRURWKiJdRwgQAoQAIUAIEAIcAQvitqpslIS4nwzC53aitSuE3lN2pewjUhQR4aPSJyFACBAChAAhQAisCAEL4raqbJSEuOVKWI0IjN1D/+EilbiXKCKyIjHpIkKAECAECAFCgBBgCFgQN5BY2SgJcUtTON+2CzZnJaocO1TiTlJEhPAmBAgBQoAQIAQIgVUjYEncq+uVioisDj+6mhAgBAgBQoAQSI7AGhM3FRFJDjV9QwgQAoQAIUAIrB6BNSduKiKyeqNQD4QAIUAIEAKEQDIE1pi4kw1D5wkBQoAQIAQIAUJgLRAg4l4LFKkPQoAQIAQIAUJggxAg4t4goGkYQoAQIAQIAUJgLRAg4l4LFKkPQoAQIAQIAUJggxAg4t4goGkYQoAQIAQIAUJgLRAg4l4LFKkPQoAQIAQIAUJggxAg4t4goGkYQoAQIAQIAUJgLRBYgrhjiASbkOEJIrLq0WKY7GtDqa0cNe0XMc/6k2Zxw78ftswMZOS9hO7Ik1WPQh0sBwHVvrl2VHk88Hw/gHB8qevF6nBLtbX6fqXXr/Q6Kxme9rlnRZe1nN8iphZzXfx6I44jQXgymhCMxCxGiyN64x0027KRkVGIvd1j4AWKLRpvgVMb4I8p7bFWEK+n363XXFmZ7mkS99vo83uQf7gPc+ZxpDkMX7qJqaU8X/oGfncxWnuntB6k0QBqcvYjOL4AKXofd6OpWWNxyI9d+T9B/9yi1gcdrAaBlTjjaif5Sq9f6XWrwWe9rl1vXRYwlGy+GlRaif0NHVj/YTHXrRuu49lURCENI1BTjObgCGJSFHfvRlMT9+It+HeV4XD/g3UUeHldr20stPDHdON6SrHjiA4PYHAqBqSyR8o+2JdCP6naroffaTis01xJpU+K79Ik7iAi0QmMTC0kdBULeZGb60XI6sZWbB0LwZtrhzcU1c7GB9pRkHMU/Q+XYn31EimKOyMPsNRQ2gB0sAQCK3FGi0m+xCjGr1d6/UqvM47+bPy1/rpISearUf+V2N/Yg+VfFnPdst16nkxFFPEBtBfsxOH+6TQliCN6ZxRTsTTjVJq9rqrZmsbCRH9MO66nUkL0g1T2SNUH+07sJ1XbdNul6sP0nY7DOs0V03jp/mlN3NJd9J+oQmGJA/a8HGR4AriipcwXEDl3DKU2J6r2tODg39mQmVkIl+cN9M/wFTNLRb2FRkc5nPYanOgfxtfvN6MwMxuFroMIhB8p8sn1vAtR5e1HRJ4U/Do7Sgpr0RGahsQMnl0BT20JPKeOqemvBbV/3u4+7vd74ba7UOl4KUl6LF1ItlI7C2dkq4taJypdO1F04DcYjUmIRX6HI6XFcFUdQmDoFoKePOTayuEqKYCj7UvM8HgmjSLYUIKWnnvAXC9ac5rxwRc+1DrccNlKceDsCGLgQWJYeAzDz42Y7DotrIRYGz7uTrg7LmNOsvCX2B2cO+KGzVWNfYGvMWvww7uKP2UVwbG7DCV5Thw6+SoaKkqQ5ziF8zNxSNFr8DWWw16ijDF7/wuccJfCVVmB5uCoLo8FTrrnCHNk32ncnmV9OuF0lsJ94gtMSlxfKwz6EPQUoMThgoPhe+gYXmtww55XgbbzUyb51XPxm/CV29Hae18VQbArmz+avmr7hPkdRIQ9tvLthcNejEL3m7gy9u84kl+B9oFpjAZeRP4r5zD9XTrYPEJYm+vfx7FDVciurEdtXjPOhEMWOKTQVQPUws4W+Bv8tO9teDJyYXM5UcKx0/qbR9hXi+yqf8b5iLoYMekfmhtB0FOESs9u5HmO4ZSnEJ7g2Cr8Y1To7zTCsl/y+GX2c2UsbZV6JZBoQ40IeSzksdbs49zmRvuG5uKQJr/AiYqdKHEUI29bnqyfDFE8jPfrhLg+Pa34hrMcdrcX/ZMxSDPn4ZWvVfw0EZsvcPk9HvNfhNf/RqI9EjBfkGMC9xflMYfoTy/C2xdOkEUxq9iOccxdU7tHQt8NOHXqe8gqKcNux07kOV7CyddeQIXdFM8MOJyE/+eNyMgtgstVnDRezPFYqPna+hxYEvdi2Iey/BO4MB/FYOduA3FPTATRuO0QeqYVktbvSAQBF2/CV1aG4xem8bD/KHLKfAg/TlxxAyopOLbDceR3iCyE4d9VifaBOcz1voqchiAisoPuUNJa3FnHB03tjuFkfeky7qAFWbf0oRrg1WfcDd5+zHA8HvbjcE4VfF9/jWCjAwd67qqkxUgnH2W+m4gP++HOOqj5AvAIYV81dnivYH6wE8XM7vJTDUn3g8UUpPVBj8mujFC4QMq4pZ3XscAesWQfRM/UTVP793DpzF5sO9CDaXadlR+Os2efdfAPz2HYX4cMtx/DcfYYpwgtPX/BkL8Bxe1X8Vi+8WjAqZMe5Bzux0MuhvmT48RvRtnWDcMcUTDJP34e81rbMIIyESQj7h1w+79R8BVkzWrpwbQ8B6rgC8/K8svnsIBI6BLC2qMmE3FnGNtPJczvIMbZY6jiDgw8nkRvqwMNwa/wta8O+S//BD8urocvPJ0+NtrK51vl5iybPQ6blX0jEYcUunKs5VS1KS5wv+CYmv3UEifeIVvFsRs8J7Icx3AusgA59WzQvw9nPLnIbu7CeIyRLiPTW+ljwIfi8oWZzdX+rOIc10e7sR3T08uMuE02VPygCcHx64mxVvZxk80T7BvW7fHkOjpL83Xilhe5eiZV54MH6D9cgjLfn3DTVw3Zltq1ZmyaERw9r2dZLewxlSDTkOAvQnZX86coEmW5Ce3Bacp21zHOFp+yLz5UxtHm/nZ9vhniGVvscxzUOcViWtJ40bxhi0YL4o5jsns/MuUNaTwA8BX3aVzvOYgsYbOarhj3VACT3WjKVDeGMINl7kd35KJuRKEpO5RmvsARmx2H3/8lmjLzYK+qR72rEJksBT8mbDKRjd+E4NUPTe1ex5kPX8J2+0H4Q/colW7CN/mf3L7i5sMFTA58hI7WahRm2uH95DRassRNPpx4hcCibQCSsBDyYof7V+g7sxcF3itYiN3HQFcHWqtsij1j/HoL0nrDa7Kr+AiGXzemp87Ovm1q34iWpmI9AFn54dXTatZGuQNXNl7yvv+A7qZ85Nor4al3yfqfPPNr7N1ehgP+K5g0pEpNOGmPgOKYNsyRCXQ3FakysXGK0NT9hyWI27Tiigiy8jkgnkswsGDXhPancTVhfqvn5Bu4WrgKs5HrDSE23YMD2ZnYzlbbEtMjTWy0AKoStxwvUuEg+pKgK9dLtqMpLsRM+Jv9NEFv0cfVjqVJ9B8pxfbDvfiGYWLQP4CAusqGRqar8Y9B1eZjanw068OV5b4oYCITN5uDAjZcPzkWmmJtgo9b2fcMPjT4pepzqhh6XE/kg8ymN/AvCdcmYuO90KvHfC6vpoOVTBcwpmV2OR5iqnw2gZsym7oxyZtqfmfV7kNc1foW5odmWwFvLZ5ZELfsy9xGFjprcYALtT6fyyZufdIrAukGFgS0CpgpiBuIIuS1I3dPE77HCZ93pxlc2OAgOitvJ81h6NMTqMiuhS8s71nn39BnUgREB2aNJDwJ++Au+hG6wp/hFNuTIJNjusQNJUW+zQ1PXTlae/+CsK8eRa1dCPeeUPdCcKdPRtziWKLg/DpO3OVo//Rd/QZRbiqSQ5IbyISgxgI675tNRE6yfOw4okOf4HhFAdy+QSi/e7DASZuwYqBjfYgysXGeYeIWbsiZ5NL9bjRnZSCrMYgJmbjTwUYMtGtJ3KJfWOBv9lMtbghkx00qfCrxqw1nP+SLFf4l94kxGIk7HQws5AuZiVvUh4/JPoVxuQ5rRdwG+5r9ci2I24SNRqRRPXtgJm6DTOZ4pOKi9WNFyE+buE06i6Zcx2ML4gbiLM2ZJFU+ztJs2WuUKo/N4duHcSB2G4GGEjR/9Bl+vatYSMtCMLhA3HKq3NSOgSSNIFBtQ1P3xDpC9jx1bZ4oKulUBzAmp/js8F66DF9ZkWATi8Ai3KFCGkd3cz4yslrQfX8U3U02VAeGlFS5vImRXz+irEy1dNUOeORUuYVdZcjZdfnQUuU5r6J3hqXKxfYsLV2F7CVT5SxoigGdy8TSffXI4ddrpn6CsUAj9Lt7C5w04oaSztPmSKpUuQUGQfaMe7kr7gVMhS8hNMIT+oJdefAX9L2TML/VVHmOPq8B9hzYg7J//Cl+vKNOTZWng00y4k6Fg7jaEe2iGkBOlYt2tsDf7KcWeus/aX2M2W/nIeERRgNNyGnuxt3bfuwy6M99QiTu1fiHQNwJ+miOBuAeelqK9NQt+0lbKuJOmio3+rj8KMSg3zwGO3eZ0t1MV+WfuCBLTE+H8Gd+rfw4iqXZLbDRCNeKuK18TvBbLgj7FPpJlGWZqXL5RkEcR7Cz5jP69mcdB6trLHQW5V7HY0vihnQXfUfdsDkrsNtRhCxxc5q8oWAPthc6UbXvNIZmL8LrKIB93xkM6w8bMClvFiuH07EXvhuzkATwFX0kLAx0oJj9hjtjOyraziESUzahNGy3wVVXAWfHAOIimNqxsiFDa9feha69ZXBVOmBreAs3tGd964jcc9G16oz8d9wNb6Dv9hdoKy2Gs2o3HAWl8IZm5Q1jMtba5jQzseiODizoz46lOGbOn5J/u19VVYoCA3GPQZr5Em3Mdyqq5I1unqCyOU2zK7O/hjObYHwjkx0N/kE8Yj8TufEWxPYxtrmsoQiF8ua0r3DX7IeaD4kEoU9eeXOafH0VXM6f4ZOul1HkcsNua1L8WJVHlt2Ak/5rCfn9BD59jty+q2xwczqdaPRdQ1TbnGaFwQqIWw6elegc5JkmIchY6Zswv/nmNCazC3WuOrR/1oVX8l9EYHQGg52VSrqcbU5LAxs90IorbiibodylsMJB24gl3GDoRGthZ+Y7BvxNfipvTjOSl9bfwp/QXsx+w52J3IqT6GUb1LS4pujfMfCVfgMlrIJX7h8CcVv4re7nypxx5JWgoq4CJewxVSrijjxKjLWWNmeb03T7dgw8hDT5OY4yDF0V8kZItsFM+xcV4nqcbVaugd1ZDkejEl/lax1sPuob24zYvImB+AyueN3Isx9E0MoeCZjPKs+eDatwJpHQz+2RBFk0mUWOkTdgijIrG9+UR2PC/BBsq/ugEM80HN5H3wf8nSbJ4gXTWZNmXQ+siXtdh6TOCQFCYE0RmO5BSwnbWKbtcFrT7qkzQiApArGb8FWU4/iFb5M2oS/WHgEi7rXHlHokBDYQAQnzF07CxXbCb+CoNNRWRoBtQn0D5a5a1LtK4ZazpXTTuJEeQcS9kWjTWIQAIUAIEAKEwCoRIOJeJYB0OSFACBAChAAhsJEIEHFvJNpbaSz+i4GtpDPpSggQAoTABiBAxL0BID+/Q4i7MwUt2U/JctnPwYTdmcLXG3qo7bBdoSzaDuwX0H5xIzfg6DtX1xevjRpnLbXYjDKvpf7U11ZHgIh7q3vAqvQXiVuv4MN+a+ls7sb99dyvIv8WNo2KTSshbqFvib3WNftV9G54RTpOTuy3olaV+cQKYDr2mjkFHbRzlgd8HOGnQJbthJNp9y1cs6aHK5B5TcenzgiBp4sAEffTxX+Tjy4Qt/YbygcYDrShcyChAOwa65pmxaaVEDf7na1aDUp/AcMai79kdzo5Jav0pZ3XsBd+Sy7okHoofZzU7cRvdXzEsxt3vBKZN046GokQWG8EiLjXG+Fnun+FeHk1HqV6k14Za25RffGCyw1H82lcPmN+AQF/bemvcU6rCPUivP3q24P5SxDk67v0giGMTHnFN/WlK3olub/gtr8OSvEM9hapnagOjEBi6fdt4kv8efA2VdOSq5XF5JdSVBQWw2HPxzb29qkIr6KkVmS6EkbfEQd2tl9Vipbkv4ZetXCO9trJ05/qVZL2BRCWX66gYKZXFhKriokVwHTDmyuOzc32mSpv/QverBdeLmN4SQvHmL2aVaw69o76Qogk2GsvllCuT5A3oTKUuTLbJGb7X0f+zg4MLAwhUFOGV3rvC4Vm2Et4htSXf5ir8okYFasvRZrHkL8JjkonbEWtODv6SHshi1J57baxwt/ElKFaWcpqVjrUdEQIbAkEiLi3hJmTKamumNXqTcbKWM0IXn4fHq1eutpWfqsRJ02BVKxWfYygtesFGeRVsFrxzaKC11d/7kRxQTsG5q/AuyMT2a29+Ja9alerNsb64jIw4jZVK5u6oVZMmsGTwV+glBF3QkW5M/jL1z648/fh+I/dwnvIxb7HhOpAXH4VB0OVoBG90pJWDUotXQuW0hYrjrGbD1YpS6y8ddP4OldW+WyalZVk5KhjbKzMJ9jDCnsNH/X6ZPLy6k5WldkeD8LnLsXLx19GsduH8BP+7EPE3qoqnypb6S8wKJN+sVLqVYZwWq0wpVRr0iuvsT71vhKrdaWuZsWtQ5+EwFZAgIh7K1g5qY5C8JeLYRirP3kvD6J7bzHsB/wITaql8JZD3NKYcL1Qpk9MX1sVpBn+dxzeth8f9f0CznIXyu0d+OLjQyhk1cY0XUTyML2CVSxCw8dKqCjHKo/dRc+BAmRsF1fbbADedwriNuAgFidh17JCIvx9+ayYgwnXUBSSofKWPp7+ulD+ikxO3ObKfILt0iHulPIWwmNZmY1VOjuE7IydwmpbxOc2It1WVfkEMjR4DQAAIABJREFU2XgBIe8VPJq8iq6OVlSp1ceeRM4KldceC32NYyKhWlfqalaaW9ABIbAFECDi3gJGTq6iGGDFakH6FVL0G3x6fDey3b/Auff+HsYymJxUgohYkgegXy+s2DiZsuIkVsQ9OY6elnK82FSH3b/+DX7tdsPjcaO1d0oXTCNXi3d7JyVuljIXdpdrBVH2Ijih1P1SBtCJNPEZt4gZb7cUcSdWEDJW3uL9CJXPtHdlc4zFcpxMSkEOS+x5n/z6ZFXQ1HYycZvwQQz3u1uQlbEdjcFRNU3OxuZ9jwGWVfkE2WTidqDgpA+/cDvR2hVC7ym7UjaUPYcXK69pfe3GP7xWrZYW5iYX/VMYn39Nn4TAFkKAiHsLGTtRVTHAspSuVfUnQBoLoDqzCf/6q/3IEqt5CWncZMTNxlSu34/uSfUN/CJxW6TKw4tqoZIMNzoHpzDQXo6MTPH5NuuVB28L4r5zFZ3FpTh+wZwqFytMqaUXy46g/cfly0+VG1awQhrXMlVuxtVceSu9VLmxMp9gu2UT983EylBWldmesFR5Nf6x/SB2WKbK1Z3oCVX5VNnEVPmv/geaMhsRGLuH/sNFKnEzO5oqr6l9vXDsx6ZqXamrWSX6Np0hBJ5fBIi4n1/bpqGZEPwZwWqVtVhlrDcxEOnG3iInKu12NPiu4btpczUvcTUnVPAZVhLabFUpXh/lj0hF4oaykcxtFyrJAYgPtKNAfj4ex1zvq8g2PN9mqqUgblYxqa8NpbYyuHaXKRWW1M1pWiWx9o/xb6+UoSYwhAX2HNyQLud9p5sqH9M2WumVr3T4E3CdPGeqvMU2p+VhW14xHCW88hmXQcBYq6bEKvPxzWlsJZ2IvY6PcL2GGZPXXBnKXJkthMne15BfE8DownV0ltqFdLkq25nfo9uyKp/qV9vyYXewzWnvIPwfkzjftgs2ZyWqHDuQ672AiW6h8tr16zgr9vXd9PKqWelw0xEh8NwjQMT93JuYFHz2EeAkvYzfUj/TShlvCJ9pUUk4QmATIkDEvQmNRiI/bwgQcT9vFiV9CIH1RICIez3Rpb4JAUKAECAECIE1RoCIe40Bpe4IAUKAECAECIH1RICIez3Rpb4JAUKAECAECIE1RoCIe40Bpe4IAUKAECAECIH1RICIez3Rpb4JAUKAECAECIE1RoCIe40Bpe4IAUKAECAECIH1RICIez3Rpb4JAUKAECAECIE1RoCIe40B3VzdqS/KyLWjyuOB5/u8dGUqLZ72b45XOL7hbW2p9NsE3627LivEeBNAl1rE1b04RnsbXU0HLs7z1wSmHjHtb9fd5mlLYmq4OsxMna3Nn8vESpo+hx+9+A4uf/ITvNQ9bv1O/tVKJt1F31E3bM4X0H7x29X2hiWIey2NElNfQ1mOmvaLmDeIvpbjGDqmP1IisBLcUwV19r5zD/IP92Eu5bir+VIdX363dhkO9z9I6EyKDuPS4JQwAQEsczIndPosnVh3XVLZ+FkCgsmylj5nPR8s/SkBBuX9+qwE7dr5fhzR4QEMTsWeiv/KpVXzf4L+ucUEbfUT1pjp36/yaPEW/Lus57mx55Vi9RijgSaU/+tHeLfmRfjV1zUrfa8w1hgFk/+Shv1wZ7+K3pRYWlyY5FSaxP02+pIFZGkOw5duYmqpG0zpG/jdxaYKT1wq3fjjQ37ssnQWwTD8MvpcJQI67pG0e0od1KXoBEam9OKbaXebdkM+/giid0YxFTM7XhQhL68+JXS67mQnjLXeh+uuC8d4c7yCde18zmo+JPGnBBun2y7hwuQnxOIx625zCzGkKO6MPIBQT8+ikRVmFs1WfCqeZJ6bOlwpVtIogg27cNL/BtwF7RhQ6yApvfN5sMxYYxKN/ZlYZdCi0TJOpUncQUSSBOS0BRKBTRBQMH4yZ0l5fUKHdCItBATceXt2h1vrRKVrJ4oO/AajMQmxyO9wpLQYrqpDCAzdQtCTh1xbOVwlBXC0fYkZjTt5fwFcCTYhq6QMux07kec4hfMzC4gknIsrhU0ay2Ev2Ql3x2XMSWyyFKHSsxt5cgUuRTBp8gucqNiJEkcx8rblwRMUqoLF7uDcETdsrmrs+cEP8HeF2cgsdMHj7ccM10sOfLmwuZwoKaxFR2jaYmyTrrfv4YZvLxzOctjdXvRPPjLp8BJOvvYCKuwchziiN95Co8OujnEf9/u9cNtdqHS8ZCgpujj0DmodbrhspThwdkQIjiYZhubVPsvhtNfgRP9dSFoQH0bQY6pFfiUAT1YRHKy4Sp4Th06+ioaKkpQ2iId9KN/+Y/TO8KjFA9ZNhH31KDryBaa/uwafaKeJIBqyD6JnOoaH/UeRU9UGX1sN7C43HM1diGg+wVbETXBUOmErasXZ0UfK6jG7Ap7aEnjOXFMwthej0P0mQnNcBu5LYjlSpWCKlV/J5WblIiyp7MX80MLnFu+i/0QVCkscsOflQCldqzhOPPwu6jR/+hyjsn0FW6j+pberwL7AIGbN7ZjNuM6njqWwEdf/EcLvN6MwMxuFrhfh9b8BT4bqv3kVaDs/BYnrmwS77Mp61OaxqnoPjH58/yv43UVo6bkHTPegJYtVbVuQ7bitIajbjvuZwaf42BaYmeS5MvbvOJJfgfaBaYwGXkT+K+cwzf3CHGces/6s/If7opXt1wIrHiD0z1XHGo4Djxt3r+P9OhsyMwvh2pfO40hdlmRH1sQtmY2iBGLFoRcQOXcMpTYnqva04ODfqQJ53kC/NvF5AOMOPoyvNSc8iED4kSJPwjhBRLizRGICYezBDw7WaE588v13ccJdCldlBZoNdYKTqUnnrRFQg6P6jLtBJDpenvLrrxFsdOBAz1019cwmUj7KfDcRZ+mfLBa8+QTiwVb1F1bRK84yLSxIjMukl2E49xcM+RtQ3H4Vj+d60ZrDgswQgp5cZDd3YVxbTT9C2FeN/OPnMf+EVarKF4j7NiaCe7HtQI8aFJKsfGS/2o3OwRmMBl5AdksXLpnHHr9t0HUx7ENZ/glcmH+A/sMlKPNdx3iwCRlaadPtcPu/0XGYugn/rkq0D8zJFc1yGo7hZH0pDvdPW8MPSSE9sfIZWwGIeFuVPR0PwpPBamcnIe6MOviH5zDsrxNkTWaDe0AsgtCXt6BVb1OriNWdPI7GHa+hd/phop3u/Bm+MgeOX7iHsK8GxT/4Pqrlam48MptVnlYxvIlF2RY70BwcwQLLsBV3YODxJHpbHWjQ5jP3pUTiNvqQ6leeIOSyp1b2WsLnPjj3L6qdoxjs3A2RuCHXE1czOFa20LLIgt9ZtZNtpugck/VPZqN7OnDiYkW+pgq+8Kxs16yWHkwthV32fgTHF5DoxyH8uXMXCtqvYj7kxY6MQrT2jiHsq5XntaaSPGYTgoy4M0xja3NDx0zOlhps+RW+9tUh/+Wf4MfF9fCFjQ9IZUV5nDnnh8fSf4zEbbT9WmClw60crT7WJOJ9E49DXuTmehFKnb4wC5P0b0vi1gfmRtGJe2IiiMZth7RgbbnitnLcxyF4c+3whqKaMInjCMQ9YQyi0Jz4W5kAcg7346HWEx2sDAExOPIeFjA58BE6WqtRmGmH95PTaMliJME9jk+kMYvnbrw/3V8iWilJq/KSf0B3Uz5y7ZXw1LuU8UKD+iqSi4QJdDcVwRNkqVs+Pl9xX0RPS7H6HbtACKDa9cZn3IrP1qHpe6axDbrGMdm9H5nyql/RK7PpQ1xlxG2oxS3gcPVDNGXmwV5Vj3pXITJzX8eZD1/CdvtB+EP3hFU1y53dx0BXB1qrbMgUJ7S8AhLwnuxGU6b6NwukmfvRffX0EsTN2ivZAaOsVjawSoczjHORkZGtBnKGvwmr0F0MtO9Cme8cPm5x4XDfn9C9txj2A36EJsVHJRJik1fR1dGKqsJspQ43J4TIgoKxfONYCxf/XrYb9yUL4jbgz3U6jatp2cvsczbsaao02DkpcVvZgteYF/3Oqp1mM/F5tZWNBHtoMS8qzDV+jarvkthZ+fFZDPcfxbamAPp8HpS7SmHv7MHHLVXwhoQn9NxOMnGLPpWIdYYniTzTPTiQnYnt4mpbtq8pzlweTOI/fL5zO4v+sBZYiUGCHa821ljh3Y3I+hN34sAZHh6IT+N6z0FkCSlMS+K2ctzIRRNxW40jEPf1biNhCE4sRc5i7/YyHPBfwaS2KjMbgP5eGgExOLLWEp6EfXAX/Qhd4c9wit1onX1bJw65Qz6RBMLSSJ33x/1FnGRWE48FUU7IXFqhf34q5WQy95EmcRe8iJYG09ii3yLRP9MjboF0ZUjnMPTpCVRk1worjnklBd3ahXDvCeOduEEGAOLfG0rc+Sh2lSHf7UP4ybiFnZRsQW7zIRy0KTfyUvQbfHp8N7Lla9SV95NB+NxOtHaF0HtKXblyQuDELcQTzeTgvrSUD3G/SiQTa3uZ/SXRzpuKuJfELlG/zKZuTLIbxLxaNDU049c9v4TbXQ+P7cfGzVPcTsshbpM80v1uNGdlIKsxiAktGWMRZ0JRWPqPdqPO7Sz6wzKJ2ySb7mviUSriNvuOVayxxvupE7d+V6sou27ELa9ehCAoEDcQR3ToExyvKIDbN4gnIu50vAwExODILlOdrjqAMTmFZYf30mX4yopMqXLTc9UVE/ctDPnrkaOluZkMVsQ9j8HOXUlS5WGEfVXI1vqwmkx8xa2nynNaf4s/mseWM0W6rnpGyJQqlwOAICcPcOOD8O8qFrBSTSGNIFBtQ1P3hHqCBQcbqgNDSqpcXHGbZIBV9kpLlY+jp6VIT9ez9HlCkBUDXZLgF5tC+Ms/YuQRj6yqbu/9Fj53KV7pHcVtM1ZMEzk7kKGk49VLpbEAqllWgK9E5RsP9gz1HvoPF5lW3DHIO5dz9AyeCpDsi9NskaA9ltgBT9BKfv1c0lS5wV6JPhcf7ESxnGLnGUaGGf8n+JOVLbS88hLtNJut1Yo7CDk1bYmdcV4n+vFNLMqbhXOQUdyJwccDaC/IRKb4fJupz/3awqfuWGCWKA+7QfWg7B9/ih/vqBNuXC3ijJqJTfAfLR7odtazeOkSdyqsuJ355+pjjRXeG5IqT3RkfQUlT45sfaJZEreVg1ukyhPHEVbc49eNhGEgbgbyE4wFGiHfPXLM6XOZCKgTnP+Ou+EN9N3+Am2lxXBW7YajoBTe0Ky8Oaphu03YnLZWxD2mbBBrKEKhqwou55sYiAuEKGij/UbWVQFHSYHwjFvsoxr7AmHMXvkZHHml2Be8DS2usiDEN23ZmuEPszv8a/AZxlb2Zmi63h5RNsw4y+FofAs3osoGO2P6Wcw8LOhY1VXA2d6Frr1lcFU6YGtg1/O9AHHMnD+FUls5qqpKUSASN7spvfEWNBmGopiUN7iVw+nYC9+NWWFz2oLcjyOvBBV1FShhjzQsgqwe6KyDnxxoWADn4gnB8n53i7yC/np6wIQVS9CwG5Ltyn6H+93YW+REpd2OBt81/Xm5NIXzbbtgc1aiyrEjgbghb+TZg+2FLtS56tAxoD8Ak2a+RJujAPaKKnkj5FLEHZH3zNTAvoS9Euwe47+xrcBuR5EhowgsIqr5003cNdtC81GBuBFLYbNlEDdmcMXrRp79IIJ9b6uPR3iqnG0im8UNnxV2RuJGAi7M0A8x0F4O5ZHjFHpbdxqfbzO9UhA3w1r5XbKAmUme9s+68Er+iwiMzmCws9KQLpdtK8SZU79529p/BF9km1sT5p6G/0qx0jrQDlYdayzwtuRJbcTlH1g+42aGNhpFJ27dWZyo2ncaQ7MX4WWTa98ZDGtR0sJxE4iXTXzzOAJxR4QgKO9mjqhO/H387PiLKHK5Ybc1KYFs+XrTFYQAISAjEMd0TytK2AbB5SIyfxnenQ3wD4nPtJfbCbUnBAiB5SJgTdzL7YXaEwKEwCZF4FtcON6E9gF902haisTu4XJHPXYkbDpK62pqRAgQAqtAgIh7FeDRpYTAlkVg/iI6Dr4rpP+3LBKkOCGw4QgQcW845DQgIUAIEAKEACGwcgSIuFeOHV1JCBAChAAhQAhsOAJE3BsOOQ1ICBAChAAhQAisHAEi7pVj91xcyX4a428uRmZGJvL2ntXfU7xa7djvwLc14Je/OoTc5m7c5z8RXm2/dD0hQAgQAlscASLuLe0ArKTdC8iR3wseR/Tuff33t5a4pF9Ckf022Nnsxyf//AJe6b1vLLFp2TedJAQIAUKAEEgHASLudFB6btuIL2FIT8n0SijGEOn5OXwDN/BvHUGEtTdypTcGtSIECAFCgBBIjgARd3JstsA36juDs2vgPT+hFMHgJem0UoHK28KUEoENOHXqe5DfXmRuNzuepCyfGUahuty+07h1y1Tekr91SC0POWEuJ0kpdzOg9DchQAhsMQSIuLeYwRPVVYjUkeXEkXN3LMosDinlOOUSgQ+VY1ZC0VxS8NTrqLcsy2ccUTJVl1O+Fcpbsnc6a/2w1Ly57CevUmbsl/4iBAgBQmCrIEDEvVUsnVLPOGb6j8G2/cd4/9fNyDSUCryAMe0dwfwdyBYl/E4G8KFlWUdxYPZ6TWN1uYTylk/GhPJ+wxblJJf5hi9xeDomBAgBQuA5QICI+zkw4pqoIL9LXqxNzHvlZM0qJvFjsYQib4ckZfn077XqY1p5Pevylnp5vx/itfr/ItTaFvuiY0KAECAEtiYCRNxb0+6q1hJis7N4KEmIjZ5GQ04LPvq9D7sMpQI5WYvEnbxMXmJZPiPAciUqrbpc8vKWSj8eHHu9ylT209gf/UUIEAKEwFZDgIh7q1ncoG8UA+0VyMzIQEZuJdp67yBmKs3XMTCrPdfWV9yJJQXbP3k3SVk+w4DQyziy6nLv4vKXxvKWVyaM5SG/Y5vTDKU3Tf3Rn4QAIUAIbDEEiLi3mMFJXUKAECAECIHNjQAR9+a2H0lPCBAChAAhsMUQIOLeYgYndQkBQoAQIAQ2NwJE3JvbfiQ9IUAIEAKEwBZDgIh7ixmc1CUECAFCgBDY3AgQcW9u+5H0hAAhQAgQAlsMASLuLWZwUpcQIAQIAUJgcyNAxL257UfSEwKEACFACGwxBIi4t5jBjeqqb0WT303ugef7AYTjxhaJf40h6CncoNeQbuRYiZo++2fEt9qlIy17U10+cu3lsOcVo6HzEmZWUm0tEoQnIw/2qnp4PK8gEH6UzuCbro00+TmOlhbDWdOBi/NmoFbomzJ2TQhGNrBYDnupkn8/bJkZyMh7Cd2RJ0/JFivELKW0y50DKTtb/ZcbZF9r4l7zwWOY7GtDqa0cNe0XMW+GZ83HMw8g/h1H9MY7aLZlIyOjEHu7x2CekmLr5/t4JU6favKxal4e5B/uw5w0h+FLNzG1KnBTjfX8WWaRVVzL/wn65xZTKidFh3FpcAqS9u549jradP7peEozX+CIzQVvaNbyQn0Mi683dL5ajJ/s1OIt+HeV4XD/g2QtlnF+AcP+OmS39mLO8ioVyw96ko5pieFTwE4aDaAmZz+C4wuQovdxN5rq7lyYw5Z6W5xMG3fd/yx6WeGplcSwFQ6V7DIx1m2QfdMi7uQBJY7o8AAGp5a4e5S+gd9djNbeKWvVVWU/6PMlCVxpjmPdu/GsNIxATTGagyOISVHcvRtNSdzJdTd2uzn/WonTp558UnQCI1MLiIW8yM31IrSEa6TGLfVYqa/dhN9KUdwZeaDURU8qfhQhrx253hBiqyBuYA4hbxkK2geQGMbFMSwE2aDgZDHyEqfiiN4ZxVRsVXeL6hhLYADumyNJxkxy/VPALj7QjgKtVO4SEIIVC1Lm8NIteYt0ceeYjfEL1+BzJTFsDYYVujDEug2yb1rEjWQBRa4oZYc3tESpxaXaacrOWAeupa4XQFzyMD6A9oKdONw/vWRTuUEy3dO7+hlvZeH07O651olK104UHfgNRmMSYpHf4UhpMVxVhxAYuoWgJw+5tnK4SgrgaPtSSLeq/VX/EK/X2ZCZWQiX5w30T0/jhm8vHPZiFLrfRGhuBEFPAUocLjhYH4eO4bUGN+x5FWg7z1aS/B+b6HysnXB3XMacxDImb6HRYUdJYS06QtOQYndw7ogbNlc19gW+xqz8fTmc9hqc6L8LiflXVhEcu8tQkufEoZOvoqGiBHmOUzg/E4cUvQZfYznsJeoYi3fRf6IGdpcbjuYuRLhAFthwScHGyK6Ap7YEnjPXFH2d5bC7vei//xX87iK09NwDpnvQktWIwNgCHvYfxbYG9t53tZf/v73v/WnryPv1H8AbXvICKVcIKS+QuAj5hZGF7BcgLEs2CuKiAHKdqrkm6nZDi0p/PE26akj2Fq+2C+qKVrd+ntb9EacPDtv4tuHZhtuGbJMUuAt5gFK3gRRCnMQUAkt4Apj4czVzzpwz5/jYYJJsIJlIrQ8+Z2a+8/l+5/uZ+c74fJVxMKXFh8N4I/opGkrzkFPqhMffh1GScrXAAqfTmr4/rH6FbIjjlHSV44sgruvX1Bjfxn9gIOiDvcYBs6UVZ6bvgfbVxId7iZ4sqPHsQ6HnY5zXPL9M33WfW16JffYyFNpfxNtvPAuXjdlOqj43ogFU7X0dfQtsSsHbKXP+5w0wYvdmZJ064HBUwH3iW8ST5B5ncxymBH3JBtTnb/7IMHDh+VBUmdwk49/ihKsM5XYrCvcUwhMmcshbR5wdHvztb/E/FD31Y4EZCtPx9BUE3E4c7b+Jf/D2PPh3dHvLJVu5248j+Qfw2cBfccJdAWeNC03haWV86GWW+sj0wEVh1scRcJei1t+PGJ3U6DG/TXWUV9OI+kIv2tufgYlk8KN5C/hxu4p4vx9umxM19he5cD/DfUqna3l8pWDG9MPG3CXMnH8LRWWdGFmdRGh/JV7pi2lxGbqN24Zty7ZBx0C57F/WUn0EVhE7dwwVZpIj4RSuLpIxr+o7xT70PikFC9k2N6I4yfu60VPwmApgdjpQzvxZurLMJrbxuTXiZsZ24zrn0D7Guc+aUJqTh1Lnc/D3x+XmmVEwxzmFH0+y51q4/bAENQJXqRV2WxH2EEcwGIJHdggqWRzEb1v2q+2cH+Fk4JwqA4c5y/g9zhibOCMjqSTrkVf7J1yMrVKZUxw374Tbj8kyraYYw31ikAYDaht6eExFmNHbUOvxwOvnHAx1GrUI/PgjwgfsaO69KTsMMkiLUBmYwMZUEO7cFvTOpzrYGW7FTaMW1k6MrMXR12qHN3we3Z5iuIM/S3WYGhCcWqKhydzDvVCnVFJbFV2jWCXhvrwW9M5NIFhdg46RJSz1vYZ872f4vvsQ9jT3Yp4Q1P0JBCor0XZpnhJjfmUA0VmyJ6u2YXIHMbVBokCETH/BZNALa8cw1pb60JrfhPDASXgyrVAYNvzeLh0jxTSSsxoNoLLoBC6t/Ir+I+WoDAzhP7uqUdIxjJUhP4pNpWjtm6F2SHBUAuNsnMUIcafDmF/JyfojfczUH2U/lTlYlbipg2bWp/RrjlvVs5vzcl8mcJ/KKe9xe99B/wKZiBUgr6kHs8pqlz0/ilkyuVAw36vqndhOij7DiK3HMHThJywrE450xK3HiMhBSDSKaKAORW0XsaL0KZoB03sGzxthwD23PoquiiKOuK/iRpizQ/B6YhhCnvQ04G3/syh+5RzmN0h4n7fnIM59UIs9bZewQuzI2oGzp3zIP9KPu1w1ACeLpo96PZBC8uTbvhf2o39FbDWqazOEgW4fTHkknH6X+k1iF7Nk6yZl3FYYLHqYXUnEbdLY4zUVWwWzn1LH3C8jCLgr8FLbS7C6A4imyHgMbzcatS3bRsV7GKekb8XhL7/R9S+M2dkwDux5WfZV6bBL75PmUrBQJ1CpK+5aBKKLij/LVFaj0iz+yI64CbHyDs1oJWzkONeG4C/QrcyV5xawPv4eKnjivnFVSxZ8O8Rp8DLInaXpIjXOUnYY1BglglZwoTNjB3Ltx3AutphqRMRxmyQnnGDOdHZcZwySsacOKKWVXXDBO0Qm7iriI39BZ2sdSnNs8H91Codz9asreYXBsFGIQa1PJe4NxCMvIIcegKuHszQPBf4QQmyVotQhTbQ0RMKvEJkNnPkYvhyJNBqdpcgpOIDDPqt6WC4egS9HlpfUnfMCIsNkFky+49tgzuY7+cBWDTyNTqnPA+OIHLLC1hzEUJy3HR02fKRJ6ceq1F+ac1zCI8d3BlNkde0L4XzAgypnBWxdvfjycC38Q9wOqlIHIe50GPOEoOIdU7Ay6I8iJ+szIe51zIQOyHu4+n7d5Ig7iUR8GD2drailuhuCMiYUvfP16p+/hBlC3BQP7jnW1+HTOn0aba8Y9ZNb6bK66ISH4EYwsMg2Qdq0wBf5LgOm5NCe/vkfOQzY2NA/R9piclxG72HODjMStwkmE3Hu9wBqr7w9t+NvQ50oq3wfF79sQcGRfizHzuDQ3ko0BwcRVyZGell0fWQic5/SuQYbjpx8X4d5G8IhpiOG9SkMp4zbi5iOvIi9thYEh25xWzpMrzJxa3St1wXTDzkkyY25oUXM976MPFMZXum7jWQKLm+h+7RR20xeEmGQx8ZBH57R+IgT+CrSglwqFwFkE+wUe2L+wggLslUl/Uslbt7XZC7LqSery+yI+8aU1qExZ6o4BsiGqHOcscupxK13sDxxj0a0ZMG3k5zRykC7K5ODxlmexrDiMAwwScbRf7QCe498iI/oSVvOiMIBZeWvhAUNHMzAtNGAMmhrx37FGz0RMon1aABuy6voiX6NdjLZokQp65P2gw3SGYOQqVpfCnErg4ZUYlQHGyRciI9/jtpAFTrOfqoSM5WHH4Rp7G9T4mZOm1ZI/5dc/hln2/Yhj8z+18nSzwAb3u6VwW5E3BHESYi8sB4+bxM+6n0fbncjPObX0ccfRFPqeFDiTu2P1DMOd7AV8QRIhECj8yGOuGmY1YHWniH0tct764qczHVx9aY8vxXi5u1L1YEJfto/AAAgAElEQVR6pdqVOkFhhMnbIcNNTxY6UkuRn7ch0hfyfLbEzbdJJOcnWGpPJH9CtjbK4A6MY533g+wxsoIu8KC1ZZ8UMscGlie/QpurRCpDnzOSmZucsLo0nzyx8Zjz+LJrmXA045YMgyVMnj0BV149AlF2zJjpPxvi1ttoArcjh5Fr2osDZDvACBfDtpm8jLjtKHnht/CyyTvtP88P5ItNsFPsg/mkNFjI2G6JuPU4avSS/R/ZEXcsAY1D+6/BzQmZrHiyJW5Kkpxh8cRNbCfFqfKKkRSZ49uEuMkuHw3nNsD3jM6IFMUlVHLSy0SxNhpQ2Svh8ZXgjZ5IIeNYF8IMDb/Z4P9+AIFKiy5Unm41qNanEjdAQ+X5LExF2mEDnXe6bJDoibsISqg8/zX0LZBQuZWTh4S9apG3aaic2BPfBpOBhO0akc/Kc8pIzoRQR+w3TrYCDLAxJO4EUqM/E7hPD2jmw2TtwvgaOWeRgxx+f5u0q9gdIyAeH0aSPCGoeKuElr4/Ku7TSNyIoLmoAYHokhQh4HXOEzd1oGRP/hb6j1ikQ3GKnEwmhuWMPHHnn9+EuGkki9cnGZhziF74f7h2j8XKNzDf24JcJdxezK10eYwYbulC5ens1ih0ahQqX8F4V7UUglfCvmwCQdrk7DAjcR/EZ+feg7voDfTN/aCzZ2IIt9B7uBgmur3DIj5ShISeSaA2aiQz2Q6Q+8jZMRJLuHN3A0hcRchbjqa/fI2PNGOItyP1mobKNeNWrjR5DaE6M3yRG/IXTP9GxD1hgJmBjdIJXx1+39GCYiVUrrML0lpK27K8Sqjchta/XkjBlI7JPOaDNsFOsW/VX6TFQuEROVKUZVleTdlcZ03cFDvm0IwIWQmBc3uMRqHyjVF0WSvQdskgVD47qiULHXFrZKBOFQbOUg6Vp8x01rB4ZwVJ3MN0yIf8plP420c6x62AzxG3kYOhSOsHVDbwP+5nZaNnv+P2voPzV7/FcfLb1dp9sJdU0J8LkcNg3r1m7nBaOgeoDvrY8mX47SWwPd+NqY1FjAUOYm+pEw3OBnSO/KA6GAVrdZCoP20iDoEdKLLBGxzHPbL6YPI0uODoHEGCHC7zWlBKD6f9gJv0EEsVHPZDCIwtSofT0obK5YMytHwtnI53MRKL4JDFgRqbDd7AFWWvNblwQYcNdyhT6UcCSMqH2xxVsB/4EGP05zd3MdJRJe9VzqGvtYyeE1D2t4kpKHUwAuJJiZHkfSwP/hH2wgo8H/5R2j+mNs6cp0F/2BEEutKQf8ddWoOjPRO0b6n9WlLb6L6IC8erYXbUoNZevDlxJ+dwUfP8JsQdk86OUPuS9blG93a7MK7IDVAZiT25aumhSDVEzWOk4kYPkbkr4HA4cIDqUMVHxZlhCqQ+z0+Q1HGq/Lbb6aIHK3k56FkZxQ6jWFT0dNXgHMMviDRZ4A78J+Z19rwhb2PQveL7ZCX6EixON2xmn2TPsjipMnN9VEROYnWkE1byG27TXriOn0MsoR9Dg9x2BjeG6bkhftxGETlUCWeNHWYvs2vSEGvXiLhnkIqZ3kbfwdf/8QaK9ocwvUrODtiUw2mKXXT0oMewbUle6fCjFWbvJ4jeS6T4iA2lL/LhtJvS+aTM9sH5JKU882HciQPe19HzNLpFQqayip6yu8hA3OwFC03wB9+hoePuv5/WObQFDPrdKLS1IDzFZobSoTO3jXOcBsRLTrVKv+2uhJOc9iX7qMrhNG4w05PMMaWd7u9O6WSQO5ziLFeVQxYqEQBY/Ts6rOQ33DkocL2Nvhj5bSNz/LLjniGHmeQVv+JMOZmogxlELM2Ayk4F4mmBgEBARYCsrltRTg4Lql8+ZVeLGPJXozr4k0r4TxkCoruZETAm7sxlxF2BgEBAIPCIELiDS20+dIxw0YxH1NLOrHYV8YE/o674DfQpv9bYmZIKqR4fAoK4Hx/2omWBgEBAIKBD4A4udx5DkGzx6O6IPwUCDAFB3AwJ8SkQEAgIBAQCAoFdgIAg7l2gJCGiQEAgIBAQCAgEGAKCuBkS4nNnI8B+0rKzpRTSCQQEAgKBR46AIO5HDvFObkD+bXJBOZy2Ypi972NQeT90NnKTn4MUSm9C8njxG+7dztnUkvZZ+kKKw4jcVn++k/ZZwxvcT1wM72/3y0z1ZrrHtaf8amG7fePqEpcCAYHAU4GAIO6nQs3pOsmRC32TXCUs/oHUtKukOJ+6LqU69jvOh5n1R22EvDzB0RTB7W2f1uH6qVb7EK4y1ZvpHte0IG4ODHEpEBAIbAUBQdxbQemJfYYnlyRWSQKMkg6McC++YF3XvNaPfal8PkriXsVU6Di6Rrh3eivtbvWC7+dWy2zluUz1ZrrH1S2ImwNDXAoEBAJbQUAQ91ZQemKf0ZELIRHyis+bP2hTe67+qEld983Ah6i3u+E0V6D5zDUklDcnsRU3IXI1veDs5Cfa50k72aTZZCtt9pIdfbrNTVP2cf1UiJK9FSmEwbAP6dNOkr6wt7exVJTMILh6dakxpxPyvc3SDTJ5NJn3uKx3rCnxKRAQCAgEZAQEcT/VpsARD8GBkQjL+qSkC7wnv9edz9yUVNNm3ifkxva4m+DvHzBI88g9n22aTSYPkc8gM1zyxmYp+6Sc0DRDldJHLXGnTTs5T1JF6tNHspCEDj+CoYKZ3KbyDmXjdIMxJo8+895TbZei8wIBgUAmBARxZ0Lnib+nJR6aVCPvNfQt/Zc2tefQspa4E7cx0tOJ1lozcgoImetD5bq/9c8rr5Rl5EkSi7AyJMuSPuWf/BatNJnhaAIK5Z30Rpl/ptXX3zKiVBKOSCvutGknlVSR/Dux2UEyHj99asw7apss4URKukE/hhgW+sx7T7ztiQ4KBAQC20VAEPd2kXsiyvHEw1bEH2D0B32aR564VxANNMLS2oNo3wkUbErcBs8zslLIU0/cumxtHNaZM8ORBx8HcXdjOiU1pp64jdINaqMcqX3jOi4uBQICAYGAjIAg7qfaFDjiTkwj0myHO3AFs5EXkKNJ88gTNyFGM+pCk1KofFPiNng+I3EbpPzT6UibblPODJcxZR8XKid5sXMbEJxawlSwASbPw1hxy/l6NZjJxK2Eyo3TDeq3J/R903Vd/CkQEAgIBCCI+6k2Av533GVwHe1BdHlDSqGoSe25DCip60IYuNCOCnMVamsrULIpcW9g4aLu+YzErU/5965yyj152zjdJpS0eelS9nETFJp20oVCmxsNzjLkPhTiDiOWkvJTIu5N0w3KofvUzHtPtWGKzgsEBAIZEBDEnQEccUsgIBAQCAgEBAI7DQFB3DtNI0IegYBAQCAgEBAIZEBAEHcGcMQtgYBAQCAgEBAI7DQEBHHvNI0IeQQCAgGBgEBAIJABAUHcGcARtwQCAgGBgEBAILDTEBDEvdM0IuQRCAgEBAICAYFABgQEcWcAR9wSCAgEBAICAYHATkNAEPdO04iQRyAgEBAICAQEAhkQEMSdAZwn/tbGCDpKcmAymeT/qtAxcvcRdZu9i5xlENtuM1nWk7yNvldbcXKgBy+9+H8McnrzL6Ephtn7PgYXWBKRLciovPucvb98C2U2fUR6/eye/e/gg9cdaIrMgiVI27SoeEAgIBB44hEwJu6H7owSiJ8/Tt+2tb/jMlYorFk64H+6Kna6fA8LEO6tYtuqcgPLUyMYn9uMuB4Mz+TyFL4fn0NSSUaytQlAcjqE/VXv4uynTagO/ozkyiA6quxw1thR6vKjP84lOknG0X+0Ehb/gGyjWwDkoY8V0uY9RAPPounfe/Anx1H0zWcxkdiCyOIRgYBAYHcjsCXivj8ZRHXR79C/dF/X2y067eTPCLqtaO2b48ozR07eTe1B0ZHzWOLukkvVWetubOPP7Oti8m2NILYh0g4p8oDEnRiCv8AG/5CcwSttrx4Ez2UM+W0o8A8Z5P5O2yAA0rdDKHk7gPfdbimakFzBncU1IHkTvc0WVAZGMRv2QcoOlsTqkB/FJR3Ka1Yz1U7vPQriTs6i9/dBjFz9KzpDE7i3qRDiAYGAQOBpQmBLxI3kMq5f+xUpa6qtOm3D51RHnly+gWtzqzrceWetu5X1n9upS5Uv6+Z2VQEdcRMiynPBU18OT/cVjAUOwW6zotT9LoaWNnB/8hPU291wmivQfGYcYyebUJqTh1Lnc/Cfj6Y8n4x/ixOuMpTbrSjcUwhPmJsI3f8JwXoHapxlsDR/gem1m+g/sR82pxv2ph7E5PjwRvRTNJTmIafUCY8/gD+T3N/mKjjLS2A/fgELyQ0sj32IA3Ybykvr0Tk0v4XQMrGJCli7hnFdIW45W1fOC4jE2SqX2EEJyu1O2JX2Eoj3++EqtcJuK8Iekw/h2F1MBn2w1zhgtrTizLSU2CSvphH1hV60tz8D6boJ4dlxbb+nu+HNa0HvfEJK3EKSlaSLjSeu49xRN8zOOjwfGsVPmjbvgeLtroCzxoWm8BT+kTUuu8p4hbACgacSga0RN1tV3LjOOdaPce4zzmn3x2UAmROtgsO2Hyf6p/Cj4txbEIqy9QMjxik5b/FJDPf74bY5UWN/EafO/RvnrM9hgrsXjrEphL6tm0jyxCOThNbx92FUcdRaGdSEEB9ibPkawp5SSjTJ5SsIHKiCrbwM7s4BLN03JpjdaUEGxG0qRlP4GlZJpMXaiZG1OPpa7fCGp2VCZClAA4iuqStuGpnRPB9FNFCHoraLWFkfRVdFkZa4GWB3+3EkvxaBc0F48t9E/109a/ETL6KzIlQGJrAxFYQ7twW9cxMIVtegY2QJS32vId8bVkifNZHySeWpRNulOS5vtjbNplTGqL0xBCpJ2QWsj7+HCkrczCbn0X+kXF3J572A8OxdqQ16zU1QWb8n/o5ApR1tl24hGtgPa9co2LRBK/c6boQPYU9zL+Y1EGnbzD/SD3pSgUyMssVF26D4SyAgENiBCGRH3IMhrWM1Wknfn5Cd2ry0eqjUOncVAy1pmjzH0O6pwJH+efkRvbPm78mPGLU1G4ZHJh7mSgG+Lp6odDIoKRitONx7WSZuEsr3wtoxjLWlPrTmNyE8cFKLg9qpXXjF48ET1yriJL1ngQ21nno4S/OkUHXiNkZ6OtFaa0YOyQx2jxH3osHz3TjtY7m1GdbcihuriI/8BZ2tdSjNscE/MI7IIStszUEMxTmC0+iPq4dNKIdPw5dTCFttIxqdpZJcqvINdLKB+b43ULz/E1xd1/afptXMew19yrZQuvbIKjsBPi1nIj6Mns5W1FKsLmFGmSBq24C+30M3MdJRjcrAOXx52MmNAb3ot9B72MpNfpLQtjmE9dgZHNpbiebgIOI3zmSJi7498bdAQCCwExHIjrhvTGkdqxFxxyPw5XBOjYQdY5cN9kGZQ2Qr7s8wEHkRe20tCA7dQkLjrNcR09yToTRqa/gUPJoVEHl2i8TtCSOmPBtCiK64v0PEV4QCWw08jc5NCGYnqngzmXSkwsgwJhM3xYTVsYJooBGW1h5E+06gwIi4Nc+TXNzpiDuJ9WgAbsur6Il+jXZ5nzy5/DPOtu1DnjuA6DpbVvL6Y3Yzo5ImJW7Z5pioGT6TC9/iqKUeXWNkX57vPxdJUI5zbNIew2v6CgJuB1p7htDXTvbj0xG3Ub//QSe5BU0vo8X8MnrTHkbj8QSwPq5rk5wB2MDy5Fdoc5XA/S+voJGNxQx4iFsCAYHA7kIgO+KOJaBxrP81mErIRmS6JeIm4c0lTJ49AVdePQLR29yBJHJSjb8nnUuHUVsPhbjtKOnoximFuBn5qMrV4KAQjHp/91zxxMWvuBOgoe98nkgIcZhRF5qUoika4l42eH4F413VaULl8s+wyH4uDRmrB9zoqlezz7wJcZM942ormntvbr63nYyh71UX6gJj8qEvrv+JaUSa7XAHxrGuKNCAuK8Po8taoQ2V08nDAYRmbqH/iCUDcafp93wvDueaYHIHMcXmK4oM7IKcNq9FHguVU/vn2yTETf6tYyZ0ADnPHsVbW8WFNSE+BQICgR2PQNbETXqkOFYjQjYKX3P7oCoizCGyFTdZ7ZLKryFUZ4Yv8qOWuDX3bkjVGLVFQ+X61Rfv+Dcw39uCXOIgN8hp92J4wrIMaUPljchnzlLtgIqDcpCJu7lrLjniIjKzFSQJAycXMRY4iL2lTjQ4G9A5soSFi+30Z321tRUoIcSdWMCg341CWwvCk7d0z99FMv4N3qywwuF00cNd/OG05MIFHCf3avfBXlKB9i8+xiGLAzU2G7yBK1hWCOw+lgf/CHthBZ4Pf43P5bMHqqyr9HCad68ZzgYXHJ0jafaIgY2RDpQov1s3IcfXg1G6JVAOp60MrqM9iC7zO8zMTrkVfuye/PPGSjj3VaI8l9jbTVw8Xg2zowa19uIMxA3o+01P5FO730v37pXFvoEN0fMWXgtKyeG0k3/DBV2bNyIvweJ0w2b2ITA2Tw+nbQUXg6bEVwIBgcAORSADcUt7hh5PE/zBd2j4ufvvp3WOlXPaU2xPUjpx67ZVwWE/hMDYIpJGIXXl97gyaTb+Hh2HKunva81ecjhsXXXW3f8Xf9HcY47VoC2eeBTQecd/FRuEMOwlsLlq6clkhbj3FMFmt8Ls/QTRe9Paw2nUWdbC6XgXI7GIDgelIXEhENgeAisD8Jd5EZxk42h71YhSAgGBwJOPgDFxP/n91vVQt+rU3RV/CgQeKQKJWxjobETxK+d0p8UfaauicoGAQGCXIiCImypOEPcutd8nQ+yVy+hs+RRjmhD9k9E10QuBgEDg4SMgiPvhYypqFAgIBAQCAgGBwCNDQBD3I4NWVCwQEAgIBAQCAoGHj4Ag7oePqahRICAQEAgIBAQCjwwBQdyPDFpRsUBAICAQEAgIBB4+AoK4Hz6mokaBgEBAICAQEAg8MgQEcT8yaEXFAgGBgEBAICAQePgICOJ++JiKGnckAmtYvLOy+StRd6TsQiiBgEBAIKAiIIhbxeLpu9oYQUdJDkzKK0Cr0HHmXw2StKSDRn7vdgF5XWgxzN73MbjA3mqXrozR9+S1ooVSIhePF78JRdO+stSo9ObfkbSXDjRFZh+MuA3fyrd56zvzCe5VrlkJ+DDfeWBU1zpiZ1+FxVyFQ599g2/edMPseBYdl+9kJaV4WIfAE2W7ur49hX+mJ2767uQ9UHL7bgecBzEWmkChEDZnOQrNB9E1+Os2nO6jJoTtgLLTyuicZ1Y648om4+g/WgmLfwByChhtR5NLmPp+AnPK+8f529slEb6ODNfknfaOlxC5nSbXJ81bXYkj/b9mqET3HvfMT+6Cu9vFnNP5A/eS1fUxzgc9KDpyHkvU79hpatMkybeuSbH6gA1mtMEHrHunF89qXO/0zgj50hM3zdhkgonk086U9SAFww0sT41gfE6bqzjlsc2+UAxtFQv9x2C2/AFDKwZeP+Ng3K5z2ky4J+k+c55ykhcF9zQkp+k6XzaJ1SE/iks6MGKw6E4M+aU0oIbVPlo9Jac+R0vXsPGEgvZnA8vXpzGXMLAvvr9ZYcMX3InX28Wc1/mD9oura/kGrs2tAlxeg8w2k33bD7u+7CV4jCWeKNt9jDjukKbTEvfGeBesrlrUFryASDbZr7iBp2ZvMvTWmSHgDW11EP5iBzpG7qaUyTwYt+ucUpp5gr/gnCfpJcW9AGanA+WFLhy/OIckzRJ2CHabFaXudzG0xJjZoCxNx3kXk0Ef7DUOmC2tODM1gpMNZuTklMLpeQf9v04gWO9AjbMMluYvMJ1QE7pIQEv15tU0or6wCZ+f/1fU291wmivQfOYaEkTGXAvsJDNXoQMvv/0avK5yFNrbcXFhAzSD1oEq2MrL4O4cwBLj4+RN9J/YD5vTDXtTD2Lse13Cm9zySuyzl8n13UO83w9XqRV2WxH20FzvUjayA3Ybykvr0TkUx2L/Wygq68TI6iRC+yvxyrkfMRrgMFucTdP2qhar6XuSDvJc8NSXw9N9BWN8PYbYMzufpLK6bU7U2F9E+MZcStlk/FuccJWh3G5F4Z5CqNnaeF2y+qQEQFo8VhEL+2Aiedf1dqHr4+ztb3HCXQFnjQtN4Wk1Ykb1UIvScjtshfkweUIYpHV+hHMnm1Cak4dSZz0anaWSzTwfQnTxCgK8TokNpMVIklEj99y41gbZlg7rg6MKNrcf/fF7tH+askY2dT+NLZHojca2tbbcHR3S9kNjgyUotzthL2fZ8fS2sazV7+yMzqZINj/O5pZWDWx3G774CfZ+u7VraYhb2rsseOt9vOcmeYcXAercmGGVwH78AhaSGzSd4gF7FRy2/TjRP4UflYH3nJxVbDMSuIawx4Iazz4UEmfAkOSJm7ZtgS8yqXVyO4UQmMy78pN32Iy4axGILmIq2IDcw72Ymwyi2tqJkbU4+lrt8CpO2Kgsn1KV7C2X01SVa0YrbhrVIW1FuT3uJvj7YxI55L2A8CzLlpWUcoCTCBBN3dqA4NQSlZHmsKYpWi043PsLJoNeWDuGsbbUh9b8JoRJilLyj9hU/pvov6t4S1ljWqKiUSZW35fnEKis1Obepvm/a9AxsoSlvteQ7w0jtjaOgLsCL7W9BKs7gB8mPtJi1v4WGg3blkWAitV9avvFaApfw+qWsGfyn0fYU0HDzKRWmk9do7coooG6NPnReV2y+uTMfQRzhkfvrELcs3rZNH2U6jPaarsfDaCy6AQurSxjvGsfR9xhxLiJvzopJwSm0+nASXhM6TCalGTUyH0Lan0Mc0CV5VfZVkcxSyYRmrIGNkXaz6RPxbaXOVteTO0Hs03q44pQ0TWK1ekQ9ue1oHeeTZCZbXyJzzn96u05Rd+ff4kP9LartKdiIK52HwJpiHsRl9oqURcaxPkjNriDPyMpG1ZlYAIbZO8ptwW9c2OyU5tXnSqfe5s6oM1I4Dy6PQXIa+rBLB+qTCHuUm51wAx5AjuCEHaf3jmJeYfNiJuQr7TyMHlOYZjmq7ah1lMPZ2keCvxDkKhQW5bmaad7khtIxIfR09mKWvn5exriXkV85C/obK1DaY4N/qFxJYWqJJi2XiRuY6SnE621ZuSQHOAzYfkAHZORTPgY2XyHiK9IOujW6JTrX5aqTc4gcsgKW3MQQ3E2ISC3WFmZqOgEUv7uHT98OfJkhNnk8Gn4cqS0t3RVSPOSkzzvLyPPVIZX+m7gth6zt0M4bdh2MgUrGlGQV/ZxfT2G2DP5ryIWeRF7bS0IDs3iRkrZbpz2WeRxxMrMyLbAY87uGeDBctcb2YWuj8nYGRzaW4nm4CDiytiWDzRSjFmbbMWdjrhvpOo0HJBtYBWpGF3CDIsKKLqdMSDuVFlyfKcxnFLWwKYGxtPYkt627ygTnRgM+jEk2yYnp2a7QDOOLmJa0e8tJDT2vJKKw0EfntHbriBu2d5394cxcZPDPJV2tF26TVc0ea19WOINS+PAOKdGwqSxy/AXEGe8LIddNyOBEEIenpRlQFkbxNDogZVytPbFU5zcjiCEXW0DzHnq97gZKcrEzUdDlP7yZbkV8SpZfTrQ2jOEvnYbJXpVT0msRwNwW15FT/RrtFNbyUTcK4gGGmFp7UG074S0T74pcTNyUgRVLpLLP+Ns2z7kuQOIrrOVdwaiSkvcst0rNSdwO3IYuaa9OBCelIhbh5lh2+upWKUQt64eqUkeeyb/DJBcwuTZE3Dl7cO/vFGHHE1ZQhwMG64MrdCovi0Qt6Z+QNvHDSxPfoU2VwncgXGs03ZSyVINlWcibia3DLjiH2Ti1shh1JcHJW5d+9D3ldiSkW3riTu1HqlHnD5o1KEKHQPfp4yjhKLfegSiKxze7+Hb7t9o9U0P+HL+mU4GRahctqBd/WFM3PO9OJzLrSisXRjf4AyLDRq68uAMY6vErRlkXL08lKwNQtws7DQ6lGLIO4UQeNF31zXv5IxW3GHQkGj+y1zojvWQK5uYRqTZLjlo6jAOIDRzC/1HLDrilh13XQgzVK+brbgJ2ZhRF5qUojqbrrh/wmSwEfnNvWlzW9PIAN2LZ6FIZoMGRHXqC3RZyXbRAtbH30MFcX40VG5Fc+9Ndd+WEnAdft/RgmIWKjfALKVtA6xU4k5I4W6DegCywm9BrjuIKRrGLlYjUnSia8azx15HtabsCsa7qtOEyo3qM8BDWXGntwttH9cxEzqAHF8Ecdls6PmZrEPlOp1y/oGGiDX95OySW3BkFSqnPorZRXqb0vbVyLZ54iYhf10/2FCicupC5RM98OVoxxGlXVm/vsgNWprJ8JfvAlp9b4ym2q5YcSuI7+YLQ+LeGOlACSVrAMSx5JJ9wkk1nMkGzezoFkLl/IrbaLCzwcFCdjKcrI3YXdyIvIwiskKaPZNiyCpxGw2aTCu5h08Iu9MQeCdnTNzSIaSD2FvqRIOzAZ3KIUEZc/o77jK4jvYgSnJKJ+dw8Xg1zI4a1NqLpdD68mX47SWwPd+NyV8v4HiFFY7afbCXVGwSKt/AwsV2VJirUFtbgZJNiXtGOpzmtaDUWQun413llHvydgSHLA7U2NjhH6YxZoNGRDWJ+PnjqDBXwkkOw+USe5YOp3n3muFscMHROYR43xso2h/C9Ooouips8uE0FbOOrz41btsIK8X2SbSJHDhS61GxB5ILF3CcYOqqhbO8BJ7uvyFyqBLOGjvM3g8x9o/5lLLJ+Dd4k2DvdMFOyoTVcZdSH0fS6lYEh5FONm0fh3D1zEuwON2wmX0IjC2qk5zkTZynv892YZ/dglzlcFq6FTdZ3V5BgNepEnUxwmiRC08z3c4AnA1OsV/KsAOLjirYD3yIsWXu8B1H+intx4xtiWKosW2euA36weaOtK1C7Cm0SofTguO4p7eN9n/HaU6/o1d7dDalt5VFA9sVK2426nfzpwFxr9LwuHKohIbNy3Gk/++pxB2TTty6bVVw2A/Jg3MBg343Co1/R+oAABQDSURBVG0tCJ//OHUvUjfYO0d+UOvlkaQrEfI7bhtKXb9DT3QRSb0hk/0+bjA+LkLgxRbXAgGBgEAgewS4CUb2hUWJpwwBA+J+yhAQ3RUICAQEAo8dAUHcj10Fu0gAQdy7SFlCVIGAQEAgIBAQCAjiFjYgEBAICAQEAgKBXYSAIO5dpCwhqkBAICAQEAgIBARxCxsQCAgEBAICAYHALkJAEPcuUpYQVSAgEBAICAQEAoK4hQ0IBAQCAgGBgEBgFyEgiHsXKUuIKhAQCAgEBAICAUHcwgYEAgIBgYBAQCCwixAQxL2LlPXwRdW97pRvgH/tJv/9ptfZvkhiA/N9x/DcyfP46qWjiNzWv5KRf61qMcze9zHIcilvKgv/Cld9vVspnO4ZKaHKnv3v4IPXHWiKzKqv80xX5En+PitbyWBzmTDKqo10FW2z7XTVbeN7+r50+p72JKQsYHKuB0jvdDelpApdw3ToedSHpnaZjWXpB5Q3ZZaj0HwQXYO/bqO/sn4LSCZDDzy/CSGqvFJ2G8p6ZEUe3A6NiVvOidt26Q6AZQz5nZp3Gm+5P0wZNQ6UFtbgeN91OR1kmhro4CTvrl6SHli9hLY9BVtrO6uBrTUq+pJ+k0XJY5xGuifw61QDogkbin6H/onP5dfVbo3wkstT+H58Tk7/apDtLR16ySmE9nvwv88GsL86iKm7g+iostP3bZe6/OiPsyxlYcSScfQfrYTFP4CVdPXpv8/KLvSF0/19D9HAs2j69x78yXEUfUre5HTP76TvN7A8NYLxua3pdUuSZ4Vxqs09/DbS1bjNttNVt43vKXGbbKC+lfpZRtwkVbEFJhNJg3xPrTk5i0hTE4JTfBpa9Ta7UsbtEnsJO7vDfd7/CcHqShzp/5X7ciuXJDmKB0VHzkP2zGkLbdsPKDa0ioX+YzBb/oChFZa9j28uk/0+fv3ykqa/1sqpYpa+hP5OBuLOkbIIPQhxc8pY6n8LRSUdSsIHvSDkb4lA80ByfhPzo0nuTflyPnCjEtx3SltbcUg8ccvpKE1qu1ytT/il1oBoZ5PLuH7tV/AZqjYHgUzupPSdCS4xw+blgGQsDG/J7xB8vwElHSPYSK7gzuIakLyJ3mYLKgOjmFXyIyexOuRH8SZ2pGk3K7vQlEz/R3IWvb8PYuTqX9EZmgDnZtOX2Sl35Ek5Tbv7sGTKCmMDm9uKHFm1ka7CbbadrrptfC8Rtwk0VTJP3DSTF0mkYwPL+kWrJ5kaHQFEM/AxfY6N24wybWD5+jTmlNzoGR/W3Ewu38C1ucyTB2mRtz0/AF6/q4PwFzvQoSQz4kTJaL+PX7+cpBkueTl535mhiO5WBuI2wZT3GvqWlra/4uaVwV/rhGB/MqOWUgDKIVKTScouxR5K97mF+tWiPHGTVId1cNW6UMClHlSffZKveAOS+8lwHAxJK+7pKwi4nTjaH5cyNB2ogq28DO7OASzJE+KN6KdoKM1DTqkTHn8Af/YUosBcRTNW2Y9fwEJyA8tjH+KA3Yby0np0Ds1vIQxGDLoC1q5hXFeIWw59a1JySn3ILa/EPnsZCu3tuLggJb9xlVphtxVhD81DfBeTQR/sNQ6YLa04M31Pyhef54Knvhye9mPwsOvPexGsd6DGWQZL8xeYnu6GN68FvfMJKbUoSUlqtBggECau49xRN8zOOjwf+hmJyU9Qb3fDaa5A85lrWIt/ixPuCjhrXGgKT6fFlKTt1GA2GMX5o3aUdQxjdTqE/UVvoG/+LmLnjqHC7EDt86dwdfEKArx+iC5zLbCTrGY0Q9dNRE82oTQnD6XO5+DvZ4k29Ri+iLffeBYuWwmo/jZ+0uKRWEe83w+3zYka+4sID5zU2cpN/EOvb5qFqxal5XbYCvNh4lL70smbjO9S32vI936Mbz8y0BXV45SalIjZqpytTbWv27jNy6ekspTtvcACp7Mcpe53MbS0psWZ2uaqAa4OOBwVcJ/4FvEk8R8lKLc7aYY1+8vH8IbXDVuhC8cvziFJEykdgt1mldtQ47XUx1U/B5+N6O97+AvkFTeJTha8hsB79djTdgkSRd7HUt8bsHeNYoNOiDO0KWPRPfw1Z19XdTiwDI/ntfLLY3Th0jugY0bJgscWQZyf4G2K9Vd2HQ/kBxRdkjYJvhY6gbmvGT/jGNPY74xuTC9zWeE4f5ZuXCemtThkoUc60WD1dl/BWIDT9+Is+k/sh83phr2pBzGlbyx6GMKg7NOua3xnPxZksTf7yEDcTvh8tWjtm5KJm0vnp6yqdAag77gicALJqSDceS/ig/efQ97hXsyDhIbsqAtdU5w4MepCqw3lBW+i/+6v6D9SBafTKhE3CfPwznTtpjE4CtGkOo/7xGm6ylBut6JwT6EcgifpPZ14K/AHuPccx6XV5NYd+vo0wt5yHO69JecMJ7lz1zfDfAfd5wYkk4rpjBJ3A972P4viV85hPknCZV5YO4axttSH1nyS6pUNbH7WSAZdEY2abBCd57agd24CweoadIwsQXLMJOzNGkzzuU7SY1ai7dKcdjAy+ZS25T5UBhCleaktOPzlOTndLJdDW3me2F25FNWhdRWjKXxNjjDI10wklgd+4u8IVNrRdukWooH9sFJHyh7iP9dxI3wIe1JygctRncounPvcByXzHjJgSsOaPGbd+OXHANxFz6PtdTfNe752I4wDe1iedIO6KKHuQ9f4AqZDz0rjznDFImOo5PbeS6Nciv7YVgDDIxpF2FOhbi1RHDlbIUSv0/f1aACVmhzcYcQYdDQDoQP+oVsY76pRIm6gPoLXFSE5A+Km+dF5rI7h7UZOPtYO5H5WvIfx1UmE9ltx+MtvUmSdneVxJdsidVL0UdP/YhUjUwOCU0s0q2Lu4V7MTQZRbe3EyFocfa12eMkETZaBErcngEhHI5ojPWiXiXv10nHsqfsME+ffRD7RAy1wB5faDshbh2RcpW9znurgGbS3P8PZFynD40D+JttYxG/rx+hYhjHD+QnaDgnnLyr9nVfwfQA/QOtl2wZMTpZylo2fAKJrQ/AX2KCNGLExLUfn5D1ur78fC7TeNOOa2nF6TDPpUYoQSPWu6vXd/hYa+bMKSt9SiTtGI9osSqEAuelFBuI+iE8jftiaQ/iynexxpyPu9B2XjMmH7ug4Ikec2Nt8FjfJACYEuTKBQGUNusbZbmUSxHhL3v43BNy16LpyGV3lTej4k5ebgUImyFoEzgXhSQEnk/MI4twH8gCkpFAkETfdRz+A0MTXOJJPBuCqRNymLTj06B1EA7VUvhXSL5bDfFPYd8oD3IBkIjEjo8Rt4vbcyASnCAW2GnganSjN4QePfsDKe9ysruHT8OUUwlbbiEZnKXJITm3G+axdzSc5sPYGivd/gqvrWhnpdgqNBLHYIX9fHvDv+OHLkZ0AkyGWQCI+jJ7OVtSW5kmTQe6eJlSHVcRH/oLO1jq5nzcx0lGNysA5fHnYqRKWRmbyxy30HrZqz2QkbmOkpxOttWba74HpMzi0txLNwUHEE7PpMWXnQzSYke2DEpj2ktXaGuZ7W5CrrFwN9BMOKOcUKGEQ3O8ZOT4DDEmebgWfuzo8FhCLvIi9thYEh27Jkx7OVlJkP44zp19ADpWVb4sBKEX13B/9B7q91ZSo0uvKgLhT7OstdJ/m5GPNMOKmcsg2e9CHZzS2eQJfRfS4WmSdEvsiK8HvDFb9zCmfwnDkBeRQ8qiHk9maLINE3N34ZaQT5V4fnttD7HRZ8SP36AKHRDrvAyRkbP89LtG9Xo7MFL2wNsPKqq57oJuzrzWtnjQLLqMxmjpmJLE5nRm1reD7AH5AqZfkV7+GUF05WvvmAN340dpvUjemL2GGj84Rufh6U8b1+Lb1qNa7irhe32+HcPqQFbbmIIbijE8Itkxf6or7ERC3D+FfBtBRvh++52wZiFtnAIpwzJiIw/bhlc4vEV3eANaG0VG2H4GLYRymK2tlLkpXVgX+r3HJ70Jd+3EcrPoAV/52HHvoQNM504FxRFLAyeQ8GuB7hh+Aktx0H51MJO79hKDbKhkLr2z+OkXxy1gb6URZ5fu4+GULCo70465ixLvhghuQTFzWX0rcJKRYRld36yDEwPBjD7PPrQxY2SmwIhk+kwvf4qilHl1jyyT2zK24uZk3423N/QzETSMxDrT2DKGvXZ7hsr6S1Th3vR4NwG15FT3Rr9FOZ/f/oCHygqaX0WJmK1yjDugxWkE00AhLaw+ifSdQQCcsG1ie/AptrhK4A2fRnQ5TSn46zOhBpSKYcg8hfOOe5DA0xK3TD9cnShjkbMBqtsT9P/HZufd0eCwDySVMnj0BV149Auf+DR4TZyspssvbXmmJm4SEX8Oe/R40FL6Gvl9HEXCn01U64tZjxckXZYsD3paIzdpR8sJv4WWTPKpSXlbyBa/TLIhb0YvWTiTiDiNGowx5MNHw/yx6D5dwk2I3XdBsjHfB3tonHwjbGnGHybaBYl/jWOf1FJ3gVtw6v00nPzKGnN1I0nO4KfcYCXGRE83q0UBevg0tLJrxByWyMZ86fviJ5/q4zk4yE3fquN4CcafRo+ovZOLWPZdc/hln2/Yhzx1AdLpbnkAzzB41ccszQZOJnOxOt+LWGUAKcesGFA1/OdHUeghmGjJnGpSMo8D/Peb7XkOeKQfF/kHcHfKjwNON6RRnuoxUcDI5D/0AJHJfk1Ytyux4jxQGVYxzM4e+DGpkBR60tuyTQuasO7vikxuQTF7Wd0rcByWnLe+nTgYbkZ8SBiYFNyFuGsq0orn3phIyZM2lfCZj6HvVhbrAmHzoi5MxMY1Is12eSLCS3H22ojj1BbqsFWi7xIXKqdMgWxm36OndAv+Q9gAe63dMHohkH5s6EDmyQA4J5ZpgUsKYrH3+k4RVa5GnYERszoy60KS0N65EGqSf/uT4TuG7dJjSUDmPWRLU8VQeRcfrVRSDVRLlyWMTCRIq1+mH9imLUDl1PnqH68U7HQeRo8eDdJuujMzwdfwveEycrcz9gGA1LztASMiaLlROqrodQVOuCblNEdy+HYEvJ52uCMlZuDC1D+F09sXki9yQlSTbihIqt6H1rxdSZKWTeQXXdKHy9H5vloRO85leePsgvwAj/oyQnWQrlLhnBtFRUi1HH4nNlMEbjiIaeI7zKXq9EL/KiIAtkpivZfYVAT3FoODAIgUkVK6T//qwPGbuyIeCWV1Efm6MKeOEa1vp4gP4AaXeu7gReRlFhPDWSURKN3544qYTRN5OMhG30bjORNxhZNKjStwJ0BP9Bvqm0UFyHmfi/+BwrrqdYvI8cuJOyEokxC2TnLIPVizvlegMIK0xMe1uSGSZclpcMg7qUGdCqDOV0tWvZOhy+MnAeSjgDJ/axHmQQ2jV0l6VEir/ASMdTnnPUppp53p1g0AxKCPFkxUhCY8Ww0T3uTY7dckw2Cmf8oBkv3v0voP+UYKjD2FK3GTw/oJIk0XaU12+goDXglJnLZyOd7lfCNzH8uAfYS+swPPhr/G53inIh4e8e81wNrjg6ByBelxHi8XGSAdKTCRyIv2X4+vBKA1FlcNpK4PraI8UuVGKcU6FEXd4EvHzx1FhroRTOWhzExePV8PsqEGtvThjqDy5cAHHK6xw1O6DvYT8PJGsMEn4bi+3/6oIoLlIKhiRw2kT+PViOyrM5LRwBUoK2vDF6Zdgcbpho4fFFqXDaYaYSofTFMw6vsR/vFKJ/aFJrI6/hwoaLv8VY4GD2FvKHU7j65oJw2PKR6HNjnJzE4JRYq8LGPS7UWhrQVj5iZERhmqovHv0Gy0egxOIHKqkP9kzez/EWFS2GcVW/hPzYx9CkZ3oO3kT5990w+xwYZ/dwoX4ZfiSPyPolvbWk8m5DLpaxcLFdtgLy+FqcKE8l9joKj1gprTX0YMeXj4S6aP/pH5KBxmtMHs/QfReQluWyrqoxfWmdKDQ4XDgQOAKlunhtAx+jx5OI3pxosHZgE7udLRK3ECSHDLM8aH7fABuZdtPIvT8N97DewfeQG+c7SlthbifwR87nlfta3QUZzQ4XEu/4o7do2PGXljGHehkbXP2ofhDI+J+AD/AtlecNpS6foee6CKS2KC6VscP2WLj7Hfyus5OMhF3AqnjOjNxxzLokSdu6J7r+OpTHLI4UGOzwUvthdizC4U2NxqcZcjVEDeP2VX6ayrZWDN+ZNjjlmdc9He2kpHSjttLYHPV0hPD0iGHDAasKJkZgCSL9LMv3e8V+Z+d0Z9GeOh+M3XkBX4MxrXOtP2Lj7XgKG0xokl1Hon4N3iTOGSni54G9XT/FUG3TdmzpDNtMoB+YqEN7Yo7VfHEEcovTiCHo5TwbUbMxc3diMDKAPxlXgQnd9HkTBkT2vG3G+EXMv+zEEgiEQ3AxV4S889qVrSTFQLGxJ1VFdk+nMTK0B9QVh3E5BNBdIsY8lejOvjTlmdL2SImnn/MCCRuYaCzUT5d/5hlyaZ5QdzZoPWUP0sOCO6Hs7EeTtv+zV+W9ZSj9bi7/08mbnIK8BI666rwSt/tzfc7Hzc6m7a/ivjAn1FXTE75snDcpoXEA7sNgZXL6Gz5FGNKyHW3dUDIKxAQCDxJCPzTiXvlchdagmSf6EmA8Q4udx5DcIzsx4h/AgGBgEBAICAQePQI/JOJ+9F3SLQgEBAICAQEAgKBJxkBQdxPsnZF3wQCAgGBgEDgiUNAEPcTp1LRIYGAQEAgIBB4khEwTb7+Jq78t/8u/hMYCBsQNiBsQNiAsIEdagOEq9k/seJmSIhPgYBAQCAgEBAI7AIEBHHvAiUJEQUCAgGBgEBAIMAQEMTNkBCfAgGBgEBAICAQ2AUI/H/Lo66/fZo+VQAAAABJRU5ErkJggg==)"
      ]
    },
    {
      "cell_type": "markdown",
      "metadata": {
        "id": "3H6MPfz9ivud"
      },
      "source": [
        "### Index Objects"
      ]
    },
    {
      "cell_type": "markdown",
      "metadata": {
        "id": "_jKSjvPEi9YL"
      },
      "source": [
        "pandas’s Index objects are responsible for holding the axis labels and other metadata"
      ]
    },
    {
      "cell_type": "code",
      "metadata": {
        "colab": {
          "base_uri": "https://localhost:8080/"
        },
        "id": "stVgwOK1i11T",
        "outputId": "babc55a2-43a4-4097-996b-f603e41b0cc3"
      },
      "source": [
        "obj = pd.Series(range(3), index=['a', 'b', 'c'])\r\n",
        "index = obj.index\r\n",
        "index"
      ],
      "execution_count": 47,
      "outputs": [
        {
          "output_type": "execute_result",
          "data": {
            "text/plain": [
              "Index(['a', 'b', 'c'], dtype='object')"
            ]
          },
          "metadata": {
            "tags": []
          },
          "execution_count": 47
        }
      ]
    },
    {
      "cell_type": "markdown",
      "metadata": {
        "id": "TTMZlQSvjfzl"
      },
      "source": [
        "Index objects are immutable. Immutability makes it safer to share Index objects among data structures:"
      ]
    },
    {
      "cell_type": "code",
      "metadata": {
        "colab": {
          "base_uri": "https://localhost:8080/"
        },
        "id": "0NcCkWfsjQEO",
        "outputId": "54b94456-d779-483b-87e6-3d12c11e7bba"
      },
      "source": [
        "labels = pd.Index(np.arange(3))\r\n",
        "obj2 = pd.Series([1.5,-2.5,0], index=labels)\r\n",
        "obj2"
      ],
      "execution_count": 36,
      "outputs": [
        {
          "output_type": "execute_result",
          "data": {
            "text/plain": [
              "0    1.5\n",
              "1   -2.5\n",
              "2    0.0\n",
              "dtype: float64"
            ]
          },
          "metadata": {
            "tags": []
          },
          "execution_count": 36
        }
      ]
    },
    {
      "cell_type": "markdown",
      "metadata": {
        "id": "dUJjEfMHkZl_"
      },
      "source": [
        "Unlike Python sets, a pandas Index can contain duplicate labels:"
      ]
    },
    {
      "cell_type": "code",
      "metadata": {
        "id": "oaWqnBj6kOp_"
      },
      "source": [
        "dup_labels = pd.Index(['foo', 'foo', 'bar', 'bar'])"
      ],
      "execution_count": 46,
      "outputs": []
    },
    {
      "cell_type": "markdown",
      "metadata": {
        "id": "QYFq7a9NkbEi"
      },
      "source": [
        "Some Index methods and properties\r\n",
        "\r\n",
        "![image.png](data:image/png;base64,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)"
      ]
    },
    {
      "cell_type": "markdown",
      "metadata": {
        "id": "FWxhuvIDoOR2"
      },
      "source": [
        "### Reindexing"
      ]
    },
    {
      "cell_type": "code",
      "metadata": {
        "colab": {
          "base_uri": "https://localhost:8080/"
        },
        "id": "EwXlIpv9oRtw",
        "outputId": "c4e2d497-9104-4ba4-880f-9326cdf072e8"
      },
      "source": [
        "obj = pd.Series([4.5, 7.2, -5.3, 3.6], index=['d', 'b', 'a', 'c'])\r\n",
        "obj"
      ],
      "execution_count": 50,
      "outputs": [
        {
          "output_type": "execute_result",
          "data": {
            "text/plain": [
              "d    4.5\n",
              "b    7.2\n",
              "a   -5.3\n",
              "c    3.6\n",
              "dtype: float64"
            ]
          },
          "metadata": {
            "tags": []
          },
          "execution_count": 50
        }
      ]
    },
    {
      "cell_type": "markdown",
      "metadata": {
        "id": "0qXo5wOLpgQ9"
      },
      "source": [
        "Calling reindex on this Series rearranges the data according to the new index, introducing\r\n",
        "missing values if any index values were not already present"
      ]
    },
    {
      "cell_type": "code",
      "metadata": {
        "colab": {
          "base_uri": "https://localhost:8080/"
        },
        "id": "c3QSF9xopKPu",
        "outputId": "70b7760f-f1f1-4823-e5a3-9e3655385167"
      },
      "source": [
        "obj2 = obj.reindex(['a', 'b', 'c', 'd', 'e'])\r\n",
        "obj2"
      ],
      "execution_count": 39,
      "outputs": [
        {
          "output_type": "execute_result",
          "data": {
            "text/plain": [
              "a   -5.3\n",
              "b    7.2\n",
              "c    3.6\n",
              "d    4.5\n",
              "e    NaN\n",
              "dtype: float64"
            ]
          },
          "metadata": {
            "tags": []
          },
          "execution_count": 39
        }
      ]
    },
    {
      "cell_type": "markdown",
      "metadata": {
        "id": "sgq51A7zpyAO"
      },
      "source": [
        "reindex function arguments\r\n",
        "\r\n",
        "![image.png](data:image/png;base64,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)"
      ]
    },
    {
      "cell_type": "markdown",
      "metadata": {
        "id": "g-JTrR5YqKA0"
      },
      "source": [
        "### Dropping Entries from an Axis"
      ]
    },
    {
      "cell_type": "code",
      "metadata": {
        "colab": {
          "base_uri": "https://localhost:8080/",
          "height": 173
        },
        "id": "UbGNqkJKqPap",
        "outputId": "c66a157f-2324-4eb3-c1ff-5d327c3d891e"
      },
      "source": [
        "data = pd.DataFrame(np.arange(16).reshape((4, 4)),\r\n",
        "         index=['Ohio', 'Colorado', 'Utah', 'New York'],\r\n",
        "         columns=['one', 'two', 'three', 'four'])\r\n",
        "data"
      ],
      "execution_count": 41,
      "outputs": [
        {
          "output_type": "execute_result",
          "data": {
            "text/html": [
              "<div>\n",
              "<style scoped>\n",
              "    .dataframe tbody tr th:only-of-type {\n",
              "        vertical-align: middle;\n",
              "    }\n",
              "\n",
              "    .dataframe tbody tr th {\n",
              "        vertical-align: top;\n",
              "    }\n",
              "\n",
              "    .dataframe thead th {\n",
              "        text-align: right;\n",
              "    }\n",
              "</style>\n",
              "<table border=\"1\" class=\"dataframe\">\n",
              "  <thead>\n",
              "    <tr style=\"text-align: right;\">\n",
              "      <th></th>\n",
              "      <th>one</th>\n",
              "      <th>two</th>\n",
              "      <th>three</th>\n",
              "      <th>four</th>\n",
              "    </tr>\n",
              "  </thead>\n",
              "  <tbody>\n",
              "    <tr>\n",
              "      <th>Ohio</th>\n",
              "      <td>0</td>\n",
              "      <td>1</td>\n",
              "      <td>2</td>\n",
              "      <td>3</td>\n",
              "    </tr>\n",
              "    <tr>\n",
              "      <th>Colorado</th>\n",
              "      <td>4</td>\n",
              "      <td>5</td>\n",
              "      <td>6</td>\n",
              "      <td>7</td>\n",
              "    </tr>\n",
              "    <tr>\n",
              "      <th>Utah</th>\n",
              "      <td>8</td>\n",
              "      <td>9</td>\n",
              "      <td>10</td>\n",
              "      <td>11</td>\n",
              "    </tr>\n",
              "    <tr>\n",
              "      <th>New York</th>\n",
              "      <td>12</td>\n",
              "      <td>13</td>\n",
              "      <td>14</td>\n",
              "      <td>15</td>\n",
              "    </tr>\n",
              "  </tbody>\n",
              "</table>\n",
              "</div>"
            ],
            "text/plain": [
              "          one  two  three  four\n",
              "Ohio        0    1      2     3\n",
              "Colorado    4    5      6     7\n",
              "Utah        8    9     10    11\n",
              "New York   12   13     14    15"
            ]
          },
          "metadata": {
            "tags": []
          },
          "execution_count": 41
        }
      ]
    },
    {
      "cell_type": "code",
      "metadata": {
        "colab": {
          "base_uri": "https://localhost:8080/",
          "height": 111
        },
        "id": "o4l1II2dqU1P",
        "outputId": "f2a1b366-9634-4add-874d-b09d289cb7d7"
      },
      "source": [
        "data.drop(['Colorado', 'Ohio'])"
      ],
      "execution_count": 42,
      "outputs": [
        {
          "output_type": "execute_result",
          "data": {
            "text/html": [
              "<div>\n",
              "<style scoped>\n",
              "    .dataframe tbody tr th:only-of-type {\n",
              "        vertical-align: middle;\n",
              "    }\n",
              "\n",
              "    .dataframe tbody tr th {\n",
              "        vertical-align: top;\n",
              "    }\n",
              "\n",
              "    .dataframe thead th {\n",
              "        text-align: right;\n",
              "    }\n",
              "</style>\n",
              "<table border=\"1\" class=\"dataframe\">\n",
              "  <thead>\n",
              "    <tr style=\"text-align: right;\">\n",
              "      <th></th>\n",
              "      <th>one</th>\n",
              "      <th>two</th>\n",
              "      <th>three</th>\n",
              "      <th>four</th>\n",
              "    </tr>\n",
              "  </thead>\n",
              "  <tbody>\n",
              "    <tr>\n",
              "      <th>Utah</th>\n",
              "      <td>8</td>\n",
              "      <td>9</td>\n",
              "      <td>10</td>\n",
              "      <td>11</td>\n",
              "    </tr>\n",
              "    <tr>\n",
              "      <th>New York</th>\n",
              "      <td>12</td>\n",
              "      <td>13</td>\n",
              "      <td>14</td>\n",
              "      <td>15</td>\n",
              "    </tr>\n",
              "  </tbody>\n",
              "</table>\n",
              "</div>"
            ],
            "text/plain": [
              "          one  two  three  four\n",
              "Utah        8    9     10    11\n",
              "New York   12   13     14    15"
            ]
          },
          "metadata": {
            "tags": []
          },
          "execution_count": 42
        }
      ]
    },
    {
      "cell_type": "markdown",
      "metadata": {
        "id": "F5cybjgqqq7-"
      },
      "source": [
        "Drop values from the columns by passing axis=1 or axis='columns'"
      ]
    },
    {
      "cell_type": "code",
      "metadata": {
        "colab": {
          "base_uri": "https://localhost:8080/",
          "height": 173
        },
        "id": "PZWRo5nZqt-i",
        "outputId": "c71c73f1-4ec8-4652-8ce2-1e446a69cdc5"
      },
      "source": [
        "data.drop('two', axis=1)"
      ],
      "execution_count": 43,
      "outputs": [
        {
          "output_type": "execute_result",
          "data": {
            "text/html": [
              "<div>\n",
              "<style scoped>\n",
              "    .dataframe tbody tr th:only-of-type {\n",
              "        vertical-align: middle;\n",
              "    }\n",
              "\n",
              "    .dataframe tbody tr th {\n",
              "        vertical-align: top;\n",
              "    }\n",
              "\n",
              "    .dataframe thead th {\n",
              "        text-align: right;\n",
              "    }\n",
              "</style>\n",
              "<table border=\"1\" class=\"dataframe\">\n",
              "  <thead>\n",
              "    <tr style=\"text-align: right;\">\n",
              "      <th></th>\n",
              "      <th>one</th>\n",
              "      <th>three</th>\n",
              "      <th>four</th>\n",
              "    </tr>\n",
              "  </thead>\n",
              "  <tbody>\n",
              "    <tr>\n",
              "      <th>Ohio</th>\n",
              "      <td>0</td>\n",
              "      <td>2</td>\n",
              "      <td>3</td>\n",
              "    </tr>\n",
              "    <tr>\n",
              "      <th>Colorado</th>\n",
              "      <td>4</td>\n",
              "      <td>6</td>\n",
              "      <td>7</td>\n",
              "    </tr>\n",
              "    <tr>\n",
              "      <th>Utah</th>\n",
              "      <td>8</td>\n",
              "      <td>10</td>\n",
              "      <td>11</td>\n",
              "    </tr>\n",
              "    <tr>\n",
              "      <th>New York</th>\n",
              "      <td>12</td>\n",
              "      <td>14</td>\n",
              "      <td>15</td>\n",
              "    </tr>\n",
              "  </tbody>\n",
              "</table>\n",
              "</div>"
            ],
            "text/plain": [
              "          one  three  four\n",
              "Ohio        0      2     3\n",
              "Colorado    4      6     7\n",
              "Utah        8     10    11\n",
              "New York   12     14    15"
            ]
          },
          "metadata": {
            "tags": []
          },
          "execution_count": 43
        }
      ]
    },
    {
      "cell_type": "markdown",
      "metadata": {
        "id": "3xSPhUMmrFo_"
      },
      "source": [
        "inplace returns the original object with the manipulation. inplace destroys the any data that is dropped"
      ]
    },
    {
      "cell_type": "code",
      "metadata": {
        "colab": {
          "base_uri": "https://localhost:8080/"
        },
        "id": "l577mP9vrA9R",
        "outputId": "7dbaed4d-f30e-4b6f-e75f-685a70cba20b"
      },
      "source": [
        "obj.drop('c', inplace=True)\r\n",
        "obj"
      ],
      "execution_count": 51,
      "outputs": [
        {
          "output_type": "execute_result",
          "data": {
            "text/plain": [
              "d    4.5\n",
              "b    7.2\n",
              "a   -5.3\n",
              "dtype: float64"
            ]
          },
          "metadata": {
            "tags": []
          },
          "execution_count": 51
        }
      ]
    },
    {
      "cell_type": "markdown",
      "metadata": {
        "id": "lSGxcqVUsKKY"
      },
      "source": [
        "### Selection with loc and iloc"
      ]
    },
    {
      "cell_type": "code",
      "metadata": {
        "colab": {
          "base_uri": "https://localhost:8080/",
          "height": 173
        },
        "id": "0QGPtsuEkGwQ",
        "outputId": "d37677f8-4aaf-422e-f070-10a62264bd8f"
      },
      "source": [
        "data = pd.DataFrame(np.arange(16).reshape((4, 4)),\r\n",
        "                    index=['Ohio', 'Colorado', 'Utah', 'New York'],\r\n",
        "                    columns=['one', 'two', 'three', 'four'])\r\n",
        "data"
      ],
      "execution_count": 52,
      "outputs": [
        {
          "output_type": "execute_result",
          "data": {
            "text/html": [
              "<div>\n",
              "<style scoped>\n",
              "    .dataframe tbody tr th:only-of-type {\n",
              "        vertical-align: middle;\n",
              "    }\n",
              "\n",
              "    .dataframe tbody tr th {\n",
              "        vertical-align: top;\n",
              "    }\n",
              "\n",
              "    .dataframe thead th {\n",
              "        text-align: right;\n",
              "    }\n",
              "</style>\n",
              "<table border=\"1\" class=\"dataframe\">\n",
              "  <thead>\n",
              "    <tr style=\"text-align: right;\">\n",
              "      <th></th>\n",
              "      <th>one</th>\n",
              "      <th>two</th>\n",
              "      <th>three</th>\n",
              "      <th>four</th>\n",
              "    </tr>\n",
              "  </thead>\n",
              "  <tbody>\n",
              "    <tr>\n",
              "      <th>Ohio</th>\n",
              "      <td>0</td>\n",
              "      <td>1</td>\n",
              "      <td>2</td>\n",
              "      <td>3</td>\n",
              "    </tr>\n",
              "    <tr>\n",
              "      <th>Colorado</th>\n",
              "      <td>4</td>\n",
              "      <td>5</td>\n",
              "      <td>6</td>\n",
              "      <td>7</td>\n",
              "    </tr>\n",
              "    <tr>\n",
              "      <th>Utah</th>\n",
              "      <td>8</td>\n",
              "      <td>9</td>\n",
              "      <td>10</td>\n",
              "      <td>11</td>\n",
              "    </tr>\n",
              "    <tr>\n",
              "      <th>New York</th>\n",
              "      <td>12</td>\n",
              "      <td>13</td>\n",
              "      <td>14</td>\n",
              "      <td>15</td>\n",
              "    </tr>\n",
              "  </tbody>\n",
              "</table>\n",
              "</div>"
            ],
            "text/plain": [
              "          one  two  three  four\n",
              "Ohio        0    1      2     3\n",
              "Colorado    4    5      6     7\n",
              "Utah        8    9     10    11\n",
              "New York   12   13     14    15"
            ]
          },
          "metadata": {
            "tags": []
          },
          "execution_count": 52
        }
      ]
    },
    {
      "cell_type": "code",
      "metadata": {
        "colab": {
          "base_uri": "https://localhost:8080/"
        },
        "id": "CHnbARHukPaw",
        "outputId": "9f786674-8e5b-4ac0-9cd4-32de6a2c422c"
      },
      "source": [
        "data.loc['Colorado']"
      ],
      "execution_count": 53,
      "outputs": [
        {
          "output_type": "execute_result",
          "data": {
            "text/plain": [
              "one      4\n",
              "two      5\n",
              "three    6\n",
              "four     7\n",
              "Name: Colorado, dtype: int64"
            ]
          },
          "metadata": {
            "tags": []
          },
          "execution_count": 53
        }
      ]
    },
    {
      "cell_type": "code",
      "metadata": {
        "colab": {
          "base_uri": "https://localhost:8080/"
        },
        "id": "6dbWjt62kP67",
        "outputId": "16d56cea-fd72-404a-c6b1-7b6dc2ed45b6"
      },
      "source": [
        "data.loc[:,'two']"
      ],
      "execution_count": 54,
      "outputs": [
        {
          "output_type": "execute_result",
          "data": {
            "text/plain": [
              "Ohio         1\n",
              "Colorado     5\n",
              "Utah         9\n",
              "New York    13\n",
              "Name: two, dtype: int64"
            ]
          },
          "metadata": {
            "tags": []
          },
          "execution_count": 54
        }
      ]
    },
    {
      "cell_type": "code",
      "metadata": {
        "colab": {
          "base_uri": "https://localhost:8080/"
        },
        "id": "gQqai2EdkjbA",
        "outputId": "a502d302-5ae6-470c-a6cf-ee78cc6021cf"
      },
      "source": [
        "data.iloc[:,1]"
      ],
      "execution_count": 55,
      "outputs": [
        {
          "output_type": "execute_result",
          "data": {
            "text/plain": [
              "Ohio         1\n",
              "Colorado     5\n",
              "Utah         9\n",
              "New York    13\n",
              "Name: two, dtype: int64"
            ]
          },
          "metadata": {
            "tags": []
          },
          "execution_count": 55
        }
      ]
    },
    {
      "cell_type": "code",
      "metadata": {
        "colab": {
          "base_uri": "https://localhost:8080/"
        },
        "id": "CW_M11ywkU1I",
        "outputId": "a443589e-9ddb-46b0-9710-4502b6599012"
      },
      "source": [
        "data.loc['Colorado',['two','three']]"
      ],
      "execution_count": 56,
      "outputs": [
        {
          "output_type": "execute_result",
          "data": {
            "text/plain": [
              "two      5\n",
              "three    6\n",
              "Name: Colorado, dtype: int64"
            ]
          },
          "metadata": {
            "tags": []
          },
          "execution_count": 56
        }
      ]
    },
    {
      "cell_type": "code",
      "metadata": {
        "colab": {
          "base_uri": "https://localhost:8080/"
        },
        "id": "MHQkf71Kkdef",
        "outputId": "06670010-b665-4819-9d15-f91a37bd40a7"
      },
      "source": [
        "data.iloc[2, [3, 0, 1]]"
      ],
      "execution_count": 57,
      "outputs": [
        {
          "output_type": "execute_result",
          "data": {
            "text/plain": [
              "four    11\n",
              "one      8\n",
              "two      9\n",
              "Name: Utah, dtype: int64"
            ]
          },
          "metadata": {
            "tags": []
          },
          "execution_count": 57
        }
      ]
    },
    {
      "cell_type": "code",
      "metadata": {
        "colab": {
          "base_uri": "https://localhost:8080/"
        },
        "id": "Q77ULxtmlSgv",
        "outputId": "1a8a9195-8698-4623-c126-ef67862e48fd"
      },
      "source": [
        "data.iloc[1,[1,2]]"
      ],
      "execution_count": 58,
      "outputs": [
        {
          "output_type": "execute_result",
          "data": {
            "text/plain": [
              "two      5\n",
              "three    6\n",
              "Name: Colorado, dtype: int64"
            ]
          },
          "metadata": {
            "tags": []
          },
          "execution_count": 58
        }
      ]
    },
    {
      "cell_type": "markdown",
      "metadata": {
        "id": "prRll-nVsXMX"
      },
      "source": [
        "Indexing option with DataFrame\r\n",
        "\r\n",
        "![image.png](data:image/png;base64,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)\r\n",
        "\r\n",
        "![image.png](data:image/png;base64,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)"
      ]
    },
    {
      "cell_type": "markdown",
      "metadata": {
        "id": "w4U_j7fctHqy"
      },
      "source": [
        "### Function Application and Mapping"
      ]
    },
    {
      "cell_type": "code",
      "metadata": {
        "id": "b7FHLQHRliU3"
      },
      "source": [
        "import requests\r\n",
        "\r\n",
        "url = 'https://raw.githubusercontent.com/wesm/pydata-book/2nd-edition/examples/'\r\n",
        "\r\n",
        "def getFile(filename):\r\n",
        "  r = requests.get(url+filename)\r\n",
        "  if r.status_code == 200:\r\n",
        "    with open(filename,'wb') as f:\r\n",
        "      print('Downloading '+filename)\r\n",
        "      f.write(r.content)\r\n",
        "    print('Downloaded')\r\n",
        "  else:\r\n",
        "    print('File not found')\r\n",
        "  "
      ],
      "execution_count": 59,
      "outputs": []
    },
    {
      "cell_type": "code",
      "metadata": {
        "colab": {
          "base_uri": "https://localhost:8080/"
        },
        "id": "frLH2KmmXLaT",
        "outputId": "067ee6cd-54fd-4af2-dcab-44599f05eff1"
      },
      "source": [
        "getFile('ex2.csv')"
      ],
      "execution_count": 60,
      "outputs": [
        {
          "output_type": "stream",
          "text": [
            "Downloading ex2.csv\n",
            "Downloaded\n"
          ],
          "name": "stdout"
        }
      ]
    },
    {
      "cell_type": "code",
      "metadata": {
        "colab": {
          "base_uri": "https://localhost:8080/"
        },
        "id": "GQKljRJFXTWI",
        "outputId": "fb675a2d-6391-4def-a20d-b43d0c28f03c"
      },
      "source": [
        "!cat ex1.csv"
      ],
      "execution_count": 61,
      "outputs": [
        {
          "output_type": "stream",
          "text": [
            "cat: ex1.csv: No such file or directory\n"
          ],
          "name": "stdout"
        }
      ]
    },
    {
      "cell_type": "code",
      "metadata": {
        "colab": {
          "base_uri": "https://localhost:8080/"
        },
        "id": "9rHaB1NWb2oh",
        "outputId": "41f4ec98-819f-46b0-9998-8b9164a6ace1"
      },
      "source": [
        "getFile('csv_mindex.csv')"
      ],
      "execution_count": 62,
      "outputs": [
        {
          "output_type": "stream",
          "text": [
            "Downloading csv_mindex.csv\n",
            "Downloaded\n"
          ],
          "name": "stdout"
        }
      ]
    },
    {
      "cell_type": "code",
      "metadata": {
        "colab": {
          "base_uri": "https://localhost:8080/",
          "height": 297
        },
        "id": "wrSql94EdLY4",
        "outputId": "8fd8bc62-1871-4f75-9669-9ab716ade35c"
      },
      "source": [
        "df = pd.read_csv('csv_mindex.csv')\r\n",
        "df"
      ],
      "execution_count": 63,
      "outputs": [
        {
          "output_type": "execute_result",
          "data": {
            "text/html": [
              "<div>\n",
              "<style scoped>\n",
              "    .dataframe tbody tr th:only-of-type {\n",
              "        vertical-align: middle;\n",
              "    }\n",
              "\n",
              "    .dataframe tbody tr th {\n",
              "        vertical-align: top;\n",
              "    }\n",
              "\n",
              "    .dataframe thead th {\n",
              "        text-align: right;\n",
              "    }\n",
              "</style>\n",
              "<table border=\"1\" class=\"dataframe\">\n",
              "  <thead>\n",
              "    <tr style=\"text-align: right;\">\n",
              "      <th></th>\n",
              "      <th>key1</th>\n",
              "      <th>key2</th>\n",
              "      <th>value1</th>\n",
              "      <th>value2</th>\n",
              "    </tr>\n",
              "  </thead>\n",
              "  <tbody>\n",
              "    <tr>\n",
              "      <th>0</th>\n",
              "      <td>one</td>\n",
              "      <td>a</td>\n",
              "      <td>1</td>\n",
              "      <td>2</td>\n",
              "    </tr>\n",
              "    <tr>\n",
              "      <th>1</th>\n",
              "      <td>one</td>\n",
              "      <td>b</td>\n",
              "      <td>3</td>\n",
              "      <td>4</td>\n",
              "    </tr>\n",
              "    <tr>\n",
              "      <th>2</th>\n",
              "      <td>one</td>\n",
              "      <td>c</td>\n",
              "      <td>5</td>\n",
              "      <td>6</td>\n",
              "    </tr>\n",
              "    <tr>\n",
              "      <th>3</th>\n",
              "      <td>one</td>\n",
              "      <td>d</td>\n",
              "      <td>7</td>\n",
              "      <td>8</td>\n",
              "    </tr>\n",
              "    <tr>\n",
              "      <th>4</th>\n",
              "      <td>two</td>\n",
              "      <td>a</td>\n",
              "      <td>9</td>\n",
              "      <td>10</td>\n",
              "    </tr>\n",
              "    <tr>\n",
              "      <th>5</th>\n",
              "      <td>two</td>\n",
              "      <td>b</td>\n",
              "      <td>11</td>\n",
              "      <td>12</td>\n",
              "    </tr>\n",
              "    <tr>\n",
              "      <th>6</th>\n",
              "      <td>two</td>\n",
              "      <td>c</td>\n",
              "      <td>13</td>\n",
              "      <td>14</td>\n",
              "    </tr>\n",
              "    <tr>\n",
              "      <th>7</th>\n",
              "      <td>two</td>\n",
              "      <td>d</td>\n",
              "      <td>15</td>\n",
              "      <td>16</td>\n",
              "    </tr>\n",
              "  </tbody>\n",
              "</table>\n",
              "</div>"
            ],
            "text/plain": [
              "  key1 key2  value1  value2\n",
              "0  one    a       1       2\n",
              "1  one    b       3       4\n",
              "2  one    c       5       6\n",
              "3  one    d       7       8\n",
              "4  two    a       9      10\n",
              "5  two    b      11      12\n",
              "6  two    c      13      14\n",
              "7  two    d      15      16"
            ]
          },
          "metadata": {
            "tags": []
          },
          "execution_count": 63
        }
      ]
    },
    {
      "cell_type": "code",
      "metadata": {
        "colab": {
          "base_uri": "https://localhost:8080/",
          "height": 328
        },
        "id": "kq0U8VNHdUKP",
        "outputId": "41d2475a-1c9f-43d5-ad4a-e849b2fc6f97"
      },
      "source": [
        "df.set_index(['key1','key2'])"
      ],
      "execution_count": 64,
      "outputs": [
        {
          "output_type": "execute_result",
          "data": {
            "text/html": [
              "<div>\n",
              "<style scoped>\n",
              "    .dataframe tbody tr th:only-of-type {\n",
              "        vertical-align: middle;\n",
              "    }\n",
              "\n",
              "    .dataframe tbody tr th {\n",
              "        vertical-align: top;\n",
              "    }\n",
              "\n",
              "    .dataframe thead th {\n",
              "        text-align: right;\n",
              "    }\n",
              "</style>\n",
              "<table border=\"1\" class=\"dataframe\">\n",
              "  <thead>\n",
              "    <tr style=\"text-align: right;\">\n",
              "      <th></th>\n",
              "      <th></th>\n",
              "      <th>value1</th>\n",
              "      <th>value2</th>\n",
              "    </tr>\n",
              "    <tr>\n",
              "      <th>key1</th>\n",
              "      <th>key2</th>\n",
              "      <th></th>\n",
              "      <th></th>\n",
              "    </tr>\n",
              "  </thead>\n",
              "  <tbody>\n",
              "    <tr>\n",
              "      <th rowspan=\"4\" valign=\"top\">one</th>\n",
              "      <th>a</th>\n",
              "      <td>1</td>\n",
              "      <td>2</td>\n",
              "    </tr>\n",
              "    <tr>\n",
              "      <th>b</th>\n",
              "      <td>3</td>\n",
              "      <td>4</td>\n",
              "    </tr>\n",
              "    <tr>\n",
              "      <th>c</th>\n",
              "      <td>5</td>\n",
              "      <td>6</td>\n",
              "    </tr>\n",
              "    <tr>\n",
              "      <th>d</th>\n",
              "      <td>7</td>\n",
              "      <td>8</td>\n",
              "    </tr>\n",
              "    <tr>\n",
              "      <th rowspan=\"4\" valign=\"top\">two</th>\n",
              "      <th>a</th>\n",
              "      <td>9</td>\n",
              "      <td>10</td>\n",
              "    </tr>\n",
              "    <tr>\n",
              "      <th>b</th>\n",
              "      <td>11</td>\n",
              "      <td>12</td>\n",
              "    </tr>\n",
              "    <tr>\n",
              "      <th>c</th>\n",
              "      <td>13</td>\n",
              "      <td>14</td>\n",
              "    </tr>\n",
              "    <tr>\n",
              "      <th>d</th>\n",
              "      <td>15</td>\n",
              "      <td>16</td>\n",
              "    </tr>\n",
              "  </tbody>\n",
              "</table>\n",
              "</div>"
            ],
            "text/plain": [
              "           value1  value2\n",
              "key1 key2                \n",
              "one  a          1       2\n",
              "     b          3       4\n",
              "     c          5       6\n",
              "     d          7       8\n",
              "two  a          9      10\n",
              "     b         11      12\n",
              "     c         13      14\n",
              "     d         15      16"
            ]
          },
          "metadata": {
            "tags": []
          },
          "execution_count": 64
        }
      ]
    },
    {
      "cell_type": "code",
      "metadata": {
        "id": "89YWDrT2dY3f"
      },
      "source": [
        ""
      ],
      "execution_count": 64,
      "outputs": []
    }
  ]
}